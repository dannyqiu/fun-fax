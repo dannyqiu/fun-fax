{
 "cells": [
  {
   "cell_type": "code",
   "execution_count": 1,
   "metadata": {},
   "outputs": [],
   "source": [
    "from collections import defaultdict\n",
    "from collections import Counter\n",
    "import json\n",
    "import math\n",
    "import string\n",
    "import time\n",
    "import numpy as np\n",
    "import pandas as pd\n",
    "import nltk\n",
    "from nltk.corpus import wordnet\n",
    "#nltk.download('wordnet')\n",
    "import spacy\n",
    "nlp = spacy.load('en_core_web_lg')\n",
    "\n",
    "from nltk.tokenize import TreebankWordTokenizer"
   ]
  },
  {
   "cell_type": "code",
   "execution_count": 2,
   "metadata": {},
   "outputs": [
    {
     "name": "stderr",
     "output_type": "stream",
     "text": [
      "/Library/Frameworks/Python.framework/Versions/3.7/lib/python3.7/site-packages/IPython/core/interactiveshell.py:3049: DtypeWarning: Columns (4,8,10,11,13,14,15,16,17,19,20,21,22,23,24,25,26,28,29,30,31,33,37,38,43,44,47,48,49,50,51,52,54,55,57,58,60,61,62,64,65,71,75,87,89,91,92,93,94,97,101,104,105,106,107,110,111,112,113,114,115,118,119,120,121,122,129,133,135,137,138,139,140,142,143,148,152,155,174,176,178,179,180,181,187,191,192,193,194,197,199,201,202,203,209) have mixed types. Specify dtype option on import or set low_memory=False.\n",
      "  interactivity=interactivity, compiler=compiler, result=result)\n"
     ]
    }
   ],
   "source": [
    "data = pd.read_csv(\"fun_fact_title.csv\")"
   ]
  },
  {
   "cell_type": "code",
   "execution_count": 3,
   "metadata": {},
   "outputs": [],
   "source": [
    "documents = data[\"title\"].tolist()\n",
    "score = data [\"score\"].tolist()"
   ]
  },
  {
   "cell_type": "code",
   "execution_count": 4,
   "metadata": {},
   "outputs": [],
   "source": [
    "doc_dict = {}\n",
    "for i in range(len(documents)):\n",
    "    doc_dict[i] = documents[i]"
   ]
  },
  {
   "cell_type": "code",
   "execution_count": 5,
   "metadata": {},
   "outputs": [],
   "source": [
    "#build inverted index\n",
    "inverted_idx = defaultdict(list)\n",
    "for d in range(len(documents)):\n",
    "    words = documents[d].split()\n",
    "    #for w in words:\n",
    "        #inverted_idx[w.lower()] += 1\n",
    "    c = Counter(words)\n",
    "    for w in c:\n",
    "        #inverted_idx[w.lower()].append((d, c[w]))\n",
    "        inverted_idx[w.lower()].append(d)"
   ]
  },
  {
   "cell_type": "code",
   "execution_count": 6,
   "metadata": {},
   "outputs": [],
   "source": []
  },
  {
   "cell_type": "code",
   "execution_count": 7,
   "metadata": {},
   "outputs": [],
   "source": [
    "vocab = [w for w in nlp.vocab if w.is_lower and w.prob >= -15 and w.vector.any()]\n",
    "def most_similar(word, top=10):\n",
    "    by_similarity = sorted(vocab, key=lambda w: word.similarity(w), reverse=True)\n",
    "    return by_similarity[:top]"
   ]
  },
  {
   "cell_type": "code",
   "execution_count": 8,
   "metadata": {},
   "outputs": [],
   "source": [
    "#query = \"apple\"\n",
    "#synonyms = set(most_similar(query))\n",
    "def booleanSearchWithSyn(query):\n",
    "    queries = query.split()\n",
    "    doc_num = set()\n",
    "    for word in queries:\n",
    "        synonyms = set([w.lower_ for w in most_similar(nlp.vocab[word])])\n",
    "        synonyms.remove(word)\n",
    "        syn_words = set()\n",
    "        for syn in synonyms:\n",
    "            x = set(inverted_idx[syn]) #set of integers  \n",
    "            syn_words = syn_words.union(x)\n",
    "        if len(doc_num) == 0:\n",
    "            doc_num = syn_words\n",
    "        else:\n",
    "            doc_num = doc_num.intersection(syn_words)\n",
    "    return doc_num\n",
    "#doc_num_syn = booleanSearchWithSyn(query)"
   ]
  },
  {
   "cell_type": "code",
   "execution_count": 9,
   "metadata": {},
   "outputs": [],
   "source": [
    "def booleanSearch(query):\n",
    "    queries = query.split()\n",
    "    doc_num = set()\n",
    "    for word in queries:\n",
    "        x = set(inverted_idx[word]) #set of integers  \n",
    "        if len(doc_num) == 0:\n",
    "            doc_num = x\n",
    "        else:\n",
    "            doc_num = doc_num.intersection(x)\n",
    "    return doc_num\n",
    "#doc_num = booleanSearch(query)"
   ]
  },
  {
   "cell_type": "code",
   "execution_count": 25,
   "metadata": {},
   "outputs": [
    {
     "name": "stdout",
     "output_type": "stream",
     "text": [
      "0\n",
      "SYN\n",
      "Fun Fact: Hidden inside Grand Central Station, in New York, is the Vanderbilt Tennis Club.\n",
      "Fun fact I just learned: EVERY baseball used in MLB (and the minors) MUST be rubbed down with mud from a specific area of the New Jersey side of the Delaware River...\n",
      "Fun fact I just learned: EVERY baseball used in MLB (and the minors) MUST be first rubbed down with mud from a specific area of the New Jersey side of the Delaware River...\n",
      "3\n"
     ]
    }
   ],
   "source": [
    "def rankResults(doc_num):\n",
    "    relevant = []\n",
    "    for d in doc_num:\n",
    "        relevant.append((d, score[d]))\n",
    "    relevant.sort(key=lambda x: x[1], reverse = True)\n",
    "    return relevant\n",
    "\n",
    "def search(query, top = 10):\n",
    "    query = query.lower()\n",
    "    doc_num = booleanSearch(query)\n",
    "    rel = rankResults(doc_num)[:top]\n",
    "    if len(doc_num) < top:\n",
    "        doc_num_syn = booleanSearchWithSyn(query)\n",
    "        rel_syn = rankResults(doc_num_syn)\n",
    "        for i in rel_syn:\n",
    "            if len(rel) < top:\n",
    "                if i not in rel:\n",
    "                    rel.append(i)\n",
    "            else:\n",
    "                break\n",
    "    results = []\n",
    "    for r,_ in rel:\n",
    "        results.append(doc_dict[r])\n",
    "        #print (doc_dict[r])\n",
    "\n",
    "search(\"basketball space\")"
   ]
  },
  {
   "cell_type": "code",
   "execution_count": null,
   "metadata": {},
   "outputs": [],
   "source": []
  },
  {
   "cell_type": "code",
   "execution_count": null,
   "metadata": {},
   "outputs": [],
   "source": []
  },
  {
   "cell_type": "code",
   "execution_count": null,
   "metadata": {},
   "outputs": [],
   "source": []
  },
  {
   "cell_type": "code",
   "execution_count": null,
   "metadata": {},
   "outputs": [],
   "source": []
  },
  {
   "cell_type": "code",
   "execution_count": null,
   "metadata": {},
   "outputs": [],
   "source": []
  },
  {
   "cell_type": "code",
   "execution_count": null,
   "metadata": {},
   "outputs": [],
   "source": []
  },
  {
   "cell_type": "code",
   "execution_count": null,
   "metadata": {},
   "outputs": [],
   "source": []
  },
  {
   "cell_type": "code",
   "execution_count": null,
   "metadata": {},
   "outputs": [],
   "source": []
  }
 ],
 "metadata": {
  "kernelspec": {
   "display_name": "Python 3",
   "language": "python",
   "name": "python3"
  },
  "language_info": {
   "codemirror_mode": {
    "name": "ipython",
    "version": 3
   },
   "file_extension": ".py",
   "mimetype": "text/x-python",
   "name": "python",
   "nbconvert_exporter": "python",
   "pygments_lexer": "ipython3",
   "version": "3.7.2"
  }
 },
 "nbformat": 4,
 "nbformat_minor": 2
}
