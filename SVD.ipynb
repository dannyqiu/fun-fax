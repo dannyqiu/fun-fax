{
 "cells": [
  {
   "cell_type": "code",
   "execution_count": 24,
   "metadata": {},
   "outputs": [],
   "source": [
    "from __future__ import print_function\n",
    "import numpy as np\n",
    "import json\n",
    "import csv\n",
    "\n",
    "from sklearn.feature_extraction.text import TfidfVectorizer\n",
    "from scipy.sparse.linalg import svds\n",
    "import matplotlib\n",
    "import numpy as np\n",
    "import matplotlib.pyplot as plt\n",
    "%matplotlib inline\n",
    "from sklearn.preprocessing import normalize\n",
    "from sklearn.manifold import TSNE"
   ]
  },
  {
   "cell_type": "code",
   "execution_count": 25,
   "metadata": {},
   "outputs": [
    {
     "name": "stdout",
     "output_type": "stream",
     "text": [
      "['title', 'TIL After Col. Shaw died in battle, Confederates buried him in a mass grave as an insult for leading black soldiers. Union troops tried to recover his body, but his father sent a letter saying \"We would not have his body removed from where it lies surrounded by his brave and devoted soldiers.\"', 'TIL that in 1916 there was a proposed Amendment to the US Constitution that would put all acts of war to a national vote, and anyone voting yes would have to register as a volunteer for service in the United States Army.']\n"
     ]
    }
   ],
   "source": [
    "documents = []\n",
    "with open(\"data.csv\") as csv_file:\n",
    "    csv_reader = csv.reader(csv_file, delimiter=',')\n",
    "    line_count = 0\n",
    "    for row in csv_reader:\n",
    "        documents.append(row[1])\n",
    "print (documents[:3])"
   ]
  },
  {
   "cell_type": "code",
   "execution_count": 6,
   "metadata": {},
   "outputs": [],
   "source": [
    "vectorizer = TfidfVectorizer()\n",
    "my_matrix = vectorizer.fit_transform([x for x in documents]).transpose()"
   ]
  },
  {
   "cell_type": "code",
   "execution_count": 7,
   "metadata": {},
   "outputs": [
    {
     "name": "stdout",
     "output_type": "stream",
     "text": [
      "<class 'scipy.sparse.csc.csc_matrix'>\n",
      "(12488, 3016)\n"
     ]
    }
   ],
   "source": [
    "print(type(my_matrix))\n",
    "print(my_matrix.shape)"
   ]
  },
  {
   "cell_type": "code",
   "execution_count": 10,
   "metadata": {},
   "outputs": [
    {
     "name": "stdout",
     "output_type": "stream",
     "text": [
      "(12488, 100)\n",
      "(100,)\n",
      "(100, 3016)\n"
     ]
    }
   ],
   "source": [
    "u, s, v_trans = svds(my_matrix, k=100)\n",
    "print(u.shape)\n",
    "print(s.shape)\n",
    "print(v_trans.shape)"
   ]
  },
  {
   "cell_type": "code",
   "execution_count": 11,
   "metadata": {},
   "outputs": [
    {
     "data": {
      "image/png": "[encoded data removed]",
      "text/plain": [
       "<Figure size 432x288 with 1 Axes>"
      ]
     },
     "metadata": {
      "needs_background": "light"
     },
     "output_type": "display_data"
    }
   ],
   "source": [
    "plt.plot(s[::-1])\n",
    "plt.xlabel(\"Singular value number\")\n",
    "plt.ylabel(\"Singular value\")\n",
    "plt.show()"
   ]
  },
  {
   "cell_type": "code",
   "execution_count": 12,
   "metadata": {},
   "outputs": [
    {
     "name": "stdout",
     "output_type": "stream",
     "text": [
      "(12488, 40)\n",
      "(3016, 40)\n"
     ]
    }
   ],
   "source": [
    "words_compressed, _, docs_compressed = svds(my_matrix, k=40)\n",
    "docs_compressed = docs_compressed.transpose()\n",
    "print(words_compressed.shape)\n",
    "print(docs_compressed.shape)"
   ]
  },
  {
   "cell_type": "code",
   "execution_count": 13,
   "metadata": {},
   "outputs": [
    {
     "name": "stdout",
     "output_type": "stream",
     "text": [
      "(12488, 40)\n"
     ]
    }
   ],
   "source": [
    "word_to_index = vectorizer.vocabulary_\n",
    "index_to_word = {i:t for t,i in word_to_index.items()}\n",
    "print(words_compressed.shape)"
   ]
  },
  {
   "cell_type": "code",
   "execution_count": 15,
   "metadata": {},
   "outputs": [],
   "source": [
    "#row normalize\n",
    "words_compressed = normalize(words_compressed, axis = 1)"
   ]
  },
  {
   "cell_type": "code",
   "execution_count": 16,
   "metadata": {},
   "outputs": [],
   "source": [
    "def closest_words(word_in, k = 10):\n",
    "    if word_in not in word_to_index: return \"Not in vocab.\"\n",
    "    sims = words_compressed.dot(words_compressed[word_to_index[word_in],:])\n",
    "    asort = np.argsort(-sims)[:k+1]\n",
    "    return [(index_to_word[i],sims[i]/sims[asort[0]]) for i in asort[1:]]"
   ]
  },
  {
   "cell_type": "code",
   "execution_count": 17,
   "metadata": {},
   "outputs": [
    {
     "data": {
      "text/plain": [
       "[('unharvested', 0.6358761761029482),\n",
       " ('edges', 0.6292976842912237),\n",
       " ('persons', 0.6235739030170236),\n",
       " ('unacceptable', 0.6235739030170236),\n",
       " ('artwork', 0.6217076612776958),\n",
       " ('bumpsy', 0.6190920508136389),\n",
       " ('lover', 0.6094803412389448),\n",
       " ('leaned', 0.6094803412389448),\n",
       " ('nymphs', 0.6094803412389448),\n",
       " ('hylas', 0.6094803412389448)]"
      ]
     },
     "execution_count": 17,
     "metadata": {},
     "output_type": "execute_result"
    }
   ],
   "source": [
    "closest_words(\"technology\")"
   ]
  },
  {
   "cell_type": "code",
   "execution_count": 19,
   "metadata": {},
   "outputs": [],
   "source": [
    "tsne = TSNE(verbose=1)"
   ]
  },
  {
   "cell_type": "code",
   "execution_count": 20,
   "metadata": {},
   "outputs": [
    {
     "name": "stdout",
     "output_type": "stream",
     "text": [
      "(3016, 40)\n",
      "[t-SNE] Computing 91 nearest neighbors...\n",
      "[t-SNE] Indexed 3016 samples in 0.003s...\n",
      "[t-SNE] Computed neighbors for 3016 samples in 0.758s...\n",
      "[t-SNE] Computed conditional probabilities for sample 1000 / 3016\n",
      "[t-SNE] Computed conditional probabilities for sample 2000 / 3016\n",
      "[t-SNE] Computed conditional probabilities for sample 3000 / 3016\n",
      "[t-SNE] Computed conditional probabilities for sample 3016 / 3016\n",
      "[t-SNE] Mean sigma: 0.032603\n",
      "[t-SNE] KL divergence after 250 iterations with early exaggeration: 83.099808\n",
      "[t-SNE] KL divergence after 1000 iterations: 2.335893\n",
      "(3016, 2)\n"
     ]
    }
   ],
   "source": [
    "print(docs_compressed.shape)\n",
    "#we'll just take the first 5K documents, because TSNE is memory intensive!\n",
    "subset = docs_compressed[:5000,:]\n",
    "projected_docs = tsne.fit_transform(subset)\n",
    "print(projected_docs.shape)"
   ]
  },
  {
   "cell_type": "code",
   "execution_count": 21,
   "metadata": {},
   "outputs": [],
   "source": [
    "docs_compressed = normalize(docs_compressed, axis = 1)\n",
    "def closest_projects(word, k = 5):\n",
    "    sims = docs_compressed.dot(words_compressed[word_to_index[word],:])\n",
    "    asort = np.argsort(-sims)[:k+1]\n",
    "    return [(documents[i],sims[i]/sims[asort[0]]) for i in asort[1:]]"
   ]
  },
  {
   "cell_type": "code",
   "execution_count": 22,
   "metadata": {},
   "outputs": [
    {
     "name": "stdout",
     "output_type": "stream",
     "text": [
      "TIL Osborne Computers (1983) announced their improved new computer too early. People stopped buying the current one. It took so long for the new one to be released that the company went bankrupt.:0.941\n",
      "\n",
      "\n",
      "Its funny how english people use the word résumé (a french word) but we french people, use the word curriculum vitae instead (a latin word)...:0.889\n",
      "\n",
      "\n",
      "TIL The German Parliament building has a glass dome above it that people can climb using a spiral ramp. The dome symbolizes that the people are above the government, and the government should be transparent.:0.836\n",
      "\n",
      "\n",
      "Fun Fact: Shortest people on average (men):0.832\n",
      "\n",
      "\n",
      "Fun Fact: The German Parliament building has a glass dome above it that people can climb using a spiral ramp. The dome symbolises that the people are above the government, and the government should be transparent.:0.814\n",
      "\n",
      "\n",
      "\n"
     ]
    }
   ],
   "source": [
    "for title, score in closest_projects(\"computer\"):\n",
    "    print(\"{}:{:.3f}\".format(title, score))\n",
    "    print (\"\\n\")\n",
    "print()"
   ]
  },
  {
   "cell_type": "code",
   "execution_count": null,
   "metadata": {},
   "outputs": [],
   "source": []
  }
 ],
 "metadata": {
  "kernelspec": {
   "display_name": "Python 3",
   "language": "python",
   "name": "python3"
  },
  "language_info": {
   "codemirror_mode": {
    "name": "ipython",
    "version": 3
   },
   "file_extension": ".py",
   "mimetype": "text/x-python",
   "name": "python",
   "nbconvert_exporter": "python",
   "pygments_lexer": "ipython3",
   "version": "3.7.2"
  }
 },
 "nbformat": 4,
 "nbformat_minor": 2
}
