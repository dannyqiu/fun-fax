{
 "cells": [
  {
   "cell_type": "code",
   "execution_count": 1,
   "metadata": {},
   "outputs": [],
   "source": [
    "from __future__ import print_function\n",
    "import numpy as np\n",
    "import json\n",
    "import csv\n",
    "\n",
    "from sklearn.feature_extraction.text import TfidfVectorizer\n",
    "from scipy.sparse.linalg import svds\n",
    "import matplotlib\n",
    "import numpy as np\n",
    "import matplotlib.pyplot as plt\n",
    "%matplotlib inline\n",
    "from sklearn.preprocessing import normalize\n",
    "from sklearn.manifold import TSNE"
   ]
  },
  {
   "cell_type": "code",
   "execution_count": 2,
   "metadata": {},
   "outputs": [
    {
     "name": "stdout",
     "output_type": "stream",
     "text": [
      "['title', 'TIL After Col. Shaw died in battle, Confederates buried him in a mass grave as an insult for leading black soldiers. Union troops tried to recover his body, but his father sent a letter saying \"We would not have his body removed from where it lies surrounded by his brave and devoted soldiers.\"', 'TIL that in 1916 there was a proposed Amendment to the US Constitution that would put all acts of war to a national vote, and anyone voting yes would have to register as a volunteer for service in the United States Army.']\n"
     ]
    }
   ],
   "source": [
    "documents = []\n",
    "with open(\"data.csv\") as csv_file:\n",
    "    csv_reader = csv.reader(csv_file, delimiter=',')\n",
    "    line_count = 0\n",
    "    for row in csv_reader:\n",
    "        documents.append(row[1])\n",
    "print (documents[:3])"
   ]
  },
  {
   "cell_type": "code",
   "execution_count": 3,
   "metadata": {},
   "outputs": [],
   "source": [
    "vectorizer = TfidfVectorizer(stop_words = 'english')\n",
    "my_matrix = vectorizer.fit_transform([x for x in documents]).transpose()"
   ]
  },
  {
   "cell_type": "code",
   "execution_count": 4,
   "metadata": {},
   "outputs": [
    {
     "name": "stdout",
     "output_type": "stream",
     "text": [
      "<class 'scipy.sparse.csc.csc_matrix'>\n",
      "(12217, 3016)\n"
     ]
    }
   ],
   "source": [
    "print(type(my_matrix))\n",
    "print(my_matrix.shape)"
   ]
  },
  {
   "cell_type": "code",
   "execution_count": 5,
   "metadata": {},
   "outputs": [
    {
     "name": "stdout",
     "output_type": "stream",
     "text": [
      "(12217, 100)\n",
      "(100,)\n",
      "(100, 3016)\n"
     ]
    }
   ],
   "source": [
    "u, s, v_trans = svds(my_matrix, k=100)\n",
    "print(u.shape)\n",
    "print(s.shape)\n",
    "print(v_trans.shape)"
   ]
  },
  {
   "cell_type": "code",
   "execution_count": 6,
   "metadata": {},
   "outputs": [
    {
     "data": {
      "image/png": "[encoded data removed]",
      "text/plain": [
       "<Figure size 432x288 with 1 Axes>"
      ]
     },
     "metadata": {
      "needs_background": "light"
     },
     "output_type": "display_data"
    }
   ],
   "source": [
    "plt.plot(s[::-1])\n",
    "plt.xlabel(\"Singular value number\")\n",
    "plt.ylabel(\"Singular value\")\n",
    "plt.show()"
   ]
  },
  {
   "cell_type": "code",
   "execution_count": 7,
   "metadata": {},
   "outputs": [
    {
     "name": "stdout",
     "output_type": "stream",
     "text": [
      "(12217, 40)\n",
      "(3016, 40)\n"
     ]
    }
   ],
   "source": [
    "words_compressed, _, docs_compressed = svds(my_matrix, k=40)\n",
    "docs_compressed = docs_compressed.transpose()\n",
    "print(words_compressed.shape)\n",
    "print(docs_compressed.shape)"
   ]
  },
  {
   "cell_type": "code",
   "execution_count": 8,
   "metadata": {},
   "outputs": [
    {
     "name": "stdout",
     "output_type": "stream",
     "text": [
      "(12217, 40)\n"
     ]
    }
   ],
   "source": [
    "word_to_index = vectorizer.vocabulary_\n",
    "index_to_word = {i:t for t,i in word_to_index.items()}\n",
    "print(words_compressed.shape)"
   ]
  },
  {
   "cell_type": "code",
   "execution_count": 9,
   "metadata": {},
   "outputs": [],
   "source": [
    "#row normalize\n",
    "words_compressed = normalize(words_compressed, axis = 1)"
   ]
  },
  {
   "cell_type": "code",
   "execution_count": 10,
   "metadata": {},
   "outputs": [],
   "source": [
    "def closest_words(word_in, k = 10):\n",
    "    if word_in not in word_to_index: return \"Not in vocab.\"\n",
    "    sims = words_compressed.dot(words_compressed[word_to_index[word_in],:])\n",
    "    asort = np.argsort(-sims)[:k+1]\n",
    "    return [(index_to_word[i],sims[i]/sims[asort[0]]) for i in asort[1:]]"
   ]
  },
  {
   "cell_type": "code",
   "execution_count": 11,
   "metadata": {},
   "outputs": [
    {
     "data": {
      "text/plain": [
       "[('worry', 0.8633819570978184),\n",
       " ('racket', 0.8633819570978184),\n",
       " ('kitties', 0.8633819570978184),\n",
       " ('absorbable', 0.8633819570978184),\n",
       " ('catgut', 0.8633819570978184),\n",
       " ('violins', 0.8633819570978184),\n",
       " ('stitches', 0.8633819570978184),\n",
       " ('violin', 0.8633819570978184),\n",
       " ('swe', 0.862945014590262),\n",
       " ('wc', 0.862945014590262)]"
      ]
     },
     "execution_count": 11,
     "metadata": {},
     "output_type": "execute_result"
    }
   ],
   "source": [
    "closest_words(\"technology\")"
   ]
  },
  {
   "cell_type": "code",
   "execution_count": 12,
   "metadata": {},
   "outputs": [],
   "source": [
    "tsne = TSNE(verbose=1)"
   ]
  },
  {
   "cell_type": "code",
   "execution_count": 13,
   "metadata": {},
   "outputs": [
    {
     "name": "stdout",
     "output_type": "stream",
     "text": [
      "(3016, 40)\n",
      "[t-SNE] Computing 91 nearest neighbors...\n",
      "[t-SNE] Indexed 3016 samples in 0.008s...\n",
      "[t-SNE] Computed neighbors for 3016 samples in 0.817s...\n",
      "[t-SNE] Computed conditional probabilities for sample 1000 / 3016\n",
      "[t-SNE] Computed conditional probabilities for sample 2000 / 3016\n",
      "[t-SNE] Computed conditional probabilities for sample 3000 / 3016\n",
      "[t-SNE] Computed conditional probabilities for sample 3016 / 3016\n",
      "[t-SNE] Mean sigma: 0.019698\n",
      "[t-SNE] KL divergence after 250 iterations with early exaggeration: 80.467384\n",
      "[t-SNE] KL divergence after 1000 iterations: 1.425595\n",
      "(3016, 2)\n"
     ]
    }
   ],
   "source": [
    "print(docs_compressed.shape)\n",
    "#we'll just take the first 5K documents, because TSNE is memory intensive!\n",
    "subset = docs_compressed[:5000,:]\n",
    "projected_docs = tsne.fit_transform(subset)\n",
    "print(projected_docs.shape)"
   ]
  },
  {
   "cell_type": "code",
   "execution_count": 14,
   "metadata": {},
   "outputs": [],
   "source": [
    "docs_compressed = normalize(docs_compressed, axis = 1)\n",
    "def closest_projects(word, k = 5):\n",
    "    sims = docs_compressed.dot(words_compressed[word_to_index[word],:])\n",
    "    asort = np.argsort(-sims)[:k+1]\n",
    "    return [(documents[i],sims[i]/sims[asort[0]]) for i in asort[1:]]"
   ]
  },
  {
   "cell_type": "code",
   "execution_count": 15,
   "metadata": {},
   "outputs": [
    {
     "name": "stdout",
     "output_type": "stream",
     "text": [
      "TIL Blind people are able to 'read' text output on a computer using a refreshable braille display.:0.925\n",
      "\n",
      "\n",
      "TIL Robert De Niro prepared for his role in 'Taxi Driver' by obtaining a New York taxi license and spending a month working up to 14 hour shifts picking people up all over New York.:0.913\n",
      "\n",
      "\n",
      "Fun Fact: No more than 40 people live 800 feet (243 m) above the ground of New York City. It's an exclusive privilege for the super rich.:0.842\n",
      "\n",
      "\n",
      "TIL 19% of people believe that polygamy is morally acceptable in the U.S:0.808\n",
      "\n",
      "\n",
      "TIL subway escalators can transport about 30% more people if everybody stands, rather than having a standing lane and a walking lane.:0.802\n",
      "\n",
      "\n",
      "\n"
     ]
    }
   ],
   "source": [
    "for title, score in closest_projects(\"computer\"):\n",
    "    print(\"{}:{:.3f}\".format(title, score))\n",
    "    print (\"\\n\")\n",
    "print()"
   ]
  },
  {
   "cell_type": "code",
   "execution_count": null,
   "metadata": {},
   "outputs": [],
   "source": []
  },
  {
   "cell_type": "code",
   "execution_count": null,
   "metadata": {},
   "outputs": [],
   "source": []
  }
 ],
 "metadata": {
  "kernelspec": {
   "display_name": "Python 3",
   "language": "python",
   "name": "python3"
  },
  "language_info": {
   "codemirror_mode": {
    "name": "ipython",
    "version": 3
   },
   "file_extension": ".py",
   "mimetype": "text/x-python",
   "name": "python",
   "nbconvert_exporter": "python",
   "pygments_lexer": "ipython3",
   "version": "3.7.2"
  }
 },
 "nbformat": 4,
 "nbformat_minor": 2
}
