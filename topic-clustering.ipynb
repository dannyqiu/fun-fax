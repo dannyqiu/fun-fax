{
 "cells": [
  {
   "cell_type": "markdown",
   "metadata": {},
   "source": [
    "## USE THE NEW CSV FROM DRIVE"
   ]
  },
  {
   "cell_type": "code",
   "execution_count": 174,
   "metadata": {},
   "outputs": [],
   "source": [
    "import pandas as pd\n",
    "import spacy\n",
    "import re\n",
    "from collections import defaultdict\n",
    "from nltk.stem import WordNetLemmatizer"
   ]
  },
  {
   "cell_type": "code",
   "execution_count": 132,
   "metadata": {},
   "outputs": [],
   "source": [
    "data = pd.read_csv(\"edited.csv\")"
   ]
  },
  {
   "cell_type": "code",
   "execution_count": 133,
   "metadata": {},
   "outputs": [],
   "source": [
    "documents = data[\"title\"].tolist()\n",
    "score = data [\"score\"].tolist()\n",
    "subreddit = data[\"subreddit\"].tolist()\n",
    "permalink = data[\"permalink\"].tolist()"
   ]
  },
  {
   "cell_type": "code",
   "execution_count": null,
   "metadata": {},
   "outputs": [],
   "source": []
  },
  {
   "cell_type": "code",
   "execution_count": null,
   "metadata": {},
   "outputs": [],
   "source": []
  },
  {
   "cell_type": "code",
   "execution_count": 134,
   "metadata": {},
   "outputs": [],
   "source": [
    "#build inverted index for subreddits\n",
    "inverted_idx = defaultdict(list)\n",
    "for d in range(len(subreddit)):\n",
    "    #print (type(subreddit[d]))\n",
    "    inverted_idx[subreddit[d]].append(d)"
   ]
  },
  {
   "cell_type": "code",
   "execution_count": 175,
   "metadata": {},
   "outputs": [],
   "source": [
    "lemmatizer = WordNetLemmatizer()"
   ]
  },
  {
   "cell_type": "code",
   "execution_count": 135,
   "metadata": {
    "scrolled": true
   },
   "outputs": [],
   "source": [
    "a = data[\"content_categories\"].dropna()"
   ]
  },
  {
   "cell_type": "code",
   "execution_count": 136,
   "metadata": {},
   "outputs": [],
   "source": [
    "categories = defaultdict(list)\n",
    "for idx, lst in a.iteritems():\n",
    "    c = lst.replace('[', \"\").replace(\"]\", \"\").replace('\\'', \"\").replace(\" \", \"\")\n",
    "    l = c.split(\",\")\n",
    "    for i in l:\n",
    "        categories[i].append(idx)"
   ]
  },
  {
   "cell_type": "code",
   "execution_count": 176,
   "metadata": {},
   "outputs": [],
   "source": [
    "init = list(categories.keys())\n",
    "topics = {i:set() for i in init}\n",
    "for key in categories:\n",
    "    for idx in categories[key]:\n",
    "        topics[key].add(data.iloc[idx][\"subreddit\"])\n",
    "    topics[key].add(lemmatizer.lemmatize(key))"
   ]
  },
  {
   "cell_type": "code",
   "execution_count": 177,
   "metadata": {},
   "outputs": [
    {
     "data": {
      "text/plain": [
       "{'funny': {'funny', 'lol'},\n",
       " 'gaming': {'2007scape',\n",
       "  'AFL',\n",
       "  'Battlecars',\n",
       "  'CODZombies',\n",
       "  'ClashRoyale',\n",
       "  'DBZDokkanBattle',\n",
       "  'DarkSouls2',\n",
       "  'DestinyTheGame',\n",
       "  'Diablo',\n",
       "  'DnD',\n",
       "  'DotA2',\n",
       "  'EndlessFrontier',\n",
       "  'Eve',\n",
       "  'FifaVideos',\n",
       "  'FireEmblemHeroes',\n",
       "  'FryeMadden',\n",
       "  'FryeMadden2',\n",
       "  'FuturamaWOTgame',\n",
       "  'GamePhysics',\n",
       "  'GamerVideos',\n",
       "  'GlobalOffensive',\n",
       "  'Guildwars2',\n",
       "  'Infinitewarfare',\n",
       "  'MaddenCC',\n",
       "  'MaddenUltimateTeam',\n",
       "  'Minecraft',\n",
       "  'NintendoSwitch',\n",
       "  'NoMansSkyTheGame',\n",
       "  'OpTicGaming',\n",
       "  'Overwatch',\n",
       "  'PS4',\n",
       "  'PUBATTLEGROUNDS',\n",
       "  'Planetside',\n",
       "  'Rockband',\n",
       "  'RocketLeague',\n",
       "  'Smite',\n",
       "  'StarWarsBattlefront',\n",
       "  'Steam',\n",
       "  'TeamSolomid',\n",
       "  'Terraria',\n",
       "  'WorldOfWarships',\n",
       "  'Yogscast',\n",
       "  'bloodborne',\n",
       "  'boardgames',\n",
       "  'csgojerk',\n",
       "  'darksouls3',\n",
       "  'dragonquest',\n",
       "  'fnafcringe',\n",
       "  'gaming',\n",
       "  'gamingvids',\n",
       "  'gtaonline',\n",
       "  'hediyhstone',\n",
       "  'incremental_games',\n",
       "  'leagueoflegends',\n",
       "  'magicTCG',\n",
       "  'nintendo',\n",
       "  'osugame',\n",
       "  'pm_your_pokemon_team',\n",
       "  'reddeadredemption',\n",
       "  'runescape',\n",
       "  'skyrim',\n",
       "  'smashbros',\n",
       "  'splatoon',\n",
       "  'starcraft',\n",
       "  'tf2',\n",
       "  'titanfall',\n",
       "  'twitchplayspokemon',\n",
       "  'unturned',\n",
       "  'videogamedunkey',\n",
       "  'worldbuilding'},\n",
       " 'sports': {'AFLCircleJerk',\n",
       "  'Cardinals',\n",
       "  'CollegeBasketball',\n",
       "  'DenverBroncos',\n",
       "  'FloridaGators',\n",
       "  'GreenBayPackers',\n",
       "  'LiverpoolFC',\n",
       "  'MMA',\n",
       "  'NASCAR',\n",
       "  'NFL_Draft',\n",
       "  'NYKnicks',\n",
       "  'NewYorkMets',\n",
       "  'Patriots',\n",
       "  'Seahawks',\n",
       "  'atheism',\n",
       "  'baseball',\n",
       "  'baseballcirclejerk',\n",
       "  'baseballtrivia',\n",
       "  'denvernuggets',\n",
       "  'discgolf',\n",
       "  'eagles',\n",
       "  'hockey',\n",
       "  'horseracing',\n",
       "  'losangeleskings',\n",
       "  'miamidolphins',\n",
       "  'nba',\n",
       "  'nbacirclejerk',\n",
       "  'nfl',\n",
       "  'nflcirclejerk',\n",
       "  'nyjets',\n",
       "  'soccer',\n",
       "  'sport',\n",
       "  'sports',\n",
       "  'sports_undelete',\n",
       "  'tennis',\n",
       "  'ussoccer'},\n",
       " 'photography': {'PicsOlf', 'iPhoneography', 'photography', 'pics'},\n",
       " 'animals': {'AdviceAnimals',\n",
       "  'YayAnimalPix',\n",
       "  'animal',\n",
       "  'aww',\n",
       "  'bengals',\n",
       "  'dogs',\n",
       "  'whales'},\n",
       " 'politics': {'Conservative',\n",
       "  'MarchAgainstTrump',\n",
       "  'POLITIC',\n",
       "  'SandersForPresident',\n",
       "  'TheDonaldNews',\n",
       "  'The_Donald',\n",
       "  'politics'},\n",
       " 'entertainment': {'AmericanHorrorStory',\n",
       "  'FlashTV',\n",
       "  'HouseOfCards',\n",
       "  'JeffandSomeAliens',\n",
       "  'KimmySchmidt',\n",
       "  'MTVScream',\n",
       "  'Music',\n",
       "  'OnePieceTC',\n",
       "  'OnePunchMan',\n",
       "  'PrettyLittleLiars',\n",
       "  'RWBY',\n",
       "  'Sherlock',\n",
       "  'SmallYTChannel',\n",
       "  'StarWars',\n",
       "  'TaylorSwift',\n",
       "  'That70sshow',\n",
       "  'TheAmazingRace',\n",
       "  'anime',\n",
       "  'caseyneistat',\n",
       "  'disney',\n",
       "  'doctorwho',\n",
       "  'entertainment',\n",
       "  'gamemusic',\n",
       "  'gameofthrones',\n",
       "  'japanesemusic',\n",
       "  'movies',\n",
       "  'nancydrew',\n",
       "  'powerrangers',\n",
       "  'rickandmorty',\n",
       "  'seinfeld',\n",
       "  'television',\n",
       "  'the_oc',\n",
       "  'thesopranos',\n",
       "  'transformers',\n",
       "  'westworld',\n",
       "  'youtubehaiku'},\n",
       " 'meme': {'DankMemeArchive', 'dankmemes', 'meme', 'memes'},\n",
       " 'funfacts': {'AskReddit',\n",
       "  'ShitRedditSays',\n",
       "  'Showerthoughts',\n",
       "  'WTF',\n",
       "  'funfacts',\n",
       "  'mildlyinteresting',\n",
       "  'reddit.com',\n",
       "  'todayilearned'},\n",
       " 'comics': {'comic', 'comicbooks', 'comics', 'webcomics'},\n",
       " 'entertinment': {'entertinment', 'panicatthedisco'},\n",
       " 'cars': {'CherokeeXJ', 'car'},\n",
       " 'entertaiment': {'FlashTV',\n",
       "  'ScreamQueensTV',\n",
       "  'beatles',\n",
       "  'entertaiment',\n",
       "  'thedoors',\n",
       "  'yugioh'},\n",
       " 'enterainment': {'TheLastAirbender', 'enterainment'},\n",
       " 'art': {'art', 'learnart'},\n",
       " 'diy': {'diy', 'learnart'},\n",
       " 'writing': {'HFY', 'writing'}}"
      ]
     },
     "execution_count": 177,
     "metadata": {},
     "output_type": "execute_result"
    }
   ],
   "source": [
    "topics"
   ]
  },
  {
   "cell_type": "code",
   "execution_count": 178,
   "metadata": {},
   "outputs": [
    {
     "name": "stdout",
     "output_type": "stream",
     "text": [
      "{'lol': 'funny', 'funny': 'funny', 'NintendoSwitch': 'gaming', 'gaming': 'gaming', 'unturned': 'gaming', 'GlobalOffensive': 'gaming', 'splatoon': 'gaming', 'Yogscast': 'gaming', 'Battlecars': 'gaming', 'Infinitewarfare': 'gaming', 'dragonquest': 'gaming', 'PUBATTLEGROUNDS': 'gaming', 'DnD': 'gaming', 'runescape': 'gaming', 'FifaVideos': 'gaming', 'starcraft': 'gaming', '2007scape': 'gaming', 'Guildwars2': 'gaming', 'skyrim': 'gaming', 'titanfall': 'gaming', 'DBZDokkanBattle': 'gaming', 'twitchplayspokemon': 'gaming', 'fnafcringe': 'gaming', 'gamingvids': 'gaming', 'MaddenUltimateTeam': 'gaming', 'GamerVideos': 'gaming', 'WorldOfWarships': 'gaming', 'Eve': 'gaming', 'Steam': 'gaming', 'magicTCG': 'gaming', 'reddeadredemption': 'gaming', 'Diablo': 'gaming', 'Smite': 'gaming', 'worldbuilding': 'gaming', 'Minecraft': 'gaming', 'ClashRoyale': 'gaming', 'boardgames': 'gaming', 'Overwatch': 'gaming', 'pm_your_pokemon_team': 'gaming', 'CODZombies': 'gaming', 'NoMansSkyTheGame': 'gaming', 'smashbros': 'gaming', 'DotA2': 'gaming', 'csgojerk': 'gaming', 'RocketLeague': 'gaming', 'leagueoflegends': 'gaming', 'FuturamaWOTgame': 'gaming', 'GamePhysics': 'gaming', 'osugame': 'gaming', 'DarkSouls2': 'gaming', 'darksouls3': 'gaming', 'tf2': 'gaming', 'TeamSolomid': 'gaming', 'OpTicGaming': 'gaming', 'nintendo': 'gaming', 'FryeMadden2': 'gaming', 'MaddenCC': 'gaming', 'incremental_games': 'gaming', 'FryeMadden': 'gaming', 'bloodborne': 'gaming', 'AFL': 'gaming', 'FireEmblemHeroes': 'gaming', 'DestinyTheGame': 'gaming', 'StarWarsBattlefront': 'gaming', 'Terraria': 'gaming', 'Planetside': 'gaming', 'videogamedunkey': 'gaming', 'hediyhstone': 'gaming', 'PS4': 'gaming', 'Rockband': 'gaming', 'gtaonline': 'gaming', 'EndlessFrontier': 'gaming', 'baseballcirclejerk': 'sports', 'sport': 'sports', 'nbacirclejerk': 'sports', 'LiverpoolFC': 'sports', 'denvernuggets': 'sports', 'hockey': 'sports', 'baseballtrivia': 'sports', 'nfl': 'sports', 'NewYorkMets': 'sports', 'Patriots': 'sports', 'soccer': 'sports', 'MMA': 'sports', 'NFL_Draft': 'sports', 'ussoccer': 'sports', 'nflcirclejerk': 'sports', 'AFLCircleJerk': 'sports', 'atheism': 'sports', 'FloridaGators': 'sports', 'tennis': 'sports', 'losangeleskings': 'sports', 'nyjets': 'sports', 'miamidolphins': 'sports', 'sports_undelete': 'sports', 'discgolf': 'sports', 'eagles': 'sports', 'horseracing': 'sports', 'baseball': 'sports', 'NYKnicks': 'sports', 'Cardinals': 'sports', 'NASCAR': 'sports', 'Seahawks': 'sports', 'DenverBroncos': 'sports', 'nba': 'sports', 'GreenBayPackers': 'sports', 'sports': 'sports', 'CollegeBasketball': 'sports', 'PicsOlf': 'photography', 'photography': 'photography', 'pics': 'photography', 'iPhoneography': 'photography', 'dogs': 'animals', 'AdviceAnimals': 'animals', 'bengals': 'animals', 'whales': 'animals', 'aww': 'animals', 'animal': 'animals', 'YayAnimalPix': 'animals', 'TheDonaldNews': 'politics', 'politics': 'politics', 'MarchAgainstTrump': 'politics', 'The_Donald': 'politics', 'Conservative': 'politics', 'SandersForPresident': 'politics', 'POLITIC': 'politics', 'HouseOfCards': 'entertainment', 'TheAmazingRace': 'entertainment', 'movies': 'entertainment', 'anime': 'entertainment', 'OnePieceTC': 'entertainment', 'nancydrew': 'entertainment', 'KimmySchmidt': 'entertainment', 'transformers': 'entertainment', 'doctorwho': 'entertainment', 'JeffandSomeAliens': 'entertainment', 'television': 'entertainment', 'gamemusic': 'entertainment', 'OnePunchMan': 'entertainment', 'SmallYTChannel': 'entertainment', 'StarWars': 'entertainment', 'PrettyLittleLiars': 'entertainment', 'gameofthrones': 'entertainment', 'entertainment': 'entertainment', 'FlashTV': 'entertaiment', 'AmericanHorrorStory': 'entertainment', 'Sherlock': 'entertainment', 'seinfeld': 'entertainment', 'westworld': 'entertainment', 'disney': 'entertainment', 'caseyneistat': 'entertainment', 'japanesemusic': 'entertainment', 'thesopranos': 'entertainment', 'rickandmorty': 'entertainment', 'Music': 'entertainment', 'MTVScream': 'entertainment', 'RWBY': 'entertainment', 'TaylorSwift': 'entertainment', 'youtubehaiku': 'entertainment', 'powerrangers': 'entertainment', 'the_oc': 'entertainment', 'That70sshow': 'entertainment', 'DankMemeArchive': 'meme', 'dankmemes': 'meme', 'meme': 'meme', 'memes': 'meme', 'WTF': 'funfacts', 'reddit.com': 'funfacts', 'Showerthoughts': 'funfacts', 'ShitRedditSays': 'funfacts', 'mildlyinteresting': 'funfacts', 'AskReddit': 'funfacts', 'todayilearned': 'funfacts', 'funfacts': 'funfacts', 'comicbooks': 'comics', 'comics': 'comics', 'comic': 'comics', 'webcomics': 'comics', 'entertinment': 'entertinment', 'panicatthedisco': 'entertinment', 'car': 'cars', 'CherokeeXJ': 'cars', 'yugioh': 'entertaiment', 'beatles': 'entertaiment', 'entertaiment': 'entertaiment', 'thedoors': 'entertaiment', 'ScreamQueensTV': 'entertaiment', 'TheLastAirbender': 'enterainment', 'enterainment': 'enterainment', 'art': 'art', 'learnart': 'diy', 'diy': 'diy', 'HFY': 'writing', 'writing': 'writing'}\n"
     ]
    }
   ],
   "source": [
    "sub_cat = {}\n",
    "for key in topics:\n",
    "    for i in topics[key]:\n",
    "        sub_cat[i] = key\n",
    "print (sub_cat)"
   ]
  },
  {
   "cell_type": "markdown",
   "metadata": {},
   "source": [
    "## If we return no results from above... try below\n",
    "\n",
    "query = \"pig\"\n",
    "category = \"animals\"\n",
    "we run the query search thing, and there's a subreddit for pig (but it's not one of the ones I manually labeled) so it doesn't appear in the dictonary above. So I take the subreddits from the returned results from simply looking up the query and run synayom search to see if I can find a subcategory that fits. \n",
    "\n",
    "\n",
    "replace most_similar with word embeddings"
   ]
  },
  {
   "cell_type": "code",
   "execution_count": 179,
   "metadata": {},
   "outputs": [],
   "source": [
    "import spacy\n",
    "nlp = spacy.load('en_core_web_lg')\n",
    "vocab = [w for w in nlp.vocab if w.is_lower and w.prob >= -15 and w.vector.any()]\n",
    "def most_similar(word, top=20):\n",
    "    by_similarity = sorted(vocab, key=lambda w: word.similarity(w), reverse=True)\n",
    "    return by_similarity[:top]"
   ]
  },
  {
   "cell_type": "code",
   "execution_count": 180,
   "metadata": {},
   "outputs": [],
   "source": [
    "subreddit = \"pig\"\n",
    "def unknown_subreddit(subreddit, sub_cat):\n",
    "    if subreddit not in sub_cat:\n",
    "        syn = [w.lower_ for w in most_similar(nlp.vocab[subreddit])]\n",
    "        for word in syn:\n",
    "            if word in sub_cat:\n",
    "                sub_cat[subreddit] = sub_cat[word]\n",
    "                return sub_cat[word]\n",
    "        return None\n",
    "    else:\n",
    "        return sub_cat[subreddit]"
   ]
  },
  {
   "cell_type": "code",
   "execution_count": 181,
   "metadata": {},
   "outputs": [
    {
     "name": "stdout",
     "output_type": "stream",
     "text": [
      "animals\n"
     ]
    }
   ],
   "source": [
    "print (unknown_subreddit(\"pig\", sub_cat))"
   ]
  },
  {
   "cell_type": "code",
   "execution_count": 182,
   "metadata": {},
   "outputs": [
    {
     "data": {
      "text/plain": [
       "['pig',\n",
       " 'pigs',\n",
       " 'cow',\n",
       " 'rabbit',\n",
       " 'hog',\n",
       " 'guinea',\n",
       " 'piglet',\n",
       " 'sheep',\n",
       " 'goat',\n",
       " 'chickens',\n",
       " 'monkey',\n",
       " 'animal',\n",
       " 'rat',\n",
       " 'piggy',\n",
       " 'chicken',\n",
       " 'pork',\n",
       " 'meat',\n",
       " 'duck',\n",
       " 'swine',\n",
       " 'donkey']"
      ]
     },
     "execution_count": 182,
     "metadata": {},
     "output_type": "execute_result"
    }
   ],
   "source": [
    "[w.lower_ for w in most_similar(nlp.vocab[subreddit])]"
   ]
  },
  {
   "cell_type": "code",
   "execution_count": null,
   "metadata": {},
   "outputs": [],
   "source": []
  }
 ],
 "metadata": {
  "kernelspec": {
   "display_name": "Python 3",
   "language": "python",
   "name": "python3"
  },
  "language_info": {
   "codemirror_mode": {
    "name": "ipython",
    "version": 3
   },
   "file_extension": ".py",
   "mimetype": "text/x-python",
   "name": "python",
   "nbconvert_exporter": "python",
   "pygments_lexer": "ipython3",
   "version": "3.7.2"
  }
 },
 "nbformat": 4,
 "nbformat_minor": 2
}
