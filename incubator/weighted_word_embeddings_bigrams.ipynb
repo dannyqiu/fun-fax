{
 "cells": [
  {
   "cell_type": "code",
   "execution_count": 1,
   "metadata": {},
   "outputs": [],
   "source": [
    "import spacy\n",
    "nlp = spacy.load('en_core_web_lg', disable=[\"parser\", \"tagger\", \"ner\"])"
   ]
  },
  {
   "cell_type": "code",
   "execution_count": 2,
   "metadata": {},
   "outputs": [],
   "source": [
    "import pandas as pd\n",
    "import numpy as np\n",
    "pd.set_option('display.max_colwidth', -1)"
   ]
  },
  {
   "cell_type": "code",
   "execution_count": 396,
   "metadata": {},
   "outputs": [
    {
     "name": "stderr",
     "output_type": "stream",
     "text": [
      "/Users/danny/Documents/College-CORNELL/04 Senior-MEng/Spring 2019/INFO4300 - Language and Information/final project/fun-fax/venv/lib/python3.7/site-packages/IPython/core/interactiveshell.py:3049: DtypeWarning: Columns (4,8,10,11,13,14,15,16,17,19,20,21,22,23,24,25,26,28,29,30,31,33,37,38,43,44,47,48,49,50,51,52,54,55,57,58,60,61,62,64,65,71,75,87,89,91,92,93,94,97,101,104,105,106,107,110,111,112,113,114,115,118,119,120,121,122,129,133,135,137,138,139,140,142,143,148,152,155,174,176,178,179,180,181,187,191,192,193,194,197,199,201,202,203,209) have mixed types. Specify dtype option on import or set low_memory=False.\n",
      "  interactivity=interactivity, compiler=compiler, result=result)\n"
     ]
    }
   ],
   "source": [
    "fun_fact_df = pd.read_csv('../data/fun_fact_title.csv')"
   ]
  },
  {
   "cell_type": "code",
   "execution_count": 389,
   "metadata": {},
   "outputs": [],
   "source": [
    "required_columns = ['title', 'subreddit', 'permalink']\n",
    "fun_fact_df = fun_fact_df.dropna(axis='rows', subset=required_columns).reset_index(drop=True)"
   ]
  },
  {
   "cell_type": "code",
   "execution_count": 390,
   "metadata": {},
   "outputs": [],
   "source": [
    "fun_fact_df = fun_fact_df.drop_duplicates(subset=['title']).reset_index(drop=True)"
   ]
  },
  {
   "cell_type": "code",
   "execution_count": 391,
   "metadata": {},
   "outputs": [],
   "source": [
    "from sklearn.feature_extraction.text import TfidfVectorizer\n",
    "import scipy"
   ]
  },
  {
   "cell_type": "code",
   "execution_count": 394,
   "metadata": {},
   "outputs": [],
   "source": [
    "vectorizer = TfidfVectorizer(stop_words='english', min_df=2, max_df=.8, ngram_range=(2,2))\n",
    "titles = fun_fact_df['title']\n",
    "fun_fact_tfidf = vectorizer.fit_transform(titles)"
   ]
  },
  {
   "cell_type": "code",
   "execution_count": 393,
   "metadata": {},
   "outputs": [
    {
     "data": {
      "text/plain": [
       "<316728x333377 sparse matrix of type '<class 'numpy.float64'>'\n",
       "\twith 1521316 stored elements in Compressed Sparse Row format>"
      ]
     },
     "execution_count": 393,
     "metadata": {},
     "output_type": "execute_result"
    }
   ],
   "source": [
    "fun_fact_tfidf"
   ]
  },
  {
   "cell_type": "code",
   "execution_count": 367,
   "metadata": {},
   "outputs": [],
   "source": [
    "assert \"fun\" not in vectorizer.get_feature_names()\n",
    "# assert \"donald trump\" in vectorizer.get_feature_names()"
   ]
  },
  {
   "cell_type": "code",
   "execution_count": 368,
   "metadata": {},
   "outputs": [
    {
     "data": {
      "text/plain": [
       "24115"
      ]
     },
     "execution_count": 368,
     "metadata": {},
     "output_type": "execute_result"
    }
   ],
   "source": [
    "len(vectorizer.get_feature_names())"
   ]
  },
  {
   "cell_type": "code",
   "execution_count": 369,
   "metadata": {},
   "outputs": [
    {
     "data": {
      "text/plain": [
       "33268"
      ]
     },
     "execution_count": 369,
     "metadata": {},
     "output_type": "execute_result"
    }
   ],
   "source": [
    "len(fun_fact_df['title'])"
   ]
  },
  {
   "cell_type": "code",
   "execution_count": 370,
   "metadata": {},
   "outputs": [],
   "source": [
    "features = vectorizer.get_feature_names()\n",
    "weighted_embedding = np.zeros((len(titles), 300))\n",
    "for row, col in zip(*fun_fact_tfidf.nonzero()):\n",
    "    feature_vector = np.average([nlp.vocab[w].vector for w in features[col].split()], axis=0)\n",
    "    weighted_embedding[row] += feature_vector * fun_fact_tfidf[row,col]"
   ]
  },
  {
   "cell_type": "code",
   "execution_count": 371,
   "metadata": {},
   "outputs": [],
   "source": [
    "avg_weighted = np.array(weighted_embedding) # / (np.sum(fun_fact_tfidf, axis=1) + .00001))"
   ]
  },
  {
   "cell_type": "code",
   "execution_count": 372,
   "metadata": {},
   "outputs": [
    {
     "data": {
      "text/plain": [
       "matrix([[1],\n",
       "        [0],\n",
       "        [0],\n",
       "        ...,\n",
       "        [2],\n",
       "        [1],\n",
       "        [1]])"
      ]
     },
     "execution_count": 372,
     "metadata": {},
     "output_type": "execute_result"
    }
   ],
   "source": [
    "np.sum(fun_fact_tfidf > 0, axis=1) # shows number of tfidf words per doc"
   ]
  },
  {
   "cell_type": "code",
   "execution_count": 373,
   "metadata": {},
   "outputs": [
    {
     "name": "stdout",
     "output_type": "stream",
     "text": [
      "9.70781743279948\n",
      "7.638313249979812\n"
     ]
    }
   ],
   "source": [
    "print(np.linalg.norm(avg_weighted[21796]))\n",
    "print(np.linalg.norm(avg_weighted[753]))"
   ]
  },
  {
   "cell_type": "code",
   "execution_count": 387,
   "metadata": {},
   "outputs": [
    {
     "data": {
      "text/plain": [
       "0        Fun fact about the Vatican                                                                                                                                                                                                                      \n",
       "22187    Fun Fact: From July 25th to September 25th, the Cleveland Indians will have a Home-Road game ratio of 39-19.                                                                                                                                    \n",
       "22186    give me a random topic and i’ll give u a fun fact about it if i know one                                                                                                                                                                        \n",
       "22185    TPangolin Co. Ltd. on Twitter: \"Here's a fun fact: Vietnam (30 mins) takes twice as long to process as the Boers in-game. Australia takes nearly 4 times as long as Vietnam.\"                                                                   \n",
       "22184    Fun Fact #7657856                                                                                                                                                                                                                               \n",
       "22183    Fun fact, clown fish are edible.                                                                                                                                                                                                                \n",
       "22182    Fantasy Basketball Fun Fact                                                                                                                                                                                                                     \n",
       "22181    Fun fact: Acid + Autism                                                                                                                                                                                                                         \n",
       "22180    fun fact: furries don't even exist after all and just people in costumes                                                                                                                                                                        \n",
       "22179    Fun Fact: Emojis are technically an idiographic language.                                                                                                                                                                                       \n",
       "22178    Fun Fact: There is a flower that gives off the scent of rotting meat, it's name? The Corpse Flower.                                                                                                                                             \n",
       "22177    Fun Fact: 6'8\" Popeye Jones never dunked in-game.                                                                                                                                                                                               \n",
       "22176    Fun fact: Birds always die after the have sex.                                                                                                                                                                                                  \n",
       "22175    Fun fact: in Ruby Rider, you can actually see the moon colony when it shows the moon.                                                                                                                                                           \n",
       "22188    Fun fact: despite the \"unusual\" country, Alexander Albon won't be the first Thai racing in F1                                                                                                                                                   \n",
       "22174    [Fun Fact] 127 players in NBA history have attempted at least 2500 three-pointers. Russell Westbrook is dead last in three-point percentage in that group                                                                                       \n",
       "22172    Fun fact: If you flame your team, you will lose frequently. [Paint included]                                                                                                                                                                    \n",
       "22171    Fun fact about Mihawk, Jinbe, Sengoku and Smoker                                                                                                                                                                                                \n",
       "22170    The back of the Sphinx in the Luxor hotel in Las Vegas. (Fun fact: White plane with red stripe on the right is headed to Area 51!)                                                                                                              \n",
       "22169    X-Post From CHIBears : Fun fact: If we beat the Packers, the most they can finish with is 8 wins                                                                                                                                                \n",
       "22168    [Water] A tranquil sunrise over Nine Mile Pond in the Everglades National Park. Fun fact: Everglades NP lakes are all man made.                                                                                                                 \n",
       "22167    Fun Fact: this is the longest stretch of chapter releases Togashi has had since 2012                                                                                                                                                            \n",
       "22166    Fun Fact: you can be possessed by Daimon's Awakened form and by Cursed Dragons. It doesn't do anything other than make you look badass.                                                                                                         \n",
       "22165    Pocket Watch Fun Fact                                                                                                                                                                                                                           \n",
       "22164    Fun fact: Wesley Matthews is making 14 times as much money as Marcus Thornton is, while these two are averaging nearly identical numbers.                                                                                                       \n",
       "22163    Fun fact - B.O.B. is an old Molten Core turret - /u/CrabbyFromRu                                                                                                                                                                                \n",
       "22162    Fun fact: A 6*\\ Geonesian Soldier has more powe than a 7*\\ ST Han                                                                                                                                                                               \n",
       "22161    Fun fact: The Devils are 7-3 when allowing 40 or more shots.                                                                                                                                                                                    \n",
       "22160    Fun fact: The 2009-10 Wyoming secondary featured both Tashaun Gipson and Chris Prosinski                                                                                                                                                        \n",
       "22173    Fun Fact of the Day [6/17/16]: Solid Objects                                                                                                                                                                                                    \n",
       "                             ...                                                                                                                                                                                                                         \n",
       "11106    Fun fact: The Atom x7 is actually just a renamed Pentium N3710.                                                                                                                                                                                 \n",
       "11105    Fun Fact: Steen is tied for 4th in League in Points, and for 1st in goals.                                                                                                                                                                      \n",
       "11104    Fun fact from @MostarLFC.                                                                                                                                                                                                                       \n",
       "11103    [S6E4] Fun fact regarding two siblings                                                                                                                                                                                                          \n",
       "11102    Fun fact about Kinect                                                                                                                                                                                                                           \n",
       "11101    Fun fact: the pink part of my dark nipples gets bigger when they harden so I have two tone hard nips :)                                                                                                                                         \n",
       "11100    Fun Fact: In his will, Benjamin Franklin left money to both the cities of Philadelphia and Boston with the stipulation that it could not be spent except at century intervals which have netted both cities a lot of money on interest.         \n",
       "11099    What's your go-to interesting story or fun fact you save for when there's a lull in a conversation?                                                                                                                                             \n",
       "11098    Fun Fact: Searching \"Blue\", \"Red\" and \"White\" in the shop will show the Elixir of Sorcery, Wrath and Iron respectively.                                                                                                                         \n",
       "11097    What's a fun fact that is actually funny?                                                                                                                                                                                                       \n",
       "11096    Fun fact: Those pretty Jacob's Ladder flowers in your perfect town are actually highly poisonous.                                                                                                                                               \n",
       "11095    Fun Fact About Vel'Koz (Look At Level Scaling AD!)                                                                                                                                                                                              \n",
       "11094    Week 11 Fun Fact                                                                                                                                                                                                                                \n",
       "11093    Fun fact: Mozambique is the only one-word country to contain all five vowels in its name                                                                                                                                                        \n",
       "11092    Fun fact: There is a popular Monster Hunter app called Athena's Ass.                                                                                                                                                                            \n",
       "11091    What is a weird fun fact about your state that not everyone would know?                                                                                                                                                                         \n",
       "11090    What is one fun fact that you most often tell people and why is it 420 Blaze It Faggot?                                                                                                                                                         \n",
       "11089    Fun Fact: London's Big Ben clock tower is leaning much like the Tower of Pisa.                                                                                                                                                                  \n",
       "11088    Fun Fact: The sport of 'Ultimate Frisbee' is recognised by the International Olympic Committee.                                                                                                                                                 \n",
       "11087    Fun Fact: Abraham Lincoln wore size 14 shoes, the biggest in U.S. president history.                                                                                                                                                            \n",
       "11086    Fun Fact: The name \"Argentina\" comes from the Latin word for silver, argentum. The original European settlers believed the country was full of silver.                                                                                          \n",
       "11085    [Offer] 4 Fun fact or Keep Calm Postcards [US Only]                                                                                                                                                                                             \n",
       "11084    Fun Fact: Dogs and elephants are the only animals that seem to instinctively understand pointing.                                                                                                                                               \n",
       "11083    Fun fact, Manziel has more TD's in the last 3 games than Hoyer                                                                                                                                                                                  \n",
       "11082    fun fact thread                                                                                                                                                                                                                                 \n",
       "11081    Give me a fun fact reddit. Fire away.                                                                                                                                                                                                           \n",
       "11080    Fun Fact: More than $100,000 in tx fees have been saved by Satoshi Dice players since it relaunched on Bitcoin Cash about a month ago.                                                                                                          \n",
       "11079    So fun fact, there is a wiki page on the universe that the game is in (not from the avengers academy wiki but from the marvel wiki) that has some unreleased characters as students at the academy such as Howard the duck and Kraven the hunter\n",
       "11109    Fun Fact: You can become pregnant while pregnant! Julie Grovenburg, from Arkansa, became pregnant twice, two weeks apart. There have only been 10 cases ever recorded of this phenomenon.                                                       \n",
       "33267    fun fact: this format is Stratton Oakmont CEO approved                                                                                                                                                                                          \n",
       "Name: title, Length: 33268, dtype: object"
      ]
     },
     "execution_count": 387,
     "metadata": {},
     "output_type": "execute_result"
    }
   ],
   "source": [
    "query = \"bitcoin food\"\n",
    "query_tfidf = vectorizer.transform([query])\n",
    "query_weighted = np.zeros(300)\n",
    "for row, col in zip(*query_tfidf.nonzero()):\n",
    "    feature_vector = np.average([nlp.vocab[w].vector for w in features[col].split()], axis=0)\n",
    "    query_weighted += feature_vector * query_tfidf[row,col]\n",
    "rankings = avg_weighted.dot(query_weighted)\n",
    "fun_fact_df[\"title\"][np.argsort(-rankings)]"
   ]
  },
  {
   "cell_type": "code",
   "execution_count": 307,
   "metadata": {},
   "outputs": [
    {
     "data": {
      "text/plain": [
       "array([0.60747938, 0.79433544])"
      ]
     },
     "execution_count": 307,
     "metadata": {},
     "output_type": "execute_result"
    }
   ],
   "source": [
    "query_tfidf.data"
   ]
  },
  {
   "cell_type": "code",
   "execution_count": 359,
   "metadata": {},
   "outputs": [
    {
     "data": {
      "text/plain": [
       "array([50.12093631, 48.35141373, 47.01346365, 46.8237791 , 46.6925671 ])"
      ]
     },
     "execution_count": 359,
     "metadata": {},
     "output_type": "execute_result"
    }
   ],
   "source": [
    "rankings[np.argsort(-rankings)][:5]"
   ]
  },
  {
   "cell_type": "code",
   "execution_count": 309,
   "metadata": {},
   "outputs": [
    {
     "data": {
      "text/plain": [
       "29.999835174077806"
      ]
     },
     "execution_count": 309,
     "metadata": {},
     "output_type": "execute_result"
    }
   ],
   "source": [
    "np.dot(avg_weighted[753], query_weighted)"
   ]
  },
  {
   "cell_type": "code",
   "execution_count": 310,
   "metadata": {},
   "outputs": [
    {
     "data": {
      "text/plain": [
       "0"
      ]
     },
     "execution_count": 310,
     "metadata": {},
     "output_type": "execute_result"
    }
   ],
   "source": [
    "len(titles) - len(set(titles))"
   ]
  },
  {
   "cell_type": "code",
   "execution_count": 378,
   "metadata": {},
   "outputs": [
    {
     "data": {
      "text/plain": [
       "<1x24115 sparse matrix of type '<class 'numpy.float64'>'\n",
       "\twith 5 stored elements in Compressed Sparse Row format>"
      ]
     },
     "execution_count": 378,
     "metadata": {},
     "output_type": "execute_result"
    }
   ],
   "source": [
    "fun_fact_tfidf[11750]"
   ]
  },
  {
   "cell_type": "code",
   "execution_count": 385,
   "metadata": {},
   "outputs": [
    {
     "data": {
      "text/plain": [
       "'clean sheet'"
      ]
     },
     "execution_count": 385,
     "metadata": {},
     "output_type": "execute_result"
    }
   ],
   "source": [
    "features[4012]"
   ]
  },
  {
   "cell_type": "code",
   "execution_count": null,
   "metadata": {},
   "outputs": [],
   "source": []
  }
 ],
 "metadata": {
  "kernelspec": {
   "display_name": "fun-fax",
   "language": "python",
   "name": "fun-fax"
  },
  "language_info": {
   "codemirror_mode": {
    "name": "ipython",
    "version": 3
   },
   "file_extension": ".py",
   "mimetype": "text/x-python",
   "name": "python",
   "nbconvert_exporter": "python",
   "pygments_lexer": "ipython3",
   "version": "3.7.3"
  }
 },
 "nbformat": 4,
 "nbformat_minor": 2
}
