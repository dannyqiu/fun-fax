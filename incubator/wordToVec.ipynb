{
 "cells": [
  {
   "cell_type": "code",
   "execution_count": 1,
   "metadata": {
    "collapsed": true
   },
   "outputs": [],
   "source": [
    "from __future__ import print_function\n",
    "import numpy as np\n",
    "import json\n",
    "import csv\n",
    "\n",
    "from sklearn.feature_extraction.text import TfidfVectorizer\n",
    "from scipy.sparse.linalg import svds\n",
    "import matplotlib\n",
    "import numpy as np\n",
    "import matplotlib.pyplot as plt\n",
    "%matplotlib inline\n",
    "from sklearn.preprocessing import normalize\n",
    "from sklearn.manifold import TSNE"
   ]
  },
  {
   "cell_type": "code",
   "execution_count": 2,
   "metadata": {
    "collapsed": true
   },
   "outputs": [],
   "source": [
    "import gensim"
   ]
  },
  {
   "cell_type": "markdown",
   "metadata": {},
   "source": [
    "# Sentence embedding by averaging"
   ]
  },
  {
   "cell_type": "code",
   "execution_count": 3,
   "metadata": {},
   "outputs": [
    {
     "name": "stdout",
     "output_type": "stream",
     "text": [
      "['title', 'TIL After Col. Shaw died in battle, Confederates buried him in a mass grave as an insult for leading black soldiers. Union troops tried to recover his body, but his father sent a letter saying \"We would not have his body removed from where it lies surrounded by his brave and devoted soldiers.\"', 'TIL that in 1916 there was a proposed Amendment to the US Constitution that would put all acts of war to a national vote, and anyone voting yes would have to register as a volunteer for service in the United States Army.']\n"
     ]
    }
   ],
   "source": [
    "documents = []\n",
    "documents_tokenized = []\n",
    "with open(\"data.csv\") as csv_file:\n",
    "    csv_reader = csv.reader(csv_file, delimiter=',')\n",
    "    line_count = 0\n",
    "    for row in csv_reader:\n",
    "        documents.append(row[1])\n",
    "        documents_tokenized.append(gensim.utils.simple_preprocess(row[1].lower()))\n",
    "print (documents[:3])"
   ]
  },
  {
   "cell_type": "code",
   "execution_count": 4,
   "metadata": {
    "collapsed": true
   },
   "outputs": [],
   "source": [
    "vectorizer = TfidfVectorizer(stop_words = 'english')\n",
    "tfidf_matrix = vectorizer.fit_transform([x for x in documents])\n",
    "word_to_index_tfid = vectorizer.vocabulary_"
   ]
  },
  {
   "cell_type": "code",
   "execution_count": 5,
   "metadata": {},
   "outputs": [
    {
     "data": {
      "text/plain": [
       "(603557, 777950)"
      ]
     },
     "execution_count": 5,
     "metadata": {},
     "output_type": "execute_result"
    }
   ],
   "source": [
    "model = gensim.models.Word2Vec(\n",
    "        documents_tokenized,\n",
    "#         size=150,\n",
    "#         window=100,\n",
    "#         min_count=0,\n",
    "    size=100, window=5, min_count=1,\n",
    "        workers=10)\n",
    "model.train(documents_tokenized, total_examples=len(documents_tokenized), epochs=10)"
   ]
  },
  {
   "cell_type": "code",
   "execution_count": 6,
   "metadata": {},
   "outputs": [
    {
     "data": {
      "text/plain": [
       "3016"
      ]
     },
     "execution_count": 6,
     "metadata": {},
     "output_type": "execute_result"
    }
   ],
   "source": [
    "len(documents)"
   ]
  },
  {
   "cell_type": "code",
   "execution_count": 7,
   "metadata": {},
   "outputs": [
    {
     "name": "stdout",
     "output_type": "stream",
     "text": [
      "Word2Vec(vocab=11903, size=100, alpha=0.025)\n"
     ]
    }
   ],
   "source": [
    "print(model)"
   ]
  },
  {
   "cell_type": "code",
   "execution_count": 28,
   "metadata": {},
   "outputs": [
    {
     "data": {
      "text/plain": [
       "[('young', 0.9996504187583923),\n",
       " ('hand', 0.9995744228363037),\n",
       " ('source', 0.9995355606079102),\n",
       " ('under', 0.9994927644729614),\n",
       " ('insisted', 0.9994838237762451),\n",
       " ('sex', 0.9994677305221558),\n",
       " ('gb', 0.9994568824768066),\n",
       " ('fast', 0.999452531337738),\n",
       " ('clear', 0.99945068359375),\n",
       " ('troops', 0.9994426369667053)]"
      ]
     },
     "execution_count": 28,
     "metadata": {},
     "output_type": "execute_result"
    }
   ],
   "source": [
    "model.wv.most_similar(positive='nuclear')"
   ]
  },
  {
   "cell_type": "code",
   "execution_count": 16,
   "metadata": {
    "collapsed": true
   },
   "outputs": [],
   "source": [
    "def document_vector(word2vec_model, doc, doc_index):\n",
    "#     # remove out-of-vocabulary words\n",
    "#     doc = [word for word in doc if word in word2vec_model.wv.vocab]# and word in word_to_index_tfid]\n",
    "# #     word_vectors = []\n",
    "# #     for word in doc:\n",
    "# #         word_vectors.append(word2vec_model[word])#*tfidf_matrix[doc_index, word_to_index_tfid[word]])\n",
    "# #     print(len(word_vectors), len(word_vectors[0]))\n",
    "# #     print(word_vectors[:2][:2])\n",
    "#     word_vectors = word2vec_model[doc]\n",
    "#     for i in range(len(word_vectors)):\n",
    "#         word_vectors[i] = word_vectors[i] #* tfidf_matrix[doc_index, word_to_index_tfid[doc[i]]]\n",
    "# #     if doc_index == 2:\n",
    "# #         print(test[:2,:2])\n",
    "# #         print(test.shape)\n",
    "# #         print('\\n')\n",
    "# #         print(len(word_vectors), len(word_vectors[0]))\n",
    "#     return np.mean(word_vectors, axis=0)\n",
    "    doc = [word for word in doc if word in word2vec_model.wv.vocab]\n",
    "    return np.mean(word2vec_model[doc], axis=0)"
   ]
  },
  {
   "cell_type": "code",
   "execution_count": 17,
   "metadata": {},
   "outputs": [
    {
     "name": "stderr",
     "output_type": "stream",
     "text": [
      "/Users/Arshi/anaconda/envs/myenv/lib/python3.6/site-packages/ipykernel_launcher.py:1: DeprecationWarning: Call to deprecated `__getitem__` (Method will be removed in 4.0.0, use self.wv.__getitem__() instead).\n",
      "  \"\"\"Entry point for launching an IPython kernel.\n",
      "/Users/Arshi/anaconda/envs/myenv/lib/python3.6/site-packages/ipykernel_launcher.py:19: DeprecationWarning: Call to deprecated `__getitem__` (Method will be removed in 4.0.0, use self.wv.__getitem__() instead).\n"
     ]
    },
    {
     "name": "stdout",
     "output_type": "stream",
     "text": [
      "(3016, 100)\n"
     ]
    }
   ],
   "source": [
    "documents_matrix = np.zeros((len(documents_tokenized), len(model['dog'])))\n",
    "for i in range(len(documents_tokenized)):\n",
    "    documents_matrix[i] = document_vector(model, documents_tokenized[i], i)\n",
    "print(documents_matrix.shape)"
   ]
  },
  {
   "cell_type": "code",
   "execution_count": 18,
   "metadata": {},
   "outputs": [
    {
     "name": "stdout",
     "output_type": "stream",
     "text": [
      "(11903, 100)\n"
     ]
    },
    {
     "name": "stderr",
     "output_type": "stream",
     "text": [
      "/Users/Arshi/anaconda/envs/myenv/lib/python3.6/site-packages/ipykernel_launcher.py:2: DeprecationWarning: Call to deprecated `__getitem__` (Method will be removed in 4.0.0, use self.wv.__getitem__() instead).\n",
      "  \n",
      "/Users/Arshi/anaconda/envs/myenv/lib/python3.6/site-packages/ipykernel_launcher.py:6: DeprecationWarning: Call to deprecated `__getitem__` (Method will be removed in 4.0.0, use self.wv.__getitem__() instead).\n",
      "  \n"
     ]
    }
   ],
   "source": [
    "word_to_index = {}\n",
    "words_matrix = np.zeros((len(model.wv.vocab), len(model['dog'])))\n",
    "i = 0\n",
    "for word in model.wv.vocab:\n",
    "    word_to_index[word] = i\n",
    "    words_matrix[i] = model[word]\n",
    "    i+=1\n",
    "print(words_matrix.shape)\n"
   ]
  },
  {
   "cell_type": "code",
   "execution_count": 19,
   "metadata": {
    "collapsed": true
   },
   "outputs": [],
   "source": [
    "def closest_docs(word, k = 20):\n",
    "    sims = documents_matrix.dot(words_matrix[word_to_index[word.lower()],:])\n",
    "    asort = np.argsort(-sims)[:k+1]\n",
    "    return [(documents[i],sims[i]/sims[asort[0]]) for i in asort[1:]]"
   ]
  },
  {
   "cell_type": "code",
   "execution_count": 25,
   "metadata": {},
   "outputs": [
    {
     "data": {
      "text/plain": [
       "[('Fun Fact', 1.0),\n",
       " ('Fun Fact', 1.0),\n",
       " ('Fun Fact!', 1.0),\n",
       " ('Fact day?', 0.8461115574840238),\n",
       " ('Only american', 0.841994780703958),\n",
       " ('Fun Fact: about France', 0.8014810499795191),\n",
       " ('Fun Fact: about France 2', 0.8014810499795191),\n",
       " ('Fun Fact: You blink over 100 million times in a year.', 0.7957287774780896),\n",
       " ('Fun Fact: For every human, there are 200 million insects',\n",
       "  0.7822514508732252),\n",
       " ('Fun Fact: Over 200 women have run for President of the United States.',\n",
       "  0.7739919176362048),\n",
       " ('Fun Fact: More than 1 out of every 5 Internet users are from China',\n",
       "  0.773855914911033),\n",
       " (\"Fun Fact: More collect calls are made on Father's Day than any other day of the year\",\n",
       "  0.7584516348351644),\n",
       " ('Fun Fact: Only one word in all of English has an X, Y, and Z in order: \"Hydroxyzine.\"',\n",
       "  0.7561798214772918),\n",
       " (\"Fun Fact: You can't get less than -99 karma\", 0.7554412060611668),\n",
       " ('Fun fact: 39 light years is the same as going around the world 10 billion times',\n",
       "  0.7526593384708824),\n",
       " ('Fun Fact: Europe is actually larger than the US', 0.7518385418710536),\n",
       " ('Fun Fact: In Alaska there are more Caribou than people', 0.75021013629514),\n",
       " ('Fun Fact: The 13th of a month is more likely to be a Friday than any other day.',\n",
       "  0.7489274199222349),\n",
       " ('Fun Fact: About Pussy', 0.7483477600413796),\n",
       " ('Fun Fact: The world with no gravity for 5 seconds', 0.748010083399694)]"
      ]
     },
     "execution_count": 25,
     "metadata": {},
     "output_type": "execute_result"
    }
   ],
   "source": [
    "closest_docs('earth')"
   ]
  },
  {
   "cell_type": "code",
   "execution_count": null,
   "metadata": {
    "collapsed": true
   },
   "outputs": [],
   "source": [
    "\n"
   ]
  },
  {
   "cell_type": "code",
   "execution_count": 30,
   "metadata": {},
   "outputs": [
    {
     "ename": "ModuleNotFoundError",
     "evalue": "No module named 'nltk'",
     "output_type": "error",
     "traceback": [
      "\u001b[0;31m---------------------------------------------------------------------------\u001b[0m",
      "\u001b[0;31mModuleNotFoundError\u001b[0m                       Traceback (most recent call last)",
      "\u001b[0;32m<ipython-input-30-46fd2a7fce72>\u001b[0m in \u001b[0;36m<module>\u001b[0;34m\u001b[0m\n\u001b[0;32m----> 1\u001b[0;31m \u001b[0;32mimport\u001b[0m \u001b[0mnltk\u001b[0m\u001b[0;34m\u001b[0m\u001b[0m\n\u001b[0m\u001b[1;32m      2\u001b[0m \u001b[0mnltk\u001b[0m\u001b[0;34m.\u001b[0m\u001b[0mdownload\u001b[0m\u001b[0;34m(\u001b[0m\u001b[0;34m'punkt'\u001b[0m\u001b[0;34m)\u001b[0m\u001b[0;34m\u001b[0m\u001b[0m\n",
      "\u001b[0;31mModuleNotFoundError\u001b[0m: No module named 'nltk'"
     ]
    }
   ],
   "source": [
    "import nltk\n",
    "nltk.download('punkt')\n"
   ]
  },
  {
   "cell_type": "code",
   "execution_count": null,
   "metadata": {
    "collapsed": true
   },
   "outputs": [],
   "source": []
  }
 ],
 "metadata": {
  "kernelspec": {
   "display_name": "Python 3",
   "language": "python",
   "name": "python3"
  },
  "language_info": {
   "codemirror_mode": {
    "name": "ipython",
    "version": 3
   },
   "file_extension": ".py",
   "mimetype": "text/x-python",
   "name": "python",
   "nbconvert_exporter": "python",
   "pygments_lexer": "ipython3",
   "version": "3.6.5"
  }
 },
 "nbformat": 4,
 "nbformat_minor": 2
}
