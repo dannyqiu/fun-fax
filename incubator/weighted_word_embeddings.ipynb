{
 "cells": [
  {
   "cell_type": "code",
   "execution_count": 5,
   "metadata": {},
   "outputs": [],
   "source": [
    "import spacy\n",
    "nlp = spacy.load('en_core_web_lg', disable=[\"parser\", \"tagger\", \"ner\"])"
   ]
  },
  {
   "cell_type": "code",
   "execution_count": 6,
   "metadata": {},
   "outputs": [],
   "source": [
    "import pandas as pd\n",
    "import numpy as np\n",
    "import matplotlib.pyplot as plt\n",
    "pd.set_option('display.max_colwidth', -1)\n",
    "EPS = 1e-6"
   ]
  },
  {
   "cell_type": "code",
   "execution_count": 8,
   "metadata": {},
   "outputs": [
    {
     "name": "stderr",
     "output_type": "stream",
     "text": [
      "/Users/Arshi/anaconda/envs/myenv/lib/python3.6/site-packages/IPython/core/interactiveshell.py:3049: DtypeWarning: Columns (0,1,2,3,5,8,9,13,14,15,16,19,21,22,24,27,28,33,34,35,41,46,58,60,62,63,64,65,68,74,79,85,92,121) have mixed types. Specify dtype option on import or set low_memory=False.\n",
      "  interactivity=interactivity, compiler=compiler, result=result)\n"
     ]
    }
   ],
   "source": [
    "fun_fact_df = pd.read_csv('data/til_title.csv')"
   ]
  },
  {
   "cell_type": "code",
   "execution_count": 9,
   "metadata": {},
   "outputs": [],
   "source": [
    "required_columns = ['title', 'subreddit', 'permalink']\n",
    "fun_fact_df = fun_fact_df.dropna(axis='rows', subset=required_columns)"
   ]
  },
  {
   "cell_type": "code",
   "execution_count": 10,
   "metadata": {},
   "outputs": [],
   "source": [
    "banned_subreddits = ['circlejerk', 'ShittyTodayILearned', 'TheOnion']\n",
    "fun_fact_df = fun_fact_df[~fun_fact_df['subreddit'].isin(banned_subreddits)]"
   ]
  },
  {
   "cell_type": "code",
   "execution_count": 11,
   "metadata": {},
   "outputs": [],
   "source": [
    "fun_fact_df = fun_fact_df.reset_index(drop=True)"
   ]
  },
  {
   "cell_type": "code",
   "execution_count": 12,
   "metadata": {},
   "outputs": [],
   "source": [
    "from sklearn.feature_extraction.text import TfidfVectorizer\n",
    "import scipy"
   ]
  },
  {
   "cell_type": "code",
   "execution_count": 13,
   "metadata": {},
   "outputs": [],
   "source": [
    "vectorizer = TfidfVectorizer(stop_words='english', max_df=.8, ngram_range=(1,1), dtype=np.float32)\n",
    "titles = fun_fact_df['title']\n",
    "fun_fact_tfidf = vectorizer.fit_transform(titles)"
   ]
  },
  {
   "cell_type": "code",
   "execution_count": 14,
   "metadata": {},
   "outputs": [
    {
     "data": {
      "text/plain": [
       "<309065x125402 sparse matrix of type '<class 'numpy.float32'>'\n",
       "\twith 2793174 stored elements in Compressed Sparse Row format>"
      ]
     },
     "execution_count": 14,
     "metadata": {},
     "output_type": "execute_result"
    }
   ],
   "source": [
    "fun_fact_tfidf"
   ]
  },
  {
   "cell_type": "code",
   "execution_count": 15,
   "metadata": {},
   "outputs": [
    {
     "data": {
      "text/plain": [
       "125402"
      ]
     },
     "execution_count": 15,
     "metadata": {},
     "output_type": "execute_result"
    }
   ],
   "source": [
    "len(vectorizer.get_feature_names())"
   ]
  },
  {
   "cell_type": "code",
   "execution_count": 16,
   "metadata": {},
   "outputs": [
    {
     "data": {
      "text/plain": [
       "309065"
      ]
     },
     "execution_count": 16,
     "metadata": {},
     "output_type": "execute_result"
    }
   ],
   "source": [
    "len(fun_fact_df['title'])"
   ]
  },
  {
   "cell_type": "code",
   "execution_count": 17,
   "metadata": {},
   "outputs": [
    {
     "data": {
      "text/plain": [
       "matrix([[ 6],\n",
       "        [10],\n",
       "        [26],\n",
       "        ...,\n",
       "        [ 4],\n",
       "        [14],\n",
       "        [ 5]])"
      ]
     },
     "execution_count": 17,
     "metadata": {},
     "output_type": "execute_result"
    }
   ],
   "source": [
    "np.sum(fun_fact_tfidf > 0, axis=1) # shows number of tfidf words per doc"
   ]
  },
  {
   "cell_type": "code",
   "execution_count": 18,
   "metadata": {},
   "outputs": [
    {
     "name": "stdout",
     "output_type": "stream",
     "text": [
      "(309065, 300)\n"
     ]
    }
   ],
   "source": [
    "features = vectorizer.get_feature_names()\n",
    "f_vectors = np.array([nlp.vocab[f].vector for f in features])\n",
    "weighted_embedding = fun_fact_tfidf.dot(f_vectors)\n",
    "print(weighted_embedding.shape)"
   ]
  },
  {
   "cell_type": "code",
   "execution_count": 19,
   "metadata": {},
   "outputs": [],
   "source": [
    "n_weighted_embedding = weighted_embedding / (np.linalg.norm(weighted_embedding, axis=1)[:, np.newaxis] + EPS)"
   ]
  },
  {
   "cell_type": "code",
   "execution_count": 20,
   "metadata": {},
   "outputs": [
    {
     "name": "stdout",
     "output_type": "stream",
     "text": [
      "0.9999999\n",
      "0.9999998\n"
     ]
    }
   ],
   "source": [
    "print(np.linalg.norm(n_weighted_embedding[22291]))\n",
    "print(np.linalg.norm(n_weighted_embedding[10493]))"
   ]
  },
  {
   "cell_type": "code",
   "execution_count": 306,
   "metadata": {},
   "outputs": [
    {
     "data": {
      "text/html": [
       "<div>\n",
       "<style scoped>\n",
       "    .dataframe tbody tr th:only-of-type {\n",
       "        vertical-align: middle;\n",
       "    }\n",
       "\n",
       "    .dataframe tbody tr th {\n",
       "        vertical-align: top;\n",
       "    }\n",
       "\n",
       "    .dataframe thead th {\n",
       "        text-align: right;\n",
       "    }\n",
       "</style>\n",
       "<table border=\"1\" class=\"dataframe\">\n",
       "  <thead>\n",
       "    <tr style=\"text-align: right;\">\n",
       "      <th></th>\n",
       "      <th>subreddit</th>\n",
       "      <th>title</th>\n",
       "    </tr>\n",
       "  </thead>\n",
       "  <tbody>\n",
       "    <tr>\n",
       "      <th>61896</th>\n",
       "      <td>todayilearned</td>\n",
       "      <td>TIL industry drug trials are 4 times more likely to give a positive result than independently sponsored trials</td>\n",
       "    </tr>\n",
       "    <tr>\n",
       "      <th>100837</th>\n",
       "      <td>todayilearned</td>\n",
       "      <td>TIL King Colomon of Hungary famously stated that \"As for the matter of witches, there is no such thing, therefore no further investigations or trials are to be held\" nearly 700 years before the Salem Witch Trials</td>\n",
       "    </tr>\n",
       "    <tr>\n",
       "      <th>228312</th>\n",
       "      <td>todayilearned</td>\n",
       "      <td>TIL that NEWS stands for \"notable events, weather, and sports</td>\n",
       "    </tr>\n",
       "    <tr>\n",
       "      <th>153979</th>\n",
       "      <td>todayilearned</td>\n",
       "      <td>TIL A study has found that people who watch no news at all can answer questions about current events better than people who solely watch Fox News</td>\n",
       "    </tr>\n",
       "    <tr>\n",
       "      <th>94818</th>\n",
       "      <td>Showerthoughts</td>\n",
       "      <td>Today's /r/news are the next decades /r/TIL</td>\n",
       "    </tr>\n",
       "    <tr>\n",
       "      <th>192978</th>\n",
       "      <td>todayilearned</td>\n",
       "      <td>TIL a man set himself on fire on USA for first time in history and not a single main newspaper considered \"news\"</td>\n",
       "    </tr>\n",
       "    <tr>\n",
       "      <th>202293</th>\n",
       "      <td>todayilearned</td>\n",
       "      <td>TIL that during the Second World War, Nazi Germany performed very extensive medical experiments including extensive tests on children.... A lot of the experiments actually were used in developing modern medical techniques and many doctors got immunity for revealing their study results.</td>\n",
       "    </tr>\n",
       "    <tr>\n",
       "      <th>108128</th>\n",
       "      <td>todayilearned</td>\n",
       "      <td>TIL - McMartin Preschool Trial; one of the longest and most expensive criminal trials in history. It included allegations of witchcraft, sexual abuse, flying teachers and hidden tunnels. None of which turned out to be true.</td>\n",
       "    </tr>\n",
       "    <tr>\n",
       "      <th>128696</th>\n",
       "      <td>todayilearned</td>\n",
       "      <td>TIL there is man whose full-time hobby is giving man-on-the-street interviews so he'll be quoted in major publications. He’s so successful that the AP has banned their reporters from talking to him for stories.</td>\n",
       "    </tr>\n",
       "    <tr>\n",
       "      <th>23229</th>\n",
       "      <td>todayilearned</td>\n",
       "      <td>TIL the FBI recently came forward to admit that their forensic examiners gave flawed testimony on hair sample testing for at least 257 trials over 20 years. (Another 2,200 cases are being reviewed and 32 were death penalty trials)</td>\n",
       "    </tr>\n",
       "    <tr>\n",
       "      <th>12229</th>\n",
       "      <td>Showerthoughts</td>\n",
       "      <td>Today's news headlines will in the future be TIL</td>\n",
       "    </tr>\n",
       "    <tr>\n",
       "      <th>257956</th>\n",
       "      <td>todayilearned</td>\n",
       "      <td>TIL about an article called \"Fake News\" written by TV Guide about the lies leading to the first war in Iraq.</td>\n",
       "    </tr>\n",
       "    <tr>\n",
       "      <th>244817</th>\n",
       "      <td>todayilearned</td>\n",
       "      <td>TIL the Canadian government has silenced a man who started a website which hosts real world news and events.</td>\n",
       "    </tr>\n",
       "    <tr>\n",
       "      <th>133944</th>\n",
       "      <td>todayilearned</td>\n",
       "      <td>TIL That a form of \"Witch\" trials still went on in the 1980's and early 90's!</td>\n",
       "    </tr>\n",
       "    <tr>\n",
       "      <th>302152</th>\n",
       "      <td>todayilearned</td>\n",
       "      <td>TIL Dichloroacetic acid has an 80% success rate in fighting cancer, while Chemotherapy has a 2% success rate, but no pharmaceutical company would pay for clinical trials because it was discovered hundreds of years ago and can no longer be patented...</td>\n",
       "    </tr>\n",
       "    <tr>\n",
       "      <th>154939</th>\n",
       "      <td>todayilearned</td>\n",
       "      <td>TIL there is a website called \"darwinawards.com\" which shows different stories where people committed suicide or died in a very unusual way.</td>\n",
       "    </tr>\n",
       "    <tr>\n",
       "      <th>177389</th>\n",
       "      <td>todayilearned</td>\n",
       "      <td>TIL Mind-reading breakthrough hailed by US scientists | Fox News</td>\n",
       "    </tr>\n",
       "    <tr>\n",
       "      <th>119918</th>\n",
       "      <td>todayilearned</td>\n",
       "      <td>TIL that today is World Cancer Day</td>\n",
       "    </tr>\n",
       "    <tr>\n",
       "      <th>238568</th>\n",
       "      <td>todayilearned</td>\n",
       "      <td>TIL About news stories that are sent to broadcasters by PR firms and shown as actual news</td>\n",
       "    </tr>\n",
       "    <tr>\n",
       "      <th>256699</th>\n",
       "      <td>POLITIC</td>\n",
       "      <td>TIL that experts have proven that Vatican Radio, using technology that is long obsolete, has been causing tumors and leukemia in a village now known for its unusual amount of cancer related deaths.  The Catholic Church refuses to listen to the evidence.</td>\n",
       "    </tr>\n",
       "    <tr>\n",
       "      <th>254847</th>\n",
       "      <td>todayilearned</td>\n",
       "      <td>TIL 5 things about Albert Einstein that showed he was a \"Regular Joe\" with Life's typical trials &amp; tribulations</td>\n",
       "    </tr>\n",
       "    <tr>\n",
       "      <th>221746</th>\n",
       "      <td>todayilearned</td>\n",
       "      <td>TIL that the first broadcast of War Of The Worlds was presented as a series of simulated news bulletins, which suggested to many that an actual alien invasion was currently in progress. It was described as cruelly deceptive by some newspapers and public figures. The episode secured Welles's fame.</td>\n",
       "    </tr>\n",
       "    <tr>\n",
       "      <th>258165</th>\n",
       "      <td>todayilearned</td>\n",
       "      <td>TIL published research shows that chemotherapy is proven to help only 2% of people afflicted with cancer survive past the 5 year horizon.</td>\n",
       "    </tr>\n",
       "    <tr>\n",
       "      <th>148072</th>\n",
       "      <td>todayilearned</td>\n",
       "      <td>TIL there is a website solely dedicated to making fake Apple news stories.</td>\n",
       "    </tr>\n",
       "    <tr>\n",
       "      <th>52250</th>\n",
       "      <td>wikipedia</td>\n",
       "      <td>TIL that there is an entire Wikipedia page dedicated to Fox News Controversies.</td>\n",
       "    </tr>\n",
       "    <tr>\n",
       "      <th>103457</th>\n",
       "      <td>todayilearned</td>\n",
       "      <td>TIL about 24in60.com; swift and unbiased news summaries of global events in the past 24 hours.</td>\n",
       "    </tr>\n",
       "    <tr>\n",
       "      <th>177032</th>\n",
       "      <td>Android</td>\n",
       "      <td>TIL Change from \"Top News\" to \"Most Recent\"</td>\n",
       "    </tr>\n",
       "    <tr>\n",
       "      <th>165827</th>\n",
       "      <td>todayilearned</td>\n",
       "      <td>TIL: There is a website tracking famous people's death's.</td>\n",
       "    </tr>\n",
       "    <tr>\n",
       "      <th>137557</th>\n",
       "      <td>todayilearned</td>\n",
       "      <td>TIL in a study involving 9,000 participants worldwide, only 48% could identify the writing of Charles Dickens compared to a man considered \"the worst writer in history.\"</td>\n",
       "    </tr>\n",
       "    <tr>\n",
       "      <th>207035</th>\n",
       "      <td>todayilearned</td>\n",
       "      <td>TIL where most of the world's oil is as well as who uses it. Ironically, many are in of these countries are in recent world news.</td>\n",
       "    </tr>\n",
       "    <tr>\n",
       "      <th>...</th>\n",
       "      <td>...</td>\n",
       "      <td>...</td>\n",
       "    </tr>\n",
       "    <tr>\n",
       "      <th>162482</th>\n",
       "      <td>BlackMetal</td>\n",
       "      <td>Khold - Til Endes</td>\n",
       "    </tr>\n",
       "    <tr>\n",
       "      <th>295188</th>\n",
       "      <td>fitnesscirclejerk</td>\n",
       "      <td>TIL Silvy's cousin is 600lb</td>\n",
       "    </tr>\n",
       "    <tr>\n",
       "      <th>141463</th>\n",
       "      <td>dComArk</td>\n",
       "      <td>IJVM - Spørgsmål til stakkens indhold</td>\n",
       "    </tr>\n",
       "    <tr>\n",
       "      <th>254564</th>\n",
       "      <td>todayilearned</td>\n",
       "      <td>TIL about the Philipea...awwwwwwwww</td>\n",
       "    </tr>\n",
       "    <tr>\n",
       "      <th>168744</th>\n",
       "      <td>reddit.com</td>\n",
       "      <td>Trendysmykke til manden</td>\n",
       "    </tr>\n",
       "    <tr>\n",
       "      <th>291328</th>\n",
       "      <td>Iceland</td>\n",
       "      <td>Olli Rehn: ESB með tilbúinn efnahagspakka fyrir Ísland og skjöl sem sýna fram á að íslenskar eftirlitsstofnanir beinlínis hvöttu bankana til að fara á svig við reglugerðir</td>\n",
       "    </tr>\n",
       "    <tr>\n",
       "      <th>2687</th>\n",
       "      <td>splatoon</td>\n",
       "      <td>TIL You can get Timbs in Splatoon</td>\n",
       "    </tr>\n",
       "    <tr>\n",
       "      <th>129672</th>\n",
       "      <td>darksouls</td>\n",
       "      <td>TIL Solaire is already hollowing when he got to Anor Londo</td>\n",
       "    </tr>\n",
       "    <tr>\n",
       "      <th>306316</th>\n",
       "      <td>sex</td>\n",
       "      <td>TIL about pansexuality.</td>\n",
       "    </tr>\n",
       "    <tr>\n",
       "      <th>268785</th>\n",
       "      <td>todayilearned</td>\n",
       "      <td>TIL about Pansexuality</td>\n",
       "    </tr>\n",
       "    <tr>\n",
       "      <th>173117</th>\n",
       "      <td>todayilearned</td>\n",
       "      <td>TIL Rocksalt-how its made</td>\n",
       "    </tr>\n",
       "    <tr>\n",
       "      <th>94419</th>\n",
       "      <td>leagueoflegends</td>\n",
       "      <td>TIL Zed's ult is canceld with QSS</td>\n",
       "    </tr>\n",
       "    <tr>\n",
       "      <th>234471</th>\n",
       "      <td>todayilearned</td>\n",
       "      <td>TIL about microphallus [NSFW]</td>\n",
       "    </tr>\n",
       "    <tr>\n",
       "      <th>121015</th>\n",
       "      <td>Denmark</td>\n",
       "      <td>Naiv tiltro til systemet.</td>\n",
       "    </tr>\n",
       "    <tr>\n",
       "      <th>85930</th>\n",
       "      <td>Denmark</td>\n",
       "      <td>Ideer til SRP i matematik/fysik?</td>\n",
       "    </tr>\n",
       "    <tr>\n",
       "      <th>106752</th>\n",
       "      <td>Danish</td>\n",
       "      <td>Naser Khader´s svar til Poya Pakzads</td>\n",
       "    </tr>\n",
       "    <tr>\n",
       "      <th>259766</th>\n",
       "      <td>Tippeligaen</td>\n",
       "      <td>Bojan Zajic (VIF) bytter klubb til Sarpsborg 08</td>\n",
       "    </tr>\n",
       "    <tr>\n",
       "      <th>103236</th>\n",
       "      <td>Denmark</td>\n",
       "      <td>Spørgsmål til Inger Støjberg</td>\n",
       "    </tr>\n",
       "    <tr>\n",
       "      <th>264735</th>\n",
       "      <td>HomoInternetus</td>\n",
       "      <td>Slæm áhrif internetsnotkun, svona til að koma með smá gagnrýnilegt sjónarhorn líka.</td>\n",
       "    </tr>\n",
       "    <tr>\n",
       "      <th>212560</th>\n",
       "      <td>portugal</td>\n",
       "      <td>TIL que a bandeira e o brasão de Ceuta ainda usam o Escudo Português.</td>\n",
       "    </tr>\n",
       "    <tr>\n",
       "      <th>288180</th>\n",
       "      <td>Ragnaaaar</td>\n",
       "      <td>Mammaen til Ragnar i Parken</td>\n",
       "    </tr>\n",
       "    <tr>\n",
       "      <th>304161</th>\n",
       "      <td>tilbudshajen</td>\n",
       "      <td>Håg Capisco kontorstole i hvid til halv pris (restparti)</td>\n",
       "    </tr>\n",
       "    <tr>\n",
       "      <th>262955</th>\n",
       "      <td>bakchodi</td>\n",
       "      <td>TIL that FTFY ...</td>\n",
       "    </tr>\n",
       "    <tr>\n",
       "      <th>153052</th>\n",
       "      <td>todayilearned</td>\n",
       "      <td>TIL Trung tâm kế toán Hà Nội, Học kế toán tổng hợp cấp tốc</td>\n",
       "    </tr>\n",
       "    <tr>\n",
       "      <th>266792</th>\n",
       "      <td>AlbumArtPorn</td>\n",
       "      <td>Ulver - Nattens madrigal – Aatte hymne til ulven i manden [1000x1000]</td>\n",
       "    </tr>\n",
       "    <tr>\n",
       "      <th>183752</th>\n",
       "      <td>todayilearned</td>\n",
       "      <td>TIL NOOOOOOOOOOOOOOOO!!!</td>\n",
       "    </tr>\n",
       "    <tr>\n",
       "      <th>138691</th>\n",
       "      <td>beer</td>\n",
       "      <td>TIL it's pronouned MEERzen, not MARZen.</td>\n",
       "    </tr>\n",
       "    <tr>\n",
       "      <th>24780</th>\n",
       "      <td>todayilearned</td>\n",
       "      <td>TIL how Funyuns are made</td>\n",
       "    </tr>\n",
       "    <tr>\n",
       "      <th>183128</th>\n",
       "      <td>worldGlance</td>\n",
       "      <td>Leoncie komin aftur til Íslands [/u/avar]</td>\n",
       "    </tr>\n",
       "    <tr>\n",
       "      <th>193873</th>\n",
       "      <td>todayilearned</td>\n",
       "      <td>TIL What a gunt is.</td>\n",
       "    </tr>\n",
       "  </tbody>\n",
       "</table>\n",
       "<p>309065 rows × 2 columns</p>\n",
       "</div>"
      ],
      "text/plain": [
       "                subreddit  \\\n",
       "61896   todayilearned       \n",
       "100837  todayilearned       \n",
       "228312  todayilearned       \n",
       "153979  todayilearned       \n",
       "94818   Showerthoughts      \n",
       "192978  todayilearned       \n",
       "202293  todayilearned       \n",
       "108128  todayilearned       \n",
       "128696  todayilearned       \n",
       "23229   todayilearned       \n",
       "12229   Showerthoughts      \n",
       "257956  todayilearned       \n",
       "244817  todayilearned       \n",
       "133944  todayilearned       \n",
       "302152  todayilearned       \n",
       "154939  todayilearned       \n",
       "177389  todayilearned       \n",
       "119918  todayilearned       \n",
       "238568  todayilearned       \n",
       "256699  POLITIC             \n",
       "254847  todayilearned       \n",
       "221746  todayilearned       \n",
       "258165  todayilearned       \n",
       "148072  todayilearned       \n",
       "52250   wikipedia           \n",
       "103457  todayilearned       \n",
       "177032  Android             \n",
       "165827  todayilearned       \n",
       "137557  todayilearned       \n",
       "207035  todayilearned       \n",
       "...               ...       \n",
       "162482  BlackMetal          \n",
       "295188  fitnesscirclejerk   \n",
       "141463  dComArk             \n",
       "254564  todayilearned       \n",
       "168744  reddit.com          \n",
       "291328  Iceland             \n",
       "2687    splatoon            \n",
       "129672  darksouls           \n",
       "306316  sex                 \n",
       "268785  todayilearned       \n",
       "173117  todayilearned       \n",
       "94419   leagueoflegends     \n",
       "234471  todayilearned       \n",
       "121015  Denmark             \n",
       "85930   Denmark             \n",
       "106752  Danish              \n",
       "259766  Tippeligaen         \n",
       "103236  Denmark             \n",
       "264735  HomoInternetus      \n",
       "212560  portugal            \n",
       "288180  Ragnaaaar           \n",
       "304161  tilbudshajen        \n",
       "262955  bakchodi            \n",
       "153052  todayilearned       \n",
       "266792  AlbumArtPorn        \n",
       "183752  todayilearned       \n",
       "138691  beer                \n",
       "24780   todayilearned       \n",
       "183128  worldGlance         \n",
       "193873  todayilearned       \n",
       "\n",
       "                                                                                                                                                                                                                                                                                                            title  \n",
       "61896   TIL industry drug trials are 4 times more likely to give a positive result than independently sponsored trials                                                                                                                                                                                             \n",
       "100837  TIL King Colomon of Hungary famously stated that \"As for the matter of witches, there is no such thing, therefore no further investigations or trials are to be held\" nearly 700 years before the Salem Witch Trials                                                                                       \n",
       "228312  TIL that NEWS stands for \"notable events, weather, and sports                                                                                                                                                                                                                                              \n",
       "153979  TIL A study has found that people who watch no news at all can answer questions about current events better than people who solely watch Fox News                                                                                                                                                          \n",
       "94818   Today's /r/news are the next decades /r/TIL                                                                                                                                                                                                                                                                \n",
       "192978  TIL a man set himself on fire on USA for first time in history and not a single main newspaper considered \"news\"                                                                                                                                                                                           \n",
       "202293  TIL that during the Second World War, Nazi Germany performed very extensive medical experiments including extensive tests on children.... A lot of the experiments actually were used in developing modern medical techniques and many doctors got immunity for revealing their study results.             \n",
       "108128  TIL - McMartin Preschool Trial; one of the longest and most expensive criminal trials in history. It included allegations of witchcraft, sexual abuse, flying teachers and hidden tunnels. None of which turned out to be true.                                                                            \n",
       "128696  TIL there is man whose full-time hobby is giving man-on-the-street interviews so he'll be quoted in major publications. He’s so successful that the AP has banned their reporters from talking to him for stories.                                                                                         \n",
       "23229   TIL the FBI recently came forward to admit that their forensic examiners gave flawed testimony on hair sample testing for at least 257 trials over 20 years. (Another 2,200 cases are being reviewed and 32 were death penalty trials)                                                                     \n",
       "12229   Today's news headlines will in the future be TIL                                                                                                                                                                                                                                                           \n",
       "257956  TIL about an article called \"Fake News\" written by TV Guide about the lies leading to the first war in Iraq.                                                                                                                                                                                               \n",
       "244817  TIL the Canadian government has silenced a man who started a website which hosts real world news and events.                                                                                                                                                                                               \n",
       "133944  TIL That a form of \"Witch\" trials still went on in the 1980's and early 90's!                                                                                                                                                                                                                              \n",
       "302152  TIL Dichloroacetic acid has an 80% success rate in fighting cancer, while Chemotherapy has a 2% success rate, but no pharmaceutical company would pay for clinical trials because it was discovered hundreds of years ago and can no longer be patented...                                                 \n",
       "154939  TIL there is a website called \"darwinawards.com\" which shows different stories where people committed suicide or died in a very unusual way.                                                                                                                                                               \n",
       "177389  TIL Mind-reading breakthrough hailed by US scientists | Fox News                                                                                                                                                                                                                                           \n",
       "119918  TIL that today is World Cancer Day                                                                                                                                                                                                                                                                         \n",
       "238568  TIL About news stories that are sent to broadcasters by PR firms and shown as actual news                                                                                                                                                                                                                  \n",
       "256699  TIL that experts have proven that Vatican Radio, using technology that is long obsolete, has been causing tumors and leukemia in a village now known for its unusual amount of cancer related deaths.  The Catholic Church refuses to listen to the evidence.                                              \n",
       "254847  TIL 5 things about Albert Einstein that showed he was a \"Regular Joe\" with Life's typical trials & tribulations                                                                                                                                                                                            \n",
       "221746  TIL that the first broadcast of War Of The Worlds was presented as a series of simulated news bulletins, which suggested to many that an actual alien invasion was currently in progress. It was described as cruelly deceptive by some newspapers and public figures. The episode secured Welles's fame.  \n",
       "258165  TIL published research shows that chemotherapy is proven to help only 2% of people afflicted with cancer survive past the 5 year horizon.                                                                                                                                                                  \n",
       "148072  TIL there is a website solely dedicated to making fake Apple news stories.                                                                                                                                                                                                                                 \n",
       "52250   TIL that there is an entire Wikipedia page dedicated to Fox News Controversies.                                                                                                                                                                                                                            \n",
       "103457  TIL about 24in60.com; swift and unbiased news summaries of global events in the past 24 hours.                                                                                                                                                                                                             \n",
       "177032  TIL Change from \"Top News\" to \"Most Recent\"                                                                                                                                                                                                                                                                \n",
       "165827  TIL: There is a website tracking famous people's death's.                                                                                                                                                                                                                                                  \n",
       "137557  TIL in a study involving 9,000 participants worldwide, only 48% could identify the writing of Charles Dickens compared to a man considered \"the worst writer in history.\"                                                                                                                                  \n",
       "207035  TIL where most of the world's oil is as well as who uses it. Ironically, many are in of these countries are in recent world news.                                                                                                                                                                          \n",
       "...                                                                                                                                   ...                                                                                                                                                                          \n",
       "162482  Khold - Til Endes                                                                                                                                                                                                                                                                                          \n",
       "295188  TIL Silvy's cousin is 600lb                                                                                                                                                                                                                                                                                \n",
       "141463  IJVM - Spørgsmål til stakkens indhold                                                                                                                                                                                                                                                                      \n",
       "254564  TIL about the Philipea...awwwwwwwww                                                                                                                                                                                                                                                                        \n",
       "168744  Trendysmykke til manden                                                                                                                                                                                                                                                                                    \n",
       "291328  Olli Rehn: ESB með tilbúinn efnahagspakka fyrir Ísland og skjöl sem sýna fram á að íslenskar eftirlitsstofnanir beinlínis hvöttu bankana til að fara á svig við reglugerðir                                                                                                                                \n",
       "2687    TIL You can get Timbs in Splatoon                                                                                                                                                                                                                                                                          \n",
       "129672  TIL Solaire is already hollowing when he got to Anor Londo                                                                                                                                                                                                                                                 \n",
       "306316  TIL about pansexuality.                                                                                                                                                                                                                                                                                    \n",
       "268785  TIL about Pansexuality                                                                                                                                                                                                                                                                                     \n",
       "173117  TIL Rocksalt-how its made                                                                                                                                                                                                                                                                                  \n",
       "94419   TIL Zed's ult is canceld with QSS                                                                                                                                                                                                                                                                          \n",
       "234471  TIL about microphallus [NSFW]                                                                                                                                                                                                                                                                              \n",
       "121015  Naiv tiltro til systemet.                                                                                                                                                                                                                                                                                  \n",
       "85930   Ideer til SRP i matematik/fysik?                                                                                                                                                                                                                                                                           \n",
       "106752  Naser Khader´s svar til Poya Pakzads                                                                                                                                                                                                                                                                       \n",
       "259766  Bojan Zajic (VIF) bytter klubb til Sarpsborg 08                                                                                                                                                                                                                                                            \n",
       "103236  Spørgsmål til Inger Støjberg                                                                                                                                                                                                                                                                               \n",
       "264735  Slæm áhrif internetsnotkun, svona til að koma með smá gagnrýnilegt sjónarhorn líka.                                                                                                                                                                                                                        \n",
       "212560  TIL que a bandeira e o brasão de Ceuta ainda usam o Escudo Português.                                                                                                                                                                                                                                      \n",
       "288180  Mammaen til Ragnar i Parken                                                                                                                                                                                                                                                                                \n",
       "304161  Håg Capisco kontorstole i hvid til halv pris (restparti)                                                                                                                                                                                                                                                   \n",
       "262955  TIL that FTFY ...                                                                                                                                                                                                                                                                                          \n",
       "153052  TIL Trung tâm kế toán Hà Nội, Học kế toán tổng hợp cấp tốc                                                                                                                                                                                                                                                 \n",
       "266792  Ulver - Nattens madrigal – Aatte hymne til ulven i manden [1000x1000]                                                                                                                                                                                                                                      \n",
       "183752  TIL NOOOOOOOOOOOOOOOO!!!                                                                                                                                                                                                                                                                                   \n",
       "138691  TIL it's pronouned MEERzen, not MARZen.                                                                                                                                                                                                                                                                    \n",
       "24780   TIL how Funyuns are made                                                                                                                                                                                                                                                                                   \n",
       "183128  Leoncie komin aftur til Íslands [/u/avar]                                                                                                                                                                                                                                                                  \n",
       "193873  TIL What a gunt is.                                                                                                                                                                                                                                                                                        \n",
       "\n",
       "[309065 rows x 2 columns]"
      ]
     },
     "execution_count": 306,
     "metadata": {},
     "output_type": "execute_result"
    }
   ],
   "source": [
    "query = \"famous trials news\"\n",
    "query_tfidf = vectorizer.transform([query])\n",
    "query_weighted = query_tfidf.dot(f_vectors).flatten()\n",
    "n_query_weighted = query_weighted / np.linalg.norm(query_weighted)\n",
    "rankings = n_weighted_embedding.dot(n_query_weighted)\n",
    "rankings_index = np.argsort(-rankings)\n",
    "fun_fact_df[[\"subreddit\", \"title\"]].loc[rankings_index]"
   ]
  },
  {
   "cell_type": "code",
   "execution_count": 307,
   "metadata": {},
   "outputs": [
    {
     "data": {
      "text/plain": [
       "array([0.69792724, 0.5233627 , 0.48886514], dtype=float32)"
      ]
     },
     "execution_count": 307,
     "metadata": {},
     "output_type": "execute_result"
    }
   ],
   "source": [
    "query_tfidf.data"
   ]
  },
  {
   "cell_type": "code",
   "execution_count": 308,
   "metadata": {},
   "outputs": [
    {
     "name": "stdout",
     "output_type": "stream",
     "text": [
      "0.7615336 TIL industry drug trials are 4 times more likely to give a positive result than independently sponsored trials\n",
      "0.7465783 TIL King Colomon of Hungary famously stated that \"As for the matter of witches, there is no such thing, therefore no further investigations or trials are to be held\" nearly 700 years before the Salem Witch Trials\n",
      "0.72198457 TIL that NEWS stands for \"notable events, weather, and sports\n",
      "0.71804994 TIL A study has found that people who watch no news at all can answer questions about current events better than people who solely watch Fox News\n",
      "0.7104738 Today's /r/news are the next decades /r/TIL\n",
      "0.7055966 TIL a man set himself on fire on USA for first time in history and not a single main newspaper considered \"news\"\n",
      "0.70351666 TIL that during the Second World War, Nazi Germany performed very extensive medical experiments including extensive tests on children.... A lot of the experiments actually were used in developing modern medical techniques and many doctors got immunity for revealing their study results.\n",
      "0.7023954 TIL - McMartin Preschool Trial; one of the longest and most expensive criminal trials in history. It included allegations of witchcraft, sexual abuse, flying teachers and hidden tunnels. None of which turned out to be true.\n",
      "0.7002432 TIL there is man whose full-time hobby is giving man-on-the-street interviews so he'll be quoted in major publications. He’s so successful that the AP has banned their reporters from talking to him for stories.\n",
      "0.69971436 TIL the FBI recently came forward to admit that their forensic examiners gave flawed testimony on hair sample testing for at least 257 trials over 20 years. (Another 2,200 cases are being reviewed and 32 were death penalty trials)\n",
      "0.69640446 Today's news headlines will in the future be TIL\n",
      "0.69414407 TIL about an article called \"Fake News\" written by TV Guide about the lies leading to the first war in Iraq.\n",
      "0.6915738 TIL the Canadian government has silenced a man who started a website which hosts real world news and events.\n",
      "0.6899366 TIL That a form of \"Witch\" trials still went on in the 1980's and early 90's!\n",
      "0.6876278 TIL Dichloroacetic acid has an 80% success rate in fighting cancer, while Chemotherapy has a 2% success rate, but no pharmaceutical company would pay for clinical trials because it was discovered hundreds of years ago and can no longer be patented...\n",
      "0.68712455 TIL there is a website called \"darwinawards.com\" which shows different stories where people committed suicide or died in a very unusual way.\n",
      "0.6866811 TIL Mind-reading breakthrough hailed by US scientists | Fox News\n",
      "0.6846849 TIL that today is World Cancer Day\n",
      "0.6846108 TIL About news stories that are sent to broadcasters by PR firms and shown as actual news\n",
      "0.68458825 TIL that experts have proven that Vatican Radio, using technology that is long obsolete, has been causing tumors and leukemia in a village now known for its unusual amount of cancer related deaths.  The Catholic Church refuses to listen to the evidence.\n"
     ]
    }
   ],
   "source": [
    "for i in range(20):\n",
    "    print(rankings[rankings_index[i]], titles[rankings_index[i]])"
   ]
  },
  {
   "cell_type": "code",
   "execution_count": 309,
   "metadata": {},
   "outputs": [
    {
     "data": {
      "image/png": "[encoded data removed]",
      "text/plain": [
       "<Figure size 432x288 with 1 Axes>"
      ]
     },
     "metadata": {
      "needs_background": "light"
     },
     "output_type": "display_data"
    },
    {
     "data": {
      "image/png": "[encoded data removed]",
      "text/plain": [
       "<Figure size 432x288 with 1 Axes>"
      ]
     },
     "metadata": {
      "needs_background": "light"
     },
     "output_type": "display_data"
    },
    {
     "data": {
      "image/png": "[encoded data removed]",
      "text/plain": [
       "<Figure size 432x288 with 1 Axes>"
      ]
     },
     "metadata": {
      "needs_background": "light"
     },
     "output_type": "display_data"
    }
   ],
   "source": [
    "plt.plot(rankings[rankings_index])\n",
    "plt.show()\n",
    "plt.plot(rankings[rankings_index[:1000]])\n",
    "plt.show()\n",
    "plt.plot(rankings[rankings_index[:100]])\n",
    "plt.show()"
   ]
  },
  {
   "cell_type": "code",
   "execution_count": 310,
   "metadata": {},
   "outputs": [
    {
     "data": {
      "text/plain": [
       "(array([1.0000e+00, 2.0000e+00, 3.0000e+00, 2.0000e+00, 1.0000e+00,\n",
       "        1.0000e+01, 1.3000e+01, 2.9000e+01, 3.9000e+01, 4.6000e+01,\n",
       "        5.2000e+01, 5.0000e+01, 8.3000e+01, 9.1000e+01, 1.3400e+02,\n",
       "        1.6400e+02, 2.1200e+02, 1.9800e+02, 2.2100e+02, 2.4200e+02,\n",
       "        2.8600e+02, 3.0000e+02, 3.0500e+02, 3.6600e+02, 4.2300e+02,\n",
       "        4.5700e+02, 4.8400e+02, 4.8000e+02, 5.8600e+02, 1.5240e+03,\n",
       "        6.4500e+02, 6.8700e+02, 7.7100e+02, 8.4800e+02, 8.9100e+02,\n",
       "        1.0810e+03, 1.1000e+03, 1.2490e+03, 1.3390e+03, 1.5380e+03,\n",
       "        1.6420e+03, 1.9120e+03, 2.0910e+03, 2.2790e+03, 2.5170e+03,\n",
       "        2.7400e+03, 3.0940e+03, 3.2450e+03, 3.5920e+03, 4.0230e+03,\n",
       "        4.3420e+03, 4.7670e+03, 5.1740e+03, 5.7120e+03, 6.4630e+03,\n",
       "        6.4940e+03, 7.0500e+03, 7.8220e+03, 8.0600e+03, 8.5440e+03,\n",
       "        8.7900e+03, 9.3240e+03, 9.8720e+03, 1.0241e+04, 1.0788e+04,\n",
       "        1.0914e+04, 1.1303e+04, 1.1392e+04, 1.1410e+04, 1.1251e+04,\n",
       "        1.1009e+04, 1.0726e+04, 1.0307e+04, 9.8320e+03, 9.0510e+03,\n",
       "        8.5230e+03, 7.3410e+03, 6.4380e+03, 5.2870e+03, 4.4420e+03,\n",
       "        3.6340e+03, 2.5730e+03, 2.0190e+03, 1.4230e+03, 1.0730e+03,\n",
       "        6.5900e+02, 3.4900e+02, 2.5100e+02, 1.4500e+02, 7.9000e+01,\n",
       "        4.9000e+01, 2.0000e+01, 1.7000e+01, 7.0000e+00, 5.0000e+00,\n",
       "        2.0000e+00, 1.0000e+00, 0.0000e+00, 1.0000e+00, 1.0000e+00]),\n",
       " array([-0.32088476, -0.3100606 , -0.2992364 , -0.2884122 , -0.27758804,\n",
       "        -0.26676384, -0.25593966, -0.24511547, -0.2342913 , -0.22346711,\n",
       "        -0.21264292, -0.20181875, -0.19099456, -0.18017037, -0.16934618,\n",
       "        -0.15852201, -0.14769782, -0.13687363, -0.12604946, -0.11522527,\n",
       "        -0.10440109, -0.0935769 , -0.08275272, -0.07192854, -0.06110435,\n",
       "        -0.05028017, -0.03945598, -0.0286318 , -0.01780762, -0.00698343,\n",
       "         0.00384075,  0.01466493,  0.02548912,  0.0363133 ,  0.04713748,\n",
       "         0.05796167,  0.06878585,  0.07961003,  0.09043422,  0.1012584 ,\n",
       "         0.11208259,  0.12290677,  0.13373096,  0.14455514,  0.15537933,\n",
       "         0.16620351,  0.17702769,  0.18785188,  0.19867606,  0.20950024,\n",
       "         0.22032443,  0.23114862,  0.24197279,  0.25279698,  0.26362115,\n",
       "         0.27444535,  0.28526953,  0.2960937 ,  0.3069179 ,  0.31774208,\n",
       "         0.32856625,  0.33939046,  0.35021463,  0.3610388 ,  0.371863  ,\n",
       "         0.38268718,  0.39351135,  0.40433556,  0.41515973,  0.4259839 ,\n",
       "         0.4368081 ,  0.44763228,  0.45845646,  0.46928066,  0.48010483,\n",
       "         0.49092904,  0.5017532 ,  0.5125774 ,  0.52340156,  0.53422576,\n",
       "         0.54504997,  0.5558741 ,  0.5666983 ,  0.5775225 ,  0.58834666,\n",
       "         0.59917086,  0.60999507,  0.6208192 ,  0.6316434 ,  0.6424676 ,\n",
       "         0.65329176,  0.66411597,  0.67494017,  0.6857643 ,  0.6965885 ,\n",
       "         0.7074127 ,  0.71823686,  0.72906107,  0.7398853 ,  0.7507094 ,\n",
       "         0.7615336 ], dtype=float32),\n",
       " <a list of 100 Patch objects>)"
      ]
     },
     "execution_count": 310,
     "metadata": {},
     "output_type": "execute_result"
    },
    {
     "data": {
      "image/png": "[encoded data removed]",
      "text/plain": [
       "<Figure size 432x288 with 1 Axes>"
      ]
     },
     "metadata": {
      "needs_background": "light"
     },
     "output_type": "display_data"
    }
   ],
   "source": [
    "plt.hist(rankings[rankings_index], bins=100)"
   ]
  },
  {
   "cell_type": "code",
   "execution_count": null,
   "metadata": {},
   "outputs": [],
   "source": []
  },
  {
   "cell_type": "code",
   "execution_count": 311,
   "metadata": {},
   "outputs": [],
   "source": [
    "from sklearn.cluster import KMeans\n",
    "from sklearn.metrics import pairwise_distances_argmin_min"
   ]
  },
  {
   "cell_type": "code",
   "execution_count": 312,
   "metadata": {},
   "outputs": [
    {
     "name": "stdout",
     "output_type": "stream",
     "text": [
      "0-10, 10-122\n"
     ]
    }
   ],
   "source": [
    "TOP_HITS_KMEANS = 10\n",
    "TOP_HITS_KMEANS2 = np.argmax(rankings[rankings_index] < .65)\n",
    "if TOP_HITS_KMEANS2 < 20:\n",
    "    TOP_HITS_KMEANS2 = np.argmax(rankings[rankings_index] < .55)\n",
    "TOP_HITS_KMEANS2 = max(TOP_HITS_KMEANS2, 20)\n",
    "print(\"{}-{}, {}-{}\".format(0, TOP_HITS_KMEANS, TOP_HITS_KMEANS, TOP_HITS_KMEANS2))\n",
    "ranked_titles = titles[rankings_index].tolist()\n",
    "top_ranked_em = n_weighted_embedding[rankings_index]\n",
    "kmeans = KMeans(n_clusters=3, random_state=0).fit(top_ranked_em[:TOP_HITS_KMEANS])"
   ]
  },
  {
   "cell_type": "code",
   "execution_count": 313,
   "metadata": {},
   "outputs": [
    {
     "name": "stdout",
     "output_type": "stream",
     "text": [
      "1 0.7615 TIL industry drug trials are 4 times more likely to give a positive result than independently sponsored trials\n",
      "1 0.7466 TIL King Colomon of Hungary famously stated that \"As for the matter of witches, there is no such thing, therefore no further investigations or trials are to be held\" nearly 700 years before the Salem Witch Trials\n",
      "2 0.7220 TIL that NEWS stands for \"notable events, weather, and sports\n",
      "0 0.7180 TIL A study has found that people who watch no news at all can answer questions about current events better than people who solely watch Fox News\n",
      "2 0.7105 Today's /r/news are the next decades /r/TIL\n",
      "0 0.7056 TIL a man set himself on fire on USA for first time in history and not a single main newspaper considered \"news\"\n",
      "1 0.7035 TIL that during the Second World War, Nazi Germany performed very extensive medical experiments including extensive tests on children.... A lot of the experiments actually were used in developing modern medical techniques and many doctors got immunity for revealing their study results.\n",
      "1 0.7024 TIL - McMartin Preschool Trial; one of the longest and most expensive criminal trials in history. It included allegations of witchcraft, sexual abuse, flying teachers and hidden tunnels. None of which turned out to be true.\n",
      "0 0.7002 TIL there is man whose full-time hobby is giving man-on-the-street interviews so he'll be quoted in major publications. He’s so successful that the AP has banned their reporters from talking to him for stories.\n",
      "1 0.6997 TIL the FBI recently came forward to admit that their forensic examiners gave flawed testimony on hair sample testing for at least 257 trials over 20 years. (Another 2,200 cases are being reviewed and 32 were death penalty trials)\n"
     ]
    }
   ],
   "source": [
    "for i in range(min(20, TOP_HITS_KMEANS)):\n",
    "    print(kmeans.labels_[i], \"{:.4f}\".format(rankings[rankings_index[i]]), titles[rankings_index[i]])"
   ]
  },
  {
   "cell_type": "code",
   "execution_count": 314,
   "metadata": {},
   "outputs": [],
   "source": [
    "closest, _ = pairwise_distances_argmin_min(kmeans.cluster_centers_, top_ranked_em[:TOP_HITS_KMEANS])"
   ]
  },
  {
   "cell_type": "code",
   "execution_count": 315,
   "metadata": {},
   "outputs": [
    {
     "name": "stdout",
     "output_type": "stream",
     "text": [
      "0 TIL there is man whose full-time hobby is giving man-on-the-street interviews so he'll be quoted in major publications. He’s so successful that the AP has banned their reporters from talking to him for stories.\n",
      "1 TIL the FBI recently came forward to admit that their forensic examiners gave flawed testimony on hair sample testing for at least 257 trials over 20 years. (Another 2,200 cases are being reviewed and 32 were death penalty trials)\n",
      "2 TIL that NEWS stands for \"notable events, weather, and sports\n"
     ]
    }
   ],
   "source": [
    "for c, i in enumerate(closest):\n",
    "    print(c, ranked_titles[i])"
   ]
  },
  {
   "cell_type": "code",
   "execution_count": 316,
   "metadata": {},
   "outputs": [
    {
     "name": "stdout",
     "output_type": "stream",
     "text": [
      "0 TIL A new study published in the Journal of Medical Internet Research has claimed that a phone may be able to tell or predict depression in humans better than self-assessment.\n",
      "1 TIL how the New York times was able to change its entire prepared front page in hours using pure investigative journalism, and what that means given our modern era of internet news aggregators\n",
      "2 TIL there is a website called \"darwinawards.com\" which shows different stories where people committed suicide or died in a very unusual way.\n",
      "3 Today's news headlines will in the future be TIL\n",
      "4 TIL an Italian murder trial was stopped when the judge noticed two members of Court staff having sex.\n",
      "5 TIL that a university student in Malta wrote a false article about Brexit as part of a research project about the phenomenon of fake news which later ends up being on a local newspaper believing that his article was legitimate\n",
      "6 TIL 10 Greatest Historical events the world forgot about\n"
     ]
    }
   ],
   "source": [
    "kmeans2 = KMeans(n_clusters=7, random_state=0).fit(top_ranked_em[TOP_HITS_KMEANS:TOP_HITS_KMEANS2])\n",
    "closest2, _ = pairwise_distances_argmin_min(kmeans2.cluster_centers_, top_ranked_em[TOP_HITS_KMEANS:TOP_HITS_KMEANS2])\n",
    "for c, i in enumerate(closest2):\n",
    "    print(c, ranked_titles[i + TOP_HITS_KMEANS])"
   ]
  },
  {
   "cell_type": "markdown",
   "metadata": {},
   "source": [
    "# Doing more clusters and picking biggest ones"
   ]
  },
  {
   "cell_type": "code",
   "execution_count": 317,
   "metadata": {},
   "outputs": [
    {
     "name": "stdout",
     "output_type": "stream",
     "text": [
      "20\n"
     ]
    }
   ],
   "source": [
    "TOP_HITS_KMEANS = max(20,np.sum(scipy.stats.zscore(rankings[rankings_index]) > 3.5))\n",
    "print(TOP_HITS_KMEANS)\n",
    "ranked_titles = titles[rankings_index].tolist()\n",
    "top_ranked_em = n_weighted_embedding[rankings_index]\n",
    "kmeans = KMeans(n_clusters=20, random_state=0).fit(top_ranked_em[:TOP_HITS_KMEANS])"
   ]
  },
  {
   "cell_type": "code",
   "execution_count": 318,
   "metadata": {},
   "outputs": [
    {
     "name": "stdout",
     "output_type": "stream",
     "text": [
      "0 TIL industry drug trials are 4 times more likely to give a positive result than independently sponsored trials\n",
      "1 TIL King Colomon of Hungary famously stated that \"As for the matter of witches, there is no such thing, therefore no further investigations or trials are to be held\" nearly 700 years before the Salem Witch Trials\n",
      "2 TIL that NEWS stands for \"notable events, weather, and sports\n",
      "3 TIL A study has found that people who watch no news at all can answer questions about current events better than people who solely watch Fox News\n",
      "4 Today's /r/news are the next decades /r/TIL\n",
      "5 TIL a man set himself on fire on USA for first time in history and not a single main newspaper considered \"news\"\n",
      "6 TIL that during the Second World War, Nazi Germany performed very extensive medical experiments including extensive tests on children.... A lot of the experiments actually were used in developing modern medical techniques and many doctors got immunity for revealing their study results.\n",
      "7 TIL - McMartin Preschool Trial; one of the longest and most expensive criminal trials in history. It included allegations of witchcraft, sexual abuse, flying teachers and hidden tunnels. None of which turned out to be true.\n",
      "8 TIL there is man whose full-time hobby is giving man-on-the-street interviews so he'll be quoted in major publications. He’s so successful that the AP has banned their reporters from talking to him for stories.\n",
      "9 TIL the FBI recently came forward to admit that their forensic examiners gave flawed testimony on hair sample testing for at least 257 trials over 20 years. (Another 2,200 cases are being reviewed and 32 were death penalty trials)\n"
     ]
    }
   ],
   "source": [
    "import collections\n",
    "counter = collections.Counter(kmeans.labels_)\n",
    "most_common = counter.most_common(10)\n",
    "most_common = [i[0] for i in most_common]\n",
    "closest2, _ = pairwise_distances_argmin_min(kmeans.cluster_centers_[most_common], top_ranked_em[:TOP_HITS_KMEANS])\n",
    "for c, i in enumerate(closest2):\n",
    "    print(c, ranked_titles[i])"
   ]
  },
  {
   "cell_type": "code",
   "execution_count": null,
   "metadata": {},
   "outputs": [],
   "source": []
  },
  {
   "cell_type": "code",
   "execution_count": null,
   "metadata": {},
   "outputs": [],
   "source": []
  }
 ],
 "metadata": {
  "kernelspec": {
   "display_name": "Python 3",
   "language": "python",
   "name": "python3"
  },
  "language_info": {
   "codemirror_mode": {
    "name": "ipython",
    "version": 3
   },
   "file_extension": ".py",
   "mimetype": "text/x-python",
   "name": "python",
   "nbconvert_exporter": "python",
   "pygments_lexer": "ipython3",
   "version": "3.6.5"
  }
 },
 "nbformat": 4,
 "nbformat_minor": 2
}
