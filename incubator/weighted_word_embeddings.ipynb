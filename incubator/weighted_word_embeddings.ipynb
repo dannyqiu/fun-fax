{
 "cells": [
  {
   "cell_type": "code",
   "execution_count": 5,
   "metadata": {},
   "outputs": [],
   "source": [
    "import spacy\n",
    "nlp = spacy.load('en_core_web_lg', disable=[\"parser\", \"tagger\", \"ner\"])"
   ]
  },
  {
   "cell_type": "code",
   "execution_count": 6,
   "metadata": {},
   "outputs": [],
   "source": [
    "import pandas as pd\n",
    "import numpy as np\n",
    "import matplotlib.pyplot as plt\n",
    "pd.set_option('display.max_colwidth', -1)\n",
    "EPS = 1e-6"
   ]
  },
  {
   "cell_type": "code",
   "execution_count": 8,
   "metadata": {},
   "outputs": [
    {
     "name": "stderr",
     "output_type": "stream",
     "text": [
      "/Users/Arshi/anaconda/envs/myenv/lib/python3.6/site-packages/IPython/core/interactiveshell.py:3049: DtypeWarning: Columns (0,1,2,3,5,8,9,13,14,15,16,19,21,22,24,27,28,33,34,35,41,46,58,60,62,63,64,65,68,74,79,85,92,121) have mixed types. Specify dtype option on import or set low_memory=False.\n",
      "  interactivity=interactivity, compiler=compiler, result=result)\n"
     ]
    }
   ],
   "source": [
    "fun_fact_df = pd.read_csv('data/til_title.csv')"
   ]
  },
  {
   "cell_type": "code",
   "execution_count": 9,
   "metadata": {},
   "outputs": [],
   "source": [
    "required_columns = ['title', 'subreddit', 'permalink']\n",
    "fun_fact_df = fun_fact_df.dropna(axis='rows', subset=required_columns)"
   ]
  },
  {
   "cell_type": "code",
   "execution_count": 10,
   "metadata": {},
   "outputs": [],
   "source": [
    "banned_subreddits = ['circlejerk', 'ShittyTodayILearned', 'TheOnion']\n",
    "fun_fact_df = fun_fact_df[~fun_fact_df['subreddit'].isin(banned_subreddits)]"
   ]
  },
  {
   "cell_type": "code",
   "execution_count": 11,
   "metadata": {},
   "outputs": [],
   "source": [
    "fun_fact_df = fun_fact_df.reset_index(drop=True)"
   ]
  },
  {
   "cell_type": "code",
   "execution_count": 12,
   "metadata": {},
   "outputs": [],
   "source": [
    "from sklearn.feature_extraction.text import TfidfVectorizer\n",
    "import scipy"
   ]
  },
  {
   "cell_type": "code",
   "execution_count": 13,
   "metadata": {},
   "outputs": [],
   "source": [
    "vectorizer = TfidfVectorizer(stop_words='english', max_df=.8, ngram_range=(1,1), dtype=np.float32)\n",
    "titles = fun_fact_df['title']\n",
    "fun_fact_tfidf = vectorizer.fit_transform(titles)"
   ]
  },
  {
   "cell_type": "code",
   "execution_count": 14,
   "metadata": {},
   "outputs": [
    {
     "data": {
      "text/plain": [
       "<309065x125402 sparse matrix of type '<class 'numpy.float32'>'\n",
       "\twith 2793174 stored elements in Compressed Sparse Row format>"
      ]
     },
     "execution_count": 14,
     "metadata": {},
     "output_type": "execute_result"
    }
   ],
   "source": [
    "fun_fact_tfidf"
   ]
  },
  {
   "cell_type": "code",
   "execution_count": 15,
   "metadata": {},
   "outputs": [
    {
     "data": {
      "text/plain": [
       "125402"
      ]
     },
     "execution_count": 15,
     "metadata": {},
     "output_type": "execute_result"
    }
   ],
   "source": [
    "len(vectorizer.get_feature_names())"
   ]
  },
  {
   "cell_type": "code",
   "execution_count": 16,
   "metadata": {},
   "outputs": [
    {
     "data": {
      "text/plain": [
       "309065"
      ]
     },
     "execution_count": 16,
     "metadata": {},
     "output_type": "execute_result"
    }
   ],
   "source": [
    "len(fun_fact_df['title'])"
   ]
  },
  {
   "cell_type": "code",
   "execution_count": 17,
   "metadata": {},
   "outputs": [
    {
     "data": {
      "text/plain": [
       "matrix([[ 6],\n",
       "        [10],\n",
       "        [26],\n",
       "        ...,\n",
       "        [ 4],\n",
       "        [14],\n",
       "        [ 5]])"
      ]
     },
     "execution_count": 17,
     "metadata": {},
     "output_type": "execute_result"
    }
   ],
   "source": [
    "np.sum(fun_fact_tfidf > 0, axis=1) # shows number of tfidf words per doc"
   ]
  },
  {
   "cell_type": "code",
   "execution_count": 18,
   "metadata": {},
   "outputs": [
    {
     "name": "stdout",
     "output_type": "stream",
     "text": [
      "(309065, 300)\n"
     ]
    }
   ],
   "source": [
    "features = vectorizer.get_feature_names()\n",
    "f_vectors = np.array([nlp.vocab[f].vector for f in features])\n",
    "weighted_embedding = fun_fact_tfidf.dot(f_vectors)\n",
    "print(weighted_embedding.shape)"
   ]
  },
  {
   "cell_type": "code",
   "execution_count": 19,
   "metadata": {},
   "outputs": [],
   "source": [
    "n_weighted_embedding = weighted_embedding / (np.linalg.norm(weighted_embedding, axis=1)[:, np.newaxis] + EPS)"
   ]
  },
  {
   "cell_type": "code",
   "execution_count": 20,
   "metadata": {},
   "outputs": [
    {
     "name": "stdout",
     "output_type": "stream",
     "text": [
      "0.9999999\n",
      "0.9999998\n"
     ]
    }
   ],
   "source": [
    "print(np.linalg.norm(n_weighted_embedding[22291]))\n",
    "print(np.linalg.norm(n_weighted_embedding[10493]))"
   ]
  },
  {
   "cell_type": "code",
   "execution_count": 183,
   "metadata": {},
   "outputs": [
    {
     "data": {
      "text/html": [
       "<div>\n",
       "<style scoped>\n",
       "    .dataframe tbody tr th:only-of-type {\n",
       "        vertical-align: middle;\n",
       "    }\n",
       "\n",
       "    .dataframe tbody tr th {\n",
       "        vertical-align: top;\n",
       "    }\n",
       "\n",
       "    .dataframe thead th {\n",
       "        text-align: right;\n",
       "    }\n",
       "</style>\n",
       "<table border=\"1\" class=\"dataframe\">\n",
       "  <thead>\n",
       "    <tr style=\"text-align: right;\">\n",
       "      <th></th>\n",
       "      <th>subreddit</th>\n",
       "      <th>title</th>\n",
       "    </tr>\n",
       "  </thead>\n",
       "  <tbody>\n",
       "    <tr>\n",
       "      <th>78733</th>\n",
       "      <td>todayilearned</td>\n",
       "      <td>TIL that Donald Trump has a son called Donald Trump Jr and a grandson named Donald Trump III</td>\n",
       "    </tr>\n",
       "    <tr>\n",
       "      <th>69266</th>\n",
       "      <td>todayilearned</td>\n",
       "      <td>TIL George Lucas is richer than Donald Trump</td>\n",
       "    </tr>\n",
       "    <tr>\n",
       "      <th>14355</th>\n",
       "      <td>todayilearned</td>\n",
       "      <td>TIL: Donald Trump is a racist.</td>\n",
       "    </tr>\n",
       "    <tr>\n",
       "      <th>65832</th>\n",
       "      <td>Eve</td>\n",
       "      <td>TIL Donald Trump plays EvE</td>\n",
       "    </tr>\n",
       "    <tr>\n",
       "      <th>21678</th>\n",
       "      <td>til</td>\n",
       "      <td>TIL Donald Trump made a cameo in Home Alone 2</td>\n",
       "    </tr>\n",
       "    <tr>\n",
       "      <th>306884</th>\n",
       "      <td>todayilearned</td>\n",
       "      <td>TIL: That all of Donald Trump's and Ivanka Trump's clothing line is made abroad.</td>\n",
       "    </tr>\n",
       "    <tr>\n",
       "      <th>248913</th>\n",
       "      <td>JonTron</td>\n",
       "      <td>[NSFL] TIL if Jontron was Bernard Sanderosa he'd be \"Not so Trump\"</td>\n",
       "    </tr>\n",
       "    <tr>\n",
       "      <th>235777</th>\n",
       "      <td>todayilearned</td>\n",
       "      <td>TIL Donald Trump is in the WWE Hall of Fame</td>\n",
       "    </tr>\n",
       "    <tr>\n",
       "      <th>207169</th>\n",
       "      <td>todayilearned</td>\n",
       "      <td>TIL that Donald Trump is a birther.</td>\n",
       "    </tr>\n",
       "    <tr>\n",
       "      <th>178729</th>\n",
       "      <td>todayilearned</td>\n",
       "      <td>TIL Donald Trump is a Birther</td>\n",
       "    </tr>\n",
       "    <tr>\n",
       "      <th>95076</th>\n",
       "      <td>todayilearned</td>\n",
       "      <td>TIL that Donald Trump is a birther</td>\n",
       "    </tr>\n",
       "    <tr>\n",
       "      <th>13647</th>\n",
       "      <td>todayilearned</td>\n",
       "      <td>TIL Arnold Schwarzenegger is not voting for Donald Trump</td>\n",
       "    </tr>\n",
       "    <tr>\n",
       "      <th>147216</th>\n",
       "      <td>todayilearned</td>\n",
       "      <td>TIL Donald Trump's father's middle name was Christ.</td>\n",
       "    </tr>\n",
       "    <tr>\n",
       "      <th>112547</th>\n",
       "      <td>todayilearned</td>\n",
       "      <td>TIL: Nobody has more respect for women than Donald Trump</td>\n",
       "    </tr>\n",
       "    <tr>\n",
       "      <th>301809</th>\n",
       "      <td>todayilearned</td>\n",
       "      <td>TIL liberals don't like Donald Trump</td>\n",
       "    </tr>\n",
       "    <tr>\n",
       "      <th>144185</th>\n",
       "      <td>todayilearned</td>\n",
       "      <td>TIL Donald Trump's ex wife Ivana Trump stated during her divorce case that Donald had raped her.</td>\n",
       "    </tr>\n",
       "    <tr>\n",
       "      <th>121132</th>\n",
       "      <td>politics</td>\n",
       "      <td>TIL that Bernie Sanders is polling better against Donald Trump (+7.7%) than Hillary Clinton is (+4.0%)</td>\n",
       "    </tr>\n",
       "    <tr>\n",
       "      <th>235591</th>\n",
       "      <td>todayilearned</td>\n",
       "      <td>TIL Keith Richards threatened to stab Donald Trump in 1989.</td>\n",
       "    </tr>\n",
       "    <tr>\n",
       "      <th>255048</th>\n",
       "      <td>videos</td>\n",
       "      <td>TIL Donald Trump was on WWE. President Camacho is real life.</td>\n",
       "    </tr>\n",
       "    <tr>\n",
       "      <th>113139</th>\n",
       "      <td>todayilearned</td>\n",
       "      <td>TIL 10 THINGS YOU SHOULD KNOW ABOUT DONALD TRUMP</td>\n",
       "    </tr>\n",
       "    <tr>\n",
       "      <th>154697</th>\n",
       "      <td>metacanada</td>\n",
       "      <td>TIL Donald Trump endorsed Justin Trudeau</td>\n",
       "    </tr>\n",
       "    <tr>\n",
       "      <th>221749</th>\n",
       "      <td>todayilearned</td>\n",
       "      <td>TIL Donald Trump sued Bill Maher for $5M, and his lawyer sent a letter to Maher saying that \"he (Trump) is the son of Fred Trump, not an orangutan\".</td>\n",
       "    </tr>\n",
       "    <tr>\n",
       "      <th>71466</th>\n",
       "      <td>todayilearned</td>\n",
       "      <td>TIL Today is Donald \"The President\" Trump's Birthday</td>\n",
       "    </tr>\n",
       "    <tr>\n",
       "      <th>233675</th>\n",
       "      <td>todayilearned</td>\n",
       "      <td>TIL that, while using Google to translate English to Korean, \"Donald Trump\" and \"fuck Donald Trump\" have the same meaning.</td>\n",
       "    </tr>\n",
       "    <tr>\n",
       "      <th>40678</th>\n",
       "      <td>todayilearned</td>\n",
       "      <td>TIL who Donald Glover is</td>\n",
       "    </tr>\n",
       "    <tr>\n",
       "      <th>93033</th>\n",
       "      <td>pics</td>\n",
       "      <td>TIL That Donald Glover is a donglover</td>\n",
       "    </tr>\n",
       "    <tr>\n",
       "      <th>89820</th>\n",
       "      <td>todayilearned</td>\n",
       "      <td>TIL the queen may or may not be invading the USA due to Donald Trump</td>\n",
       "    </tr>\n",
       "    <tr>\n",
       "      <th>216032</th>\n",
       "      <td>todayilearned</td>\n",
       "      <td>TIL If Donald Trump is elected president his wife Melania Trump will become only the second foreign-born first lady in U.S. history. With John Quincy Adams wife, Louisa, being the first.</td>\n",
       "    </tr>\n",
       "    <tr>\n",
       "      <th>97664</th>\n",
       "      <td>Ultraleft</td>\n",
       "      <td>TIL Engels was LITERALLY Donald Trump.</td>\n",
       "    </tr>\n",
       "    <tr>\n",
       "      <th>126486</th>\n",
       "      <td>todayilearned</td>\n",
       "      <td>TIL Lewis Black endorses Donald Trump for President 2012</td>\n",
       "    </tr>\n",
       "    <tr>\n",
       "      <th>...</th>\n",
       "      <td>...</td>\n",
       "      <td>...</td>\n",
       "    </tr>\n",
       "    <tr>\n",
       "      <th>17830</th>\n",
       "      <td>todayilearned</td>\n",
       "      <td>TIL 1 + 2 + 3 + 4 + 5 + ... = -1/12</td>\n",
       "    </tr>\n",
       "    <tr>\n",
       "      <th>17001</th>\n",
       "      <td>todayilearned</td>\n",
       "      <td>TIL : 1 + 2 + 3 + 4 + 5 + ... = -1/12</td>\n",
       "    </tr>\n",
       "    <tr>\n",
       "      <th>217946</th>\n",
       "      <td>todayilearned</td>\n",
       "      <td>TIL that 1 + 2 + 3 + 4 + ... = -1/12</td>\n",
       "    </tr>\n",
       "    <tr>\n",
       "      <th>179703</th>\n",
       "      <td>todayilearned</td>\n",
       "      <td>TIL 1 + 2 + 3 + 4 + 5 + ... = -1/12</td>\n",
       "    </tr>\n",
       "    <tr>\n",
       "      <th>45142</th>\n",
       "      <td>greece</td>\n",
       "      <td>TIL ότι ο οικονομικός έλεγχος που επιβλήθηκε στην Ελλάδα μετά το «δυστυχώς επτωχεύσαμεν» του Τρικούπη, έληξε το 1978, 81 χρόνια μετά.</td>\n",
       "    </tr>\n",
       "    <tr>\n",
       "      <th>304822</th>\n",
       "      <td>Stuff</td>\n",
       "      <td>TIL ότι ο οικονομικός έλεγχος που επιβλήθηκε στην Ελλάδα μετά το «δυστυχώς επτωχεύσαμεν» του Τρικούπη, έληξε το 1978, 81 χρόνια μετά.</td>\n",
       "    </tr>\n",
       "    <tr>\n",
       "      <th>264374</th>\n",
       "      <td>reddit.com</td>\n",
       "      <td>TIL: That 340,282,366,920,938,463,374,607,431,768,211,456 address spaces are available thanks to IPv6!</td>\n",
       "    </tr>\n",
       "    <tr>\n",
       "      <th>37305</th>\n",
       "      <td>todayilearned</td>\n",
       "      <td>TIL: That 340,282,366,920,938,463,374,607,431,768,211,456 address spaces are available thanks to IPv6!</td>\n",
       "    </tr>\n",
       "    <tr>\n",
       "      <th>31519</th>\n",
       "      <td>todayilearned</td>\n",
       "      <td>TIL x 366</td>\n",
       "    </tr>\n",
       "    <tr>\n",
       "      <th>197903</th>\n",
       "      <td>trees</td>\n",
       "      <td>TIL[10]</td>\n",
       "    </tr>\n",
       "    <tr>\n",
       "      <th>83597</th>\n",
       "      <td>Vaping</td>\n",
       "      <td>ALL 22mm Dotmod items are 50% off til 12am!!</td>\n",
       "    </tr>\n",
       "    <tr>\n",
       "      <th>27347</th>\n",
       "      <td>samsujaan</td>\n",
       "      <td>'Til There Was You (1997)</td>\n",
       "    </tr>\n",
       "    <tr>\n",
       "      <th>272446</th>\n",
       "      <td>todayilearned</td>\n",
       "      <td>TIL that Pringles come in 23, 40, 50, 80, 100, 110, 140, 145, 150, 155, 160, 163, 165, 170, 175, 181, 182, 190 (party size), 200, and 230 gram sizes.</td>\n",
       "    </tr>\n",
       "    <tr>\n",
       "      <th>64924</th>\n",
       "      <td>leagueoflegends</td>\n",
       "      <td>TIL: IT'S OVER 9000!!!!!</td>\n",
       "    </tr>\n",
       "    <tr>\n",
       "      <th>289778</th>\n",
       "      <td>write</td>\n",
       "      <td>400 Days 'til 40</td>\n",
       "    </tr>\n",
       "    <tr>\n",
       "      <th>226430</th>\n",
       "      <td>MythicHaloCirclejerk</td>\n",
       "      <td>TIL when Halo 2 343 343 343 343 343 343 343 343 343 343 343 343 343 343 343 343 343 343 343 343 343 343 343 343 343 343 343</td>\n",
       "    </tr>\n",
       "    <tr>\n",
       "      <th>21746</th>\n",
       "      <td>todayilearned</td>\n",
       "      <td>TIL: TIL has 1,390,827 readers.</td>\n",
       "    </tr>\n",
       "    <tr>\n",
       "      <th>40662</th>\n",
       "      <td>runescape</td>\n",
       "      <td>TIL 29 + 70 = 100</td>\n",
       "    </tr>\n",
       "    <tr>\n",
       "      <th>183399</th>\n",
       "      <td>Android</td>\n",
       "      <td>TIL that #228 is very helpful!</td>\n",
       "    </tr>\n",
       "    <tr>\n",
       "      <th>201219</th>\n",
       "      <td>todayilearned</td>\n",
       "      <td>TIL -40°C is the same as -40°F</td>\n",
       "    </tr>\n",
       "    <tr>\n",
       "      <th>160236</th>\n",
       "      <td>todayilearned</td>\n",
       "      <td>TIL that -40 is the same in °F and °C.</td>\n",
       "    </tr>\n",
       "    <tr>\n",
       "      <th>49822</th>\n",
       "      <td>todayilearned</td>\n",
       "      <td>TIL -40°C = -40°F</td>\n",
       "    </tr>\n",
       "    <tr>\n",
       "      <th>212454</th>\n",
       "      <td>todayilearned</td>\n",
       "      <td>TIL that -40°C = -40°F ❄</td>\n",
       "    </tr>\n",
       "    <tr>\n",
       "      <th>242435</th>\n",
       "      <td>todayilearned</td>\n",
       "      <td>TIL that -40°C = -40°F.</td>\n",
       "    </tr>\n",
       "    <tr>\n",
       "      <th>142680</th>\n",
       "      <td>todayilearned</td>\n",
       "      <td>TIL What a Mc10:35 is...</td>\n",
       "    </tr>\n",
       "    <tr>\n",
       "      <th>20471</th>\n",
       "      <td>trees</td>\n",
       "      <td>5 more uptokes til 420</td>\n",
       "    </tr>\n",
       "    <tr>\n",
       "      <th>151024</th>\n",
       "      <td>Nudelete</td>\n",
       "      <td>[#502|+340|18] TIL nothing [/r/circlejerk]</td>\n",
       "    </tr>\n",
       "    <tr>\n",
       "      <th>88026</th>\n",
       "      <td>todayilearned</td>\n",
       "      <td>TIL: π ~ (12.3 + 4 + 5) / 6.78</td>\n",
       "    </tr>\n",
       "    <tr>\n",
       "      <th>181050</th>\n",
       "      <td>todayilearned</td>\n",
       "      <td>TIL: That TIL = approximately 63.</td>\n",
       "    </tr>\n",
       "    <tr>\n",
       "      <th>292297</th>\n",
       "      <td>todayilearned</td>\n",
       "      <td>TIL about the geopbyte, which is equivalent to 1,267,650,600,228,229,401,496,703,205,376 bytes.</td>\n",
       "    </tr>\n",
       "  </tbody>\n",
       "</table>\n",
       "<p>309065 rows × 2 columns</p>\n",
       "</div>"
      ],
      "text/plain": [
       "                   subreddit  \\\n",
       "78733   todayilearned          \n",
       "69266   todayilearned          \n",
       "14355   todayilearned          \n",
       "65832   Eve                    \n",
       "21678   til                    \n",
       "306884  todayilearned          \n",
       "248913  JonTron                \n",
       "235777  todayilearned          \n",
       "207169  todayilearned          \n",
       "178729  todayilearned          \n",
       "95076   todayilearned          \n",
       "13647   todayilearned          \n",
       "147216  todayilearned          \n",
       "112547  todayilearned          \n",
       "301809  todayilearned          \n",
       "144185  todayilearned          \n",
       "121132  politics               \n",
       "235591  todayilearned          \n",
       "255048  videos                 \n",
       "113139  todayilearned          \n",
       "154697  metacanada             \n",
       "221749  todayilearned          \n",
       "71466   todayilearned          \n",
       "233675  todayilearned          \n",
       "40678   todayilearned          \n",
       "93033   pics                   \n",
       "89820   todayilearned          \n",
       "216032  todayilearned          \n",
       "97664   Ultraleft              \n",
       "126486  todayilearned          \n",
       "...               ...          \n",
       "17830   todayilearned          \n",
       "17001   todayilearned          \n",
       "217946  todayilearned          \n",
       "179703  todayilearned          \n",
       "45142   greece                 \n",
       "304822  Stuff                  \n",
       "264374  reddit.com             \n",
       "37305   todayilearned          \n",
       "31519   todayilearned          \n",
       "197903  trees                  \n",
       "83597   Vaping                 \n",
       "27347   samsujaan              \n",
       "272446  todayilearned          \n",
       "64924   leagueoflegends        \n",
       "289778  write                  \n",
       "226430  MythicHaloCirclejerk   \n",
       "21746   todayilearned          \n",
       "40662   runescape              \n",
       "183399  Android                \n",
       "201219  todayilearned          \n",
       "160236  todayilearned          \n",
       "49822   todayilearned          \n",
       "212454  todayilearned          \n",
       "242435  todayilearned          \n",
       "142680  todayilearned          \n",
       "20471   trees                  \n",
       "151024  Nudelete               \n",
       "88026   todayilearned          \n",
       "181050  todayilearned          \n",
       "292297  todayilearned          \n",
       "\n",
       "                                                                                                                                                                                             title  \n",
       "78733   TIL that Donald Trump has a son called Donald Trump Jr and a grandson named Donald Trump III                                                                                                \n",
       "69266   TIL George Lucas is richer than Donald Trump                                                                                                                                                \n",
       "14355   TIL: Donald Trump is a racist.                                                                                                                                                              \n",
       "65832   TIL Donald Trump plays EvE                                                                                                                                                                  \n",
       "21678   TIL Donald Trump made a cameo in Home Alone 2                                                                                                                                               \n",
       "306884  TIL: That all of Donald Trump's and Ivanka Trump's clothing line is made abroad.                                                                                                            \n",
       "248913  [NSFL] TIL if Jontron was Bernard Sanderosa he'd be \"Not so Trump\"                                                                                                                          \n",
       "235777  TIL Donald Trump is in the WWE Hall of Fame                                                                                                                                                 \n",
       "207169  TIL that Donald Trump is a birther.                                                                                                                                                         \n",
       "178729  TIL Donald Trump is a Birther                                                                                                                                                               \n",
       "95076   TIL that Donald Trump is a birther                                                                                                                                                          \n",
       "13647   TIL Arnold Schwarzenegger is not voting for Donald Trump                                                                                                                                    \n",
       "147216  TIL Donald Trump's father's middle name was Christ.                                                                                                                                         \n",
       "112547  TIL: Nobody has more respect for women than Donald Trump                                                                                                                                    \n",
       "301809  TIL liberals don't like Donald Trump                                                                                                                                                        \n",
       "144185  TIL Donald Trump's ex wife Ivana Trump stated during her divorce case that Donald had raped her.                                                                                            \n",
       "121132  TIL that Bernie Sanders is polling better against Donald Trump (+7.7%) than Hillary Clinton is (+4.0%)                                                                                      \n",
       "235591  TIL Keith Richards threatened to stab Donald Trump in 1989.                                                                                                                                 \n",
       "255048  TIL Donald Trump was on WWE. President Camacho is real life.                                                                                                                                \n",
       "113139  TIL 10 THINGS YOU SHOULD KNOW ABOUT DONALD TRUMP                                                                                                                                            \n",
       "154697  TIL Donald Trump endorsed Justin Trudeau                                                                                                                                                    \n",
       "221749  TIL Donald Trump sued Bill Maher for $5M, and his lawyer sent a letter to Maher saying that \"he (Trump) is the son of Fred Trump, not an orangutan\".                                        \n",
       "71466   TIL Today is Donald \"The President\" Trump's Birthday                                                                                                                                        \n",
       "233675  TIL that, while using Google to translate English to Korean, \"Donald Trump\" and \"fuck Donald Trump\" have the same meaning.                                                                  \n",
       "40678   TIL who Donald Glover is                                                                                                                                                                    \n",
       "93033   TIL That Donald Glover is a donglover                                                                                                                                                       \n",
       "89820   TIL the queen may or may not be invading the USA due to Donald Trump                                                                                                                        \n",
       "216032  TIL If Donald Trump is elected president his wife Melania Trump will become only the second foreign-born first lady in U.S. history. With John Quincy Adams wife, Louisa, being the first.  \n",
       "97664   TIL Engels was LITERALLY Donald Trump.                                                                                                                                                      \n",
       "126486  TIL Lewis Black endorses Donald Trump for President 2012                                                                                                                                    \n",
       "...                                                          ...                                                                                                                                    \n",
       "17830   TIL 1 + 2 + 3 + 4 + 5 + ... = -1/12                                                                                                                                                         \n",
       "17001   TIL : 1 + 2 + 3 + 4 + 5 + ... = -1/12                                                                                                                                                       \n",
       "217946  TIL that 1 + 2 + 3 + 4 + ... = -1/12                                                                                                                                                        \n",
       "179703  TIL 1 + 2 + 3 + 4 + 5 + ... = -1/12                                                                                                                                                         \n",
       "45142   TIL ότι ο οικονομικός έλεγχος που επιβλήθηκε στην Ελλάδα μετά το «δυστυχώς επτωχεύσαμεν» του Τρικούπη, έληξε το 1978, 81 χρόνια μετά.                                                       \n",
       "304822  TIL ότι ο οικονομικός έλεγχος που επιβλήθηκε στην Ελλάδα μετά το «δυστυχώς επτωχεύσαμεν» του Τρικούπη, έληξε το 1978, 81 χρόνια μετά.                                                       \n",
       "264374  TIL: That 340,282,366,920,938,463,374,607,431,768,211,456 address spaces are available thanks to IPv6!                                                                                      \n",
       "37305   TIL: That 340,282,366,920,938,463,374,607,431,768,211,456 address spaces are available thanks to IPv6!                                                                                      \n",
       "31519   TIL x 366                                                                                                                                                                                   \n",
       "197903  TIL[10]                                                                                                                                                                                     \n",
       "83597   ALL 22mm Dotmod items are 50% off til 12am!!                                                                                                                                                \n",
       "27347   'Til There Was You (1997)                                                                                                                                                                   \n",
       "272446  TIL that Pringles come in 23, 40, 50, 80, 100, 110, 140, 145, 150, 155, 160, 163, 165, 170, 175, 181, 182, 190 (party size), 200, and 230 gram sizes.                                       \n",
       "64924   TIL: IT'S OVER 9000!!!!!                                                                                                                                                                    \n",
       "289778  400 Days 'til 40                                                                                                                                                                            \n",
       "226430  TIL when Halo 2 343 343 343 343 343 343 343 343 343 343 343 343 343 343 343 343 343 343 343 343 343 343 343 343 343 343 343                                                                 \n",
       "21746   TIL: TIL has 1,390,827 readers.                                                                                                                                                             \n",
       "40662   TIL 29 + 70 = 100                                                                                                                                                                           \n",
       "183399  TIL that #228 is very helpful!                                                                                                                                                              \n",
       "201219  TIL -40°C is the same as -40°F                                                                                                                                                              \n",
       "160236  TIL that -40 is the same in °F and °C.                                                                                                                                                      \n",
       "49822   TIL -40°C = -40°F                                                                                                                                                                           \n",
       "212454  TIL that -40°C = -40°F ❄                                                                                                                                                                    \n",
       "242435  TIL that -40°C = -40°F.                                                                                                                                                                     \n",
       "142680  TIL What a Mc10:35 is...                                                                                                                                                                    \n",
       "20471   5 more uptokes til 420                                                                                                                                                                      \n",
       "151024  [#502|+340|18] TIL nothing [/r/circlejerk]                                                                                                                                                  \n",
       "88026   TIL: π ~ (12.3 + 4 + 5) / 6.78                                                                                                                                                              \n",
       "181050  TIL: That TIL = approximately 63.                                                                                                                                                           \n",
       "292297  TIL about the geopbyte, which is equivalent to 1,267,650,600,228,229,401,496,703,205,376 bytes.                                                                                             \n",
       "\n",
       "[309065 rows x 2 columns]"
      ]
     },
     "execution_count": 183,
     "metadata": {},
     "output_type": "execute_result"
    }
   ],
   "source": [
    "query = \"donald trump\"\n",
    "query_tfidf = vectorizer.transform([query])\n",
    "query_weighted = query_tfidf.dot(f_vectors).flatten()\n",
    "n_query_weighted = query_weighted / np.linalg.norm(query_weighted)\n",
    "rankings = n_weighted_embedding.dot(n_query_weighted)\n",
    "rankings_index = np.argsort(-rankings)\n",
    "fun_fact_df[[\"subreddit\", \"title\"]].loc[rankings_index]"
   ]
  },
  {
   "cell_type": "code",
   "execution_count": 184,
   "metadata": {},
   "outputs": [
    {
     "data": {
      "text/plain": [
       "array([0.70209175, 0.7120865 ], dtype=float32)"
      ]
     },
     "execution_count": 184,
     "metadata": {},
     "output_type": "execute_result"
    }
   ],
   "source": [
    "query_tfidf.data"
   ]
  },
  {
   "cell_type": "code",
   "execution_count": 185,
   "metadata": {},
   "outputs": [
    {
     "name": "stdout",
     "output_type": "stream",
     "text": [
      "0.868531 TIL that Donald Trump has a son called Donald Trump Jr and a grandson named Donald Trump III\n",
      "0.8335789 TIL George Lucas is richer than Donald Trump\n",
      "0.830231 TIL: Donald Trump is a racist.\n",
      "0.82419276 TIL Donald Trump plays EvE\n",
      "0.80874354 TIL Donald Trump made a cameo in Home Alone 2\n",
      "0.80447483 TIL: That all of Donald Trump's and Ivanka Trump's clothing line is made abroad.\n",
      "0.799533 [NSFL] TIL if Jontron was Bernard Sanderosa he'd be \"Not so Trump\"\n",
      "0.79753613 TIL Donald Trump is in the WWE Hall of Fame\n",
      "0.79291606 TIL that Donald Trump is a birther. \n",
      "0.79291606 TIL Donald Trump is a Birther\n",
      "0.79291606 TIL that Donald Trump is a birther\n",
      "0.788839 TIL Arnold Schwarzenegger is not voting for Donald Trump\n",
      "0.7843784 TIL Donald Trump's father's middle name was Christ.\n",
      "0.7739253 TIL: Nobody has more respect for women than Donald Trump\n",
      "0.767748 TIL liberals don't like Donald Trump\n",
      "0.76654816 TIL Donald Trump's ex wife Ivana Trump stated during her divorce case that Donald had raped her.\n",
      "0.7636294 TIL that Bernie Sanders is polling better against Donald Trump (+7.7%) than Hillary Clinton is (+4.0%)\n",
      "0.76350737 TIL Keith Richards threatened to stab Donald Trump in 1989.\n",
      "0.7586596 TIL Donald Trump was on WWE. President Camacho is real life.\n",
      "0.75781786 TIL 10 THINGS YOU SHOULD KNOW ABOUT DONALD TRUMP\n"
     ]
    }
   ],
   "source": [
    "for i in range(20):\n",
    "    print(rankings[rankings_index[i]], titles[rankings_index[i]])"
   ]
  },
  {
   "cell_type": "code",
   "execution_count": 186,
   "metadata": {},
   "outputs": [
    {
     "data": {
      "image/png": "[encoded data removed]",
      "text/plain": [
       "<Figure size 432x288 with 1 Axes>"
      ]
     },
     "metadata": {
      "needs_background": "light"
     },
     "output_type": "display_data"
    },
    {
     "data": {
      "image/png": "[encoded data removed]",
      "text/plain": [
       "<Figure size 432x288 with 1 Axes>"
      ]
     },
     "metadata": {
      "needs_background": "light"
     },
     "output_type": "display_data"
    },
    {
     "data": {
      "image/png": "[encoded data removed]",
      "text/plain": [
       "<Figure size 432x288 with 1 Axes>"
      ]
     },
     "metadata": {
      "needs_background": "light"
     },
     "output_type": "display_data"
    }
   ],
   "source": [
    "plt.plot(rankings[rankings_index])\n",
    "plt.show()\n",
    "plt.plot(rankings[rankings_index[:1000]])\n",
    "plt.show()\n",
    "plt.plot(rankings[rankings_index[:100]])\n",
    "plt.show()"
   ]
  },
  {
   "cell_type": "code",
   "execution_count": 187,
   "metadata": {},
   "outputs": [
    {
     "name": "stdout",
     "output_type": "stream",
     "text": [
      "(1000,)\n",
      "(1000,)\n"
     ]
    },
    {
     "ename": "IndexError",
     "evalue": "index 0 is out of bounds for axis 0 with size 0",
     "output_type": "error",
     "traceback": [
      "\u001b[0;31m---------------------------------------------------------------------------\u001b[0m",
      "\u001b[0;31mIndexError\u001b[0m                                Traceback (most recent call last)",
      "\u001b[0;32m<ipython-input-187-d0df0bc4bba7>\u001b[0m in \u001b[0;36m<module>\u001b[0;34m\u001b[0m\n\u001b[1;32m     16\u001b[0m \u001b[0mm\u001b[0m \u001b[0;34m=\u001b[0m \u001b[0msmoothed\u001b[0m \u001b[0;34m<\u001b[0m \u001b[0;34m(\u001b[0m\u001b[0mbase\u001b[0m \u001b[0;34m-\u001b[0m \u001b[0;36m3.\u001b[0m \u001b[0;34m*\u001b[0m \u001b[0mstd\u001b[0m\u001b[0;34m)\u001b[0m\u001b[0;34m\u001b[0m\u001b[0m\n\u001b[1;32m     17\u001b[0m \u001b[0;31m# print(m)\u001b[0m\u001b[0;34m\u001b[0m\u001b[0;34m\u001b[0m\u001b[0m\n\u001b[0;32m---> 18\u001b[0;31m \u001b[0mx0\u001b[0m \u001b[0;34m=\u001b[0m \u001b[0mxs\u001b[0m\u001b[0;34m[\u001b[0m\u001b[0mm\u001b[0m\u001b[0;34m]\u001b[0m\u001b[0;34m[\u001b[0m\u001b[0;36m0\u001b[0m\u001b[0;34m]\u001b[0m\u001b[0;34m\u001b[0m\u001b[0m\n\u001b[0m\u001b[1;32m     19\u001b[0m \u001b[0my0\u001b[0m \u001b[0;34m=\u001b[0m \u001b[0mys\u001b[0m\u001b[0;34m[\u001b[0m\u001b[0mm\u001b[0m\u001b[0;34m]\u001b[0m\u001b[0;34m[\u001b[0m\u001b[0;36m0\u001b[0m\u001b[0;34m]\u001b[0m\u001b[0;34m\u001b[0m\u001b[0m\n\u001b[1;32m     20\u001b[0m \u001b[0;34m\u001b[0m\u001b[0m\n",
      "\u001b[0;31mIndexError\u001b[0m: index 0 is out of bounds for axis 0 with size 0"
     ]
    }
   ],
   "source": [
    "from scipy.ndimage import gaussian_filter\n",
    "lim = 1000#len(rankings_index)\n",
    "ys = rankings[rankings_index[:lim]]\n",
    "xs = np.array(list(range(len(ys))))\n",
    "# xs = xs_fake\n",
    "# ys = ys_fake\n",
    "print(xs.shape)\n",
    "print(ys.shape)\n",
    "# smooth out noise\n",
    "smoothed = gaussian_filter(ys, 3.)\n",
    "\n",
    "# find the point where the signal goes above the background noise\n",
    "# level (assumed to be zero here).\n",
    "base = 0.\n",
    "std = (ys[xs < 3] - base).std()\n",
    "m = smoothed < (base - 3. * std)\n",
    "# print(m)\n",
    "x0 = xs[m][0]\n",
    "y0 = ys[m][0]\n",
    "\n",
    "plt.plot(xs, ys, '.')\n",
    "# plt.plot(xs, smoothed, '-')\n",
    "plt.plot(x0, y0, 'o')\n",
    "plt.show()\n",
    "print(x0,y0)"
   ]
  },
  {
   "cell_type": "code",
   "execution_count": 190,
   "metadata": {},
   "outputs": [
    {
     "data": {
      "image/png": "[encoded data removed]",
      "text/plain": [
       "<Figure size 432x288 with 1 Axes>"
      ]
     },
     "metadata": {
      "needs_background": "light"
     },
     "output_type": "display_data"
    },
    {
     "name": "stdout",
     "output_type": "stream",
     "text": [
      "11 0.788839\n"
     ]
    }
   ],
   "source": [
    "\n",
    "lim = len(rankings_index)\n",
    "ys = rankings[rankings_index[:lim]]\n",
    "# ys = gaussian_filter(ys, 10.)\n",
    "xs = np.array(list(range(len(ys))))\n",
    "da = np.gradient(ys)\n",
    "dda = np.gradient(da)\n",
    "m = np.argmin(dda)\n",
    "\n",
    "x0 = xs[m]\n",
    "y0 = ys[m]\n",
    "\n",
    "plt.plot(xs, ys, '.')\n",
    "# plt.plot(xs, smoothed, '-')\n",
    "plt.plot(x0, y0, 'o')\n",
    "plt.show()\n",
    "print(x0,y0)"
   ]
  },
  {
   "cell_type": "code",
   "execution_count": 191,
   "metadata": {},
   "outputs": [
    {
     "data": {
      "text/plain": [
       "(array([2.0000e+00, 1.1000e+01, 5.0000e+00, 2.5000e+01, 2.3000e+01,\n",
       "        3.5000e+01, 3.2000e+01, 6.0000e+01, 8.8000e+01, 1.3500e+02,\n",
       "        1.1650e+03, 3.0700e+02, 3.6100e+02, 5.9100e+02, 7.9700e+02,\n",
       "        1.0450e+03, 1.3940e+03, 1.8720e+03, 2.3200e+03, 3.1490e+03,\n",
       "        3.8230e+03, 4.7200e+03, 5.5920e+03, 6.7330e+03, 7.4800e+03,\n",
       "        8.4300e+03, 9.4760e+03, 1.0160e+04, 1.0764e+04, 1.1484e+04,\n",
       "        1.1412e+04, 1.1617e+04, 1.1788e+04, 1.1714e+04, 1.1407e+04,\n",
       "        1.0929e+04, 1.0616e+04, 1.0090e+04, 9.4790e+03, 9.1210e+03,\n",
       "        8.5790e+03, 8.0140e+03, 7.5400e+03, 7.2510e+03, 6.5010e+03,\n",
       "        6.0770e+03, 5.7000e+03, 5.4510e+03, 5.0280e+03, 4.7280e+03,\n",
       "        4.4530e+03, 4.0140e+03, 3.8650e+03, 3.5710e+03, 3.0320e+03,\n",
       "        3.0120e+03, 2.6330e+03, 2.6030e+03, 2.3280e+03, 2.0450e+03,\n",
       "        1.8450e+03, 1.8180e+03, 1.4250e+03, 1.2940e+03, 1.0990e+03,\n",
       "        9.0500e+02, 7.5700e+02, 7.0600e+02, 5.8200e+02, 4.4900e+02,\n",
       "        3.5900e+02, 2.9200e+02, 2.4400e+02, 1.6700e+02, 1.1100e+02,\n",
       "        8.2000e+01, 6.3000e+01, 3.7000e+01, 3.5000e+01, 2.7000e+01,\n",
       "        1.1000e+01, 1.3000e+01, 1.5000e+01, 1.0000e+01, 6.0000e+00,\n",
       "        3.0000e+00, 6.0000e+00, 5.0000e+00, 4.0000e+00, 4.0000e+00,\n",
       "        1.0000e+00, 2.0000e+00, 5.0000e+00, 2.0000e+00, 0.0000e+00,\n",
       "        1.0000e+00, 2.0000e+00, 0.0000e+00, 0.0000e+00, 1.0000e+00]),\n",
       " array([-9.72571671e-02, -8.75992849e-02, -7.79414028e-02, -6.82835206e-02,\n",
       "        -5.86256422e-02, -4.89677601e-02, -3.93098779e-02, -2.96519957e-02,\n",
       "        -1.99941155e-02, -1.03362333e-02, -6.78351498e-04,  8.97953007e-03,\n",
       "         1.86374113e-02,  2.82952935e-02,  3.79531756e-02,  4.76110578e-02,\n",
       "         5.72689362e-02,  6.69268221e-02,  7.65847042e-02,  8.62425789e-02,\n",
       "         9.59004611e-02,  1.05558343e-01,  1.15216225e-01,  1.24874108e-01,\n",
       "         1.34531990e-01,  1.44189864e-01,  1.53847754e-01,  1.63505629e-01,\n",
       "         1.73163518e-01,  1.82821393e-01,  1.92479283e-01,  2.02137157e-01,\n",
       "         2.11795047e-01,  2.21452922e-01,  2.31110811e-01,  2.40768686e-01,\n",
       "         2.50426561e-01,  2.60084450e-01,  2.69742340e-01,  2.79400200e-01,\n",
       "         2.89058089e-01,  2.98715979e-01,  3.08373868e-01,  3.18031728e-01,\n",
       "         3.27689618e-01,  3.37347507e-01,  3.47005397e-01,  3.56663257e-01,\n",
       "         3.66321146e-01,  3.75979036e-01,  3.85636926e-01,  3.95294785e-01,\n",
       "         4.04952675e-01,  4.14610565e-01,  4.24268425e-01,  4.33926314e-01,\n",
       "         4.43584204e-01,  4.53242093e-01,  4.62899953e-01,  4.72557843e-01,\n",
       "         4.82215732e-01,  4.91873622e-01,  5.01531482e-01,  5.11189342e-01,\n",
       "         5.20847261e-01,  5.30505121e-01,  5.40163040e-01,  5.49820900e-01,\n",
       "         5.59478760e-01,  5.69136679e-01,  5.78794539e-01,  5.88452399e-01,\n",
       "         5.98110318e-01,  6.07768178e-01,  6.17426097e-01,  6.27083957e-01,\n",
       "         6.36741817e-01,  6.46399736e-01,  6.56057596e-01,  6.65715456e-01,\n",
       "         6.75373375e-01,  6.85031235e-01,  6.94689095e-01,  7.04347014e-01,\n",
       "         7.14004874e-01,  7.23662794e-01,  7.33320653e-01,  7.42978513e-01,\n",
       "         7.52636433e-01,  7.62294292e-01,  7.71952152e-01,  7.81610072e-01,\n",
       "         7.91267931e-01,  8.00925791e-01,  8.10583711e-01,  8.20241570e-01,\n",
       "         8.29899490e-01,  8.39557350e-01,  8.49215209e-01,  8.58873129e-01,\n",
       "         8.68530989e-01], dtype=float32),\n",
       " <a list of 100 Patch objects>)"
      ]
     },
     "execution_count": 191,
     "metadata": {},
     "output_type": "execute_result"
    },
    {
     "data": {
      "image/png": "[encoded data removed]",
      "text/plain": [
       "<Figure size 432x288 with 1 Axes>"
      ]
     },
     "metadata": {
      "needs_background": "light"
     },
     "output_type": "display_data"
    }
   ],
   "source": [
    "plt.hist(ys, bins=100)"
   ]
  },
  {
   "cell_type": "code",
   "execution_count": 197,
   "metadata": {},
   "outputs": [
    {
     "data": {
      "text/plain": [
       "958"
      ]
     },
     "execution_count": 197,
     "metadata": {},
     "output_type": "execute_result"
    }
   ],
   "source": [
    "np.sum(scipy.stats.zscore(ys) > 3)"
   ]
  },
  {
   "cell_type": "code",
   "execution_count": 193,
   "metadata": {},
   "outputs": [],
   "source": [
    "def generate_fake_data():\n",
    "    \"\"\"Generate data that looks like an example given.\"\"\"\n",
    "    xs = np.arange(0, 25, 0.05)\n",
    "    ys = - 20 * 1./(1 + np.exp(-(xs - 5.)/0.3))\n",
    "    m = xs > 7.\n",
    "    ys[m] = -20.*np.exp(-(xs - 7.)[m] / 5.)\n",
    "\n",
    "    # add noise\n",
    "    ys += np.random.normal(0, 0.2, xs.size)\n",
    "    return xs, ys\n",
    "xs_fake, ys_fake = generate_fake_data()\n"
   ]
  },
  {
   "cell_type": "code",
   "execution_count": 194,
   "metadata": {},
   "outputs": [],
   "source": [
    "from sklearn.cluster import KMeans\n",
    "from sklearn.metrics import pairwise_distances_argmin_min"
   ]
  },
  {
   "cell_type": "code",
   "execution_count": 195,
   "metadata": {},
   "outputs": [
    {
     "name": "stdout",
     "output_type": "stream",
     "text": [
      "0-10, 10-176\n"
     ]
    }
   ],
   "source": [
    "TOP_HITS_KMEANS = 10\n",
    "TOP_HITS_KMEANS2 = np.argmax(rankings[rankings_index] < .65)\n",
    "if TOP_HITS_KMEANS2 < 20:\n",
    "    TOP_HITS_KMEANS2 = np.argmax(rankings[rankings_index] < .55)\n",
    "TOP_HITS_KMEANS2 = max(TOP_HITS_KMEANS2, 20)\n",
    "print(\"{}-{}, {}-{}\".format(0, TOP_HITS_KMEANS, TOP_HITS_KMEANS, TOP_HITS_KMEANS2))\n",
    "ranked_titles = titles[rankings_index].tolist()\n",
    "top_ranked_em = n_weighted_embedding[rankings_index]\n",
    "kmeans = KMeans(n_clusters=3, random_state=0).fit(top_ranked_em[:TOP_HITS_KMEANS])"
   ]
  },
  {
   "cell_type": "code",
   "execution_count": 196,
   "metadata": {},
   "outputs": [
    {
     "name": "stdout",
     "output_type": "stream",
     "text": [
      "1 0.8685 TIL that Donald Trump has a son called Donald Trump Jr and a grandson named Donald Trump III\n",
      "2 0.8336 TIL George Lucas is richer than Donald Trump\n",
      "0 0.8302 TIL: Donald Trump is a racist.\n",
      "1 0.8242 TIL Donald Trump plays EvE\n",
      "1 0.8087 TIL Donald Trump made a cameo in Home Alone 2\n",
      "1 0.8045 TIL: That all of Donald Trump's and Ivanka Trump's clothing line is made abroad.\n",
      "2 0.7995 [NSFL] TIL if Jontron was Bernard Sanderosa he'd be \"Not so Trump\"\n",
      "1 0.7975 TIL Donald Trump is in the WWE Hall of Fame\n",
      "0 0.7929 TIL that Donald Trump is a birther. \n",
      "0 0.7929 TIL Donald Trump is a Birther\n"
     ]
    }
   ],
   "source": [
    "for i in range(min(20, TOP_HITS_KMEANS)):\n",
    "    print(kmeans.labels_[i], \"{:.4f}\".format(rankings[rankings_index[i]]), titles[rankings_index[i]])"
   ]
  },
  {
   "cell_type": "code",
   "execution_count": 66,
   "metadata": {},
   "outputs": [],
   "source": [
    "closest, _ = pairwise_distances_argmin_min(kmeans.cluster_centers_, top_ranked_em[:TOP_HITS_KMEANS])"
   ]
  },
  {
   "cell_type": "code",
   "execution_count": 67,
   "metadata": {},
   "outputs": [
    {
     "name": "stdout",
     "output_type": "stream",
     "text": [
      "0 +2 0 TIL How to eat an apple\n",
      "1 TIL you can bring a goat into an Apple Store\n",
      "2 TIL you can see the apple through the other side.\n"
     ]
    }
   ],
   "source": [
    "for c, i in enumerate(closest):\n",
    "    print(c, ranked_titles[i])"
   ]
  },
  {
   "cell_type": "code",
   "execution_count": 68,
   "metadata": {},
   "outputs": [
    {
     "name": "stdout",
     "output_type": "stream",
     "text": [
      "0 TIL food labels list ingredients by weight, which means most of the self-advertised \"healthy\" foods I was eating have more sugar than anything else.\n",
      "1 TIL that Burger King set out to find people all over the world that had never eaten a hamburger and made a mini documentary about people having a Big Mac/Whopper taste test in the last known places to never experience American fast food.\n",
      "2 TIL, There is an African fruit (Synsepalum dulcificum) that causes sour foods like lemon and limes to taste sweet like candy when eaten.\n",
      "3 TIL an inmates last meal was 2 chicken fried steaks, a triple bacon cheeseburger,a large bowl of fried okra, 1 lb of barbecue, 3 fajitas,a meat lover's pizza,a pint of ice cream,and a slab of peanut butter fudge with crushed peanuts.He refused the meal.Texas ended the tradition of giving last meals.\n",
      "4 TIL that if you take frozen fruit and add milk and maybe a little sugar it kind of turns into ice cream and is delicious\n",
      "5 TIL The first design for the original Apple iPhone was literally the shape of an apple (source in comments)\n",
      "6 TIL, There is an African fruit (Synsepalum dulcificum) that causes sour foods like lemon and limes to taste sweet like candy when eaten.\n"
     ]
    }
   ],
   "source": [
    "kmeans2 = KMeans(n_clusters=7, random_state=0).fit(top_ranked_em[TOP_HITS_KMEANS:TOP_HITS_KMEANS2])\n",
    "closest2, _ = pairwise_distances_argmin_min(kmeans2.cluster_centers_, top_ranked_em[TOP_HITS_KMEANS:TOP_HITS_KMEANS2])\n",
    "for c, i in enumerate(closest2):\n",
    "    print(c, ranked_titles[i + TOP_HITS_KMEANS])"
   ]
  },
  {
   "cell_type": "markdown",
   "metadata": {},
   "source": [
    "# Doing more clusters and picking biggest ones"
   ]
  },
  {
   "cell_type": "code",
   "execution_count": 79,
   "metadata": {},
   "outputs": [],
   "source": [
    "TOP_HITS_KMEANS = np.argmax(rankings[rankings_index] < .65)\n",
    "if TOP_HITS_KMEANS < 20:\n",
    "    TOP_HITS_KMEANS = np.argmax(rankings[rankings_index] < .55)\n",
    "TOP_HITS_KMEANS = max(TOP_HITS_KMEANS, 20)\n",
    "ranked_titles = titles[rankings_index].tolist()\n",
    "top_ranked_em = n_weighted_embedding[rankings_index]\n",
    "kmeans = KMeans(n_clusters=20, random_state=0).fit(top_ranked_em[:TOP_HITS_KMEANS])"
   ]
  },
  {
   "cell_type": "code",
   "execution_count": 80,
   "metadata": {},
   "outputs": [
    {
     "data": {
      "text/plain": [
       "array([ 8,  9,  9, ...,  9,  5, 15], dtype=int32)"
      ]
     },
     "execution_count": 80,
     "metadata": {},
     "output_type": "execute_result"
    }
   ],
   "source": [
    "kmeans.labels_"
   ]
  },
  {
   "cell_type": "code",
   "execution_count": 81,
   "metadata": {},
   "outputs": [
    {
     "name": "stdout",
     "output_type": "stream",
     "text": [
      "0 TIL Texas abolished last meal requests after a prisoner ordered 2 chicken-fried steaks, a triple cheeseburger, a beef &amp; cheese omelet , a pound of barbecued meat, a half loaf of bread, 3 fajitas, a meat-lover's pizza, fried okra, a pint of Blue Bell, and peanut-butter fudge, and then did not eat it.\n",
      "1 TIL this is actually food\n",
      "2 TIL, There is an African fruit (Synsepalum dulcificum) that causes sour foods like lemon and limes to taste sweet like candy when eaten.\n",
      "3 TIL that music can can alter the way food tastes. Soft, high-pitched music can make the body think it's consumed more sugar than it actually has, so is being used as a treatment for diabetes.\n",
      "4 TIL The worlds oldest cat who lived till 38 had an unusual diet of bacon and eggs, asparagus, broccoli, and coffee with heavy cream. The owner also had a second cat who lived to 34 on the same diet\n",
      "5 TIL that Coke in a bottle really DOES taste better because it's made with real sugar instead of corn syrup.\n",
      "6 TIL that if you take frozen fruit and add milk and maybe a little sugar it kind of turns into ice cream and is delicious\n",
      "7 TIL that an American Tourist in China became a National Hero after giving an elderly begging  woman his fries and drinks from McDonalds. He also became a famous Meme referred to as \"French Fry Brother\", basically a Chinese Good Guy Greg.\n",
      "8 TIL Ketchup was originally a fermented fish sauce and did not include tomatoes, as tomatoes were thought to be poisonous at that time\n",
      "9 TIL that if you take frozen fruit and add milk and maybe a little sugar it kind of turns into ice cream and is delicious\n"
     ]
    }
   ],
   "source": [
    "import collections\n",
    "counter = collections.Counter(kmeans.labels_)\n",
    "most_common = counter.most_common(10)\n",
    "most_common = [i[0] for i in most_common]\n",
    "closest2, _ = pairwise_distances_argmin_min(kmeans.cluster_centers_[most_common], top_ranked_em[:TOP_HITS_KMEANS])\n",
    "for c, i in enumerate(closest2):\n",
    "    print(c, ranked_titles[i])"
   ]
  },
  {
   "cell_type": "code",
   "execution_count": 72,
   "metadata": {},
   "outputs": [
    {
     "data": {
      "text/plain": [
       "Counter({8: 165,\n",
       "         9: 112,\n",
       "         4: 171,\n",
       "         5: 164,\n",
       "         13: 112,\n",
       "         15: 164,\n",
       "         10: 152,\n",
       "         11: 157,\n",
       "         12: 172,\n",
       "         0: 97,\n",
       "         17: 115,\n",
       "         16: 139,\n",
       "         19: 63,\n",
       "         6: 148,\n",
       "         2: 173,\n",
       "         7: 126,\n",
       "         3: 166,\n",
       "         14: 106,\n",
       "         18: 92,\n",
       "         1: 23})"
      ]
     },
     "execution_count": 72,
     "metadata": {},
     "output_type": "execute_result"
    }
   ],
   "source": [
    "counter"
   ]
  },
  {
   "cell_type": "code",
   "execution_count": 74,
   "metadata": {},
   "outputs": [
    {
     "data": {
      "text/plain": [
       "array([ 8,  9,  9, ...,  9,  5, 15], dtype=int32)"
      ]
     },
     "execution_count": 74,
     "metadata": {},
     "output_type": "execute_result"
    }
   ],
   "source": [
    "kmeans.labels_"
   ]
  },
  {
   "cell_type": "code",
   "execution_count": null,
   "metadata": {},
   "outputs": [],
   "source": []
  }
 ],
 "metadata": {
  "kernelspec": {
   "display_name": "Python 3",
   "language": "python",
   "name": "python3"
  },
  "language_info": {
   "codemirror_mode": {
    "name": "ipython",
    "version": 3
   },
   "file_extension": ".py",
   "mimetype": "text/x-python",
   "name": "python",
   "nbconvert_exporter": "python",
   "pygments_lexer": "ipython3",
   "version": "3.6.5"
  }
 },
 "nbformat": 4,
 "nbformat_minor": 2
}
