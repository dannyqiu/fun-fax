{
 "cells": [
  {
   "cell_type": "code",
   "execution_count": 63,
   "metadata": {},
   "outputs": [],
   "source": [
    "import spacy\n",
    "nlp = spacy.load('en_core_web_lg', disable=[\"parser\", \"tagger\", \"ner\"])"
   ]
  },
  {
   "cell_type": "code",
   "execution_count": 64,
   "metadata": {},
   "outputs": [],
   "source": [
    "import pandas as pd\n",
    "import numpy as np\n",
    "import matplotlib.pyplot as plt\n",
    "pd.set_option('display.max_colwidth', -1)\n",
    "EPS = 1e-6"
   ]
  },
  {
   "cell_type": "code",
   "execution_count": 66,
   "metadata": {},
   "outputs": [
    {
     "name": "stderr",
     "output_type": "stream",
     "text": [
      "/Library/Frameworks/Python.framework/Versions/3.7/lib/python3.7/site-packages/IPython/core/interactiveshell.py:3049: DtypeWarning: Columns (0,1,2,3,5,8,9,13,14,15,16,19,21,22,24,27,28,33,34,35,41,46,58,60,62,63,64,65,68,74,79,85,92,121) have mixed types. Specify dtype option on import or set low_memory=False.\n",
      "  interactivity=interactivity, compiler=compiler, result=result)\n"
     ]
    }
   ],
   "source": [
    "fun_fact_df = pd.read_csv('../data/til_title.csv')"
   ]
  },
  {
   "cell_type": "code",
   "execution_count": 67,
   "metadata": {},
   "outputs": [],
   "source": [
    "required_columns = ['title', 'subreddit', 'permalink']\n",
    "fun_fact_df = fun_fact_df.dropna(axis='rows', subset=required_columns)"
   ]
  },
  {
   "cell_type": "code",
   "execution_count": 68,
   "metadata": {},
   "outputs": [],
   "source": [
    "banned_subreddits = ['circlejerk', 'ShittyTodayILearned', 'TheOnion']\n",
    "fun_fact_df = fun_fact_df[~fun_fact_df['subreddit'].isin(banned_subreddits)]"
   ]
  },
  {
   "cell_type": "code",
   "execution_count": 69,
   "metadata": {},
   "outputs": [],
   "source": [
    "fun_fact_df = fun_fact_df.reset_index(drop=True)"
   ]
  },
  {
   "cell_type": "code",
   "execution_count": 70,
   "metadata": {},
   "outputs": [],
   "source": [
    "from sklearn.feature_extraction.text import TfidfVectorizer\n",
    "import scipy"
   ]
  },
  {
   "cell_type": "code",
   "execution_count": 160,
   "metadata": {},
   "outputs": [],
   "source": [
    "vectorizer = TfidfVectorizer(stop_words='english', max_df=.8, ngram_range=(1,1), dtype=np.float32)\n",
    "titles = fun_fact_df['title']\n",
    "scores = fun_fact_df['score']\n",
    "fun_fact_tfidf = vectorizer.fit_transform(titles)"
   ]
  },
  {
   "cell_type": "code",
   "execution_count": 72,
   "metadata": {},
   "outputs": [
    {
     "data": {
      "text/plain": [
       "<309065x125402 sparse matrix of type '<class 'numpy.float32'>'\n",
       "\twith 2793174 stored elements in Compressed Sparse Row format>"
      ]
     },
     "execution_count": 72,
     "metadata": {},
     "output_type": "execute_result"
    }
   ],
   "source": [
    "fun_fact_tfidf"
   ]
  },
  {
   "cell_type": "code",
   "execution_count": 73,
   "metadata": {},
   "outputs": [
    {
     "data": {
      "text/plain": [
       "125402"
      ]
     },
     "execution_count": 73,
     "metadata": {},
     "output_type": "execute_result"
    }
   ],
   "source": [
    "len(vectorizer.get_feature_names())"
   ]
  },
  {
   "cell_type": "code",
   "execution_count": 74,
   "metadata": {},
   "outputs": [
    {
     "data": {
      "text/plain": [
       "309065"
      ]
     },
     "execution_count": 74,
     "metadata": {},
     "output_type": "execute_result"
    }
   ],
   "source": [
    "len(fun_fact_df['title'])"
   ]
  },
  {
   "cell_type": "code",
   "execution_count": 75,
   "metadata": {},
   "outputs": [
    {
     "data": {
      "text/plain": [
       "matrix([[ 6],\n",
       "        [10],\n",
       "        [26],\n",
       "        ...,\n",
       "        [ 4],\n",
       "        [14],\n",
       "        [ 5]])"
      ]
     },
     "execution_count": 75,
     "metadata": {},
     "output_type": "execute_result"
    }
   ],
   "source": [
    "np.sum(fun_fact_tfidf > 0, axis=1) # shows number of tfidf words per doc"
   ]
  },
  {
   "cell_type": "code",
   "execution_count": 76,
   "metadata": {},
   "outputs": [
    {
     "name": "stdout",
     "output_type": "stream",
     "text": [
      "(309065, 300)\n"
     ]
    }
   ],
   "source": [
    "features = vectorizer.get_feature_names()\n",
    "f_vectors = np.array([nlp.vocab[f].vector for f in features])\n",
    "weighted_embedding = fun_fact_tfidf.dot(f_vectors)\n",
    "print(weighted_embedding.shape)"
   ]
  },
  {
   "cell_type": "code",
   "execution_count": 77,
   "metadata": {},
   "outputs": [],
   "source": [
    "n_weighted_embedding = weighted_embedding / (np.linalg.norm(weighted_embedding, axis=1)[:, np.newaxis] + EPS)"
   ]
  },
  {
   "cell_type": "code",
   "execution_count": 78,
   "metadata": {},
   "outputs": [
    {
     "name": "stdout",
     "output_type": "stream",
     "text": [
      "0.9999999\n",
      "0.9999998\n"
     ]
    }
   ],
   "source": [
    "print(np.linalg.norm(n_weighted_embedding[22291]))\n",
    "print(np.linalg.norm(n_weighted_embedding[10493]))"
   ]
  },
  {
   "cell_type": "code",
   "execution_count": 481,
   "metadata": {},
   "outputs": [
    {
     "data": {
      "text/html": [
       "<div>\n",
       "<style scoped>\n",
       "    .dataframe tbody tr th:only-of-type {\n",
       "        vertical-align: middle;\n",
       "    }\n",
       "\n",
       "    .dataframe tbody tr th {\n",
       "        vertical-align: top;\n",
       "    }\n",
       "\n",
       "    .dataframe thead th {\n",
       "        text-align: right;\n",
       "    }\n",
       "</style>\n",
       "<table border=\"1\" class=\"dataframe\">\n",
       "  <thead>\n",
       "    <tr style=\"text-align: right;\">\n",
       "      <th></th>\n",
       "      <th>subreddit</th>\n",
       "      <th>title</th>\n",
       "    </tr>\n",
       "  </thead>\n",
       "  <tbody>\n",
       "    <tr>\n",
       "      <th>3584</th>\n",
       "      <td>TumblrInAction</td>\n",
       "      <td>TIL Cisgenders have their own language</td>\n",
       "    </tr>\n",
       "    <tr>\n",
       "      <th>160197</th>\n",
       "      <td>todayilearned</td>\n",
       "      <td>TIL the BBC website has a translated version of the news in Pidgin, a grammatically simplified form of a language, used for communication between people not sharing a common language.</td>\n",
       "    </tr>\n",
       "    <tr>\n",
       "      <th>165196</th>\n",
       "      <td>todayilearned</td>\n",
       "      <td>TIL India has no official language, with English being the most important language for national, political, and commercial communication</td>\n",
       "    </tr>\n",
       "    <tr>\n",
       "      <th>66967</th>\n",
       "      <td>todayilearned</td>\n",
       "      <td>TIL of Blissymbolics, an unspoken, written language that was invented as an easy to learn form of communication for use between people of all languages</td>\n",
       "    </tr>\n",
       "    <tr>\n",
       "      <th>115323</th>\n",
       "      <td>todayilearned</td>\n",
       "      <td>TIL Pidgin Language is the form of communication between people with no language in common</td>\n",
       "    </tr>\n",
       "    <tr>\n",
       "      <th>302909</th>\n",
       "      <td>todayilearned</td>\n",
       "      <td>TIL Sign language is not universal. There is about one sign language for each spoken language (and, for example, American English' Sign Language differs from British English' Sign Language).</td>\n",
       "    </tr>\n",
       "    <tr>\n",
       "      <th>291791</th>\n",
       "      <td>rickandmorty</td>\n",
       "      <td>TIL Google can understand Birdperson's language</td>\n",
       "    </tr>\n",
       "    <tr>\n",
       "      <th>233360</th>\n",
       "      <td>todayilearned</td>\n",
       "      <td>TIL that Clicking through other languages on a Wikipedia article yields *tons* more information, especially if you are multilingual, as some articles tend to be more comprehensive in other languages.</td>\n",
       "    </tr>\n",
       "    <tr>\n",
       "      <th>288291</th>\n",
       "      <td>programming</td>\n",
       "      <td>TIL about a language called \"Lolcode.\"</td>\n",
       "    </tr>\n",
       "    <tr>\n",
       "      <th>157523</th>\n",
       "      <td>todayilearned</td>\n",
       "      <td>TIL there are over 200 different languages of sign language</td>\n",
       "    </tr>\n",
       "    <tr>\n",
       "      <th>242476</th>\n",
       "      <td>todayilearned</td>\n",
       "      <td>TIL Sign language is different in every language. You would think that being sign language and using your hands to communicate, the expressions would be universal.</td>\n",
       "    </tr>\n",
       "    <tr>\n",
       "      <th>48725</th>\n",
       "      <td>tf2circlejerk</td>\n",
       "      <td>TIL that abbreviations in different languages use words that are also in that language</td>\n",
       "    </tr>\n",
       "    <tr>\n",
       "      <th>213487</th>\n",
       "      <td>reddit.com</td>\n",
       "      <td>TIL that \"for all intensive purposes\" is incorrect use of the English language :-|</td>\n",
       "    </tr>\n",
       "    <tr>\n",
       "      <th>263544</th>\n",
       "      <td>todayilearned</td>\n",
       "      <td>TIL-There is a written form of sign language.</td>\n",
       "    </tr>\n",
       "    <tr>\n",
       "      <th>162900</th>\n",
       "      <td>reddit.com</td>\n",
       "      <td>TIL there is a language option on wikipedia called \"Simple English\" for people whose first language is not english, low level readers, and people who are having trouble understanding complex articles.</td>\n",
       "    </tr>\n",
       "    <tr>\n",
       "      <th>268091</th>\n",
       "      <td>todayilearned</td>\n",
       "      <td>TIL that languages that are spoken faster do not actually deliver more information per second</td>\n",
       "    </tr>\n",
       "    <tr>\n",
       "      <th>82999</th>\n",
       "      <td>todayilearned</td>\n",
       "      <td>TIL that Romance language does not refer to languages...</td>\n",
       "    </tr>\n",
       "    <tr>\n",
       "      <th>110582</th>\n",
       "      <td>todayilearned</td>\n",
       "      <td>TIL Sanskrit (one of the oldest language) may be suitable for Knowledge representation as well as an artificial language for computers.</td>\n",
       "    </tr>\n",
       "    <tr>\n",
       "      <th>57129</th>\n",
       "      <td>todayilearned</td>\n",
       "      <td>TIL that the Defense Language Institute publishes hundreds of language learning tools for free.</td>\n",
       "    </tr>\n",
       "    <tr>\n",
       "      <th>201231</th>\n",
       "      <td>todayilearned</td>\n",
       "      <td>TIL that the programming language C++ was named that because in that language, two plus signs are added to a variable to increase its value by 1. Thus, C++ is the programming language that came after C itself.</td>\n",
       "    </tr>\n",
       "    <tr>\n",
       "      <th>188453</th>\n",
       "      <td>todayilearned</td>\n",
       "      <td>TIL the history of the English language.</td>\n",
       "    </tr>\n",
       "    <tr>\n",
       "      <th>154018</th>\n",
       "      <td>todayilearned</td>\n",
       "      <td>TIL: Sometimes, an English Wikipedia article is better written in another language I can understand</td>\n",
       "    </tr>\n",
       "    <tr>\n",
       "      <th>198655</th>\n",
       "      <td>todayilearned</td>\n",
       "      <td>TIL There's a computer language to describe how a piece of text should be read</td>\n",
       "    </tr>\n",
       "    <tr>\n",
       "      <th>294873</th>\n",
       "      <td>todayilearned</td>\n",
       "      <td>TIL Spanish is not one of the top 3 useful foreign languages for business</td>\n",
       "    </tr>\n",
       "    <tr>\n",
       "      <th>217580</th>\n",
       "      <td>todayilearned</td>\n",
       "      <td>TIL of a company that uses natural language generation to automatically write news articles.</td>\n",
       "    </tr>\n",
       "    <tr>\n",
       "      <th>76604</th>\n",
       "      <td>todayilearned</td>\n",
       "      <td>TIL 10 best websites to learn how to read body language</td>\n",
       "    </tr>\n",
       "    <tr>\n",
       "      <th>221170</th>\n",
       "      <td>todayilearned</td>\n",
       "      <td>TIL American Sign Language has a 60% similarity to French Sign Language but is virtually unintelligible to British Sign Language users</td>\n",
       "    </tr>\n",
       "    <tr>\n",
       "      <th>165849</th>\n",
       "      <td>todayilearned</td>\n",
       "      <td>TIL That the German language was the second most spoken language in the United States but the use of the language was strongly suppressed during World War I.</td>\n",
       "    </tr>\n",
       "    <tr>\n",
       "      <th>231521</th>\n",
       "      <td>badlinguistics</td>\n",
       "      <td>TIL that writing down spoken language makes it wrong</td>\n",
       "    </tr>\n",
       "    <tr>\n",
       "      <th>28778</th>\n",
       "      <td>todayilearned</td>\n",
       "      <td>TIL that you can if you happen to know a second language, or want practice with one you are currently learning, you can help Facebook by translating it into said language.</td>\n",
       "    </tr>\n",
       "    <tr>\n",
       "      <th>...</th>\n",
       "      <td>...</td>\n",
       "      <td>...</td>\n",
       "    </tr>\n",
       "    <tr>\n",
       "      <th>285164</th>\n",
       "      <td>BitcoinNO</td>\n",
       "      <td>- Svenske kriminelle bruker bitcoin til narkotikahandel</td>\n",
       "    </tr>\n",
       "    <tr>\n",
       "      <th>266792</th>\n",
       "      <td>AlbumArtPorn</td>\n",
       "      <td>Ulver - Nattens madrigal – Aatte hymne til ulven i manden [1000x1000]</td>\n",
       "    </tr>\n",
       "    <tr>\n",
       "      <th>101717</th>\n",
       "      <td>Tippeligaen</td>\n",
       "      <td>Norges tropp til Tsjekkia-kampen</td>\n",
       "    </tr>\n",
       "    <tr>\n",
       "      <th>260136</th>\n",
       "      <td>Denmark</td>\n",
       "      <td>Kamp for at undgå nye milliardskandaler: Politisk flertal parat til at give it-vagthund flere muskler</td>\n",
       "    </tr>\n",
       "    <tr>\n",
       "      <th>47274</th>\n",
       "      <td>norge</td>\n",
       "      <td>Sjokk-regning ledet til ampere stemning</td>\n",
       "    </tr>\n",
       "    <tr>\n",
       "      <th>24780</th>\n",
       "      <td>todayilearned</td>\n",
       "      <td>TIL how Funyuns are made</td>\n",
       "    </tr>\n",
       "    <tr>\n",
       "      <th>143909</th>\n",
       "      <td>shittyama</td>\n",
       "      <td>DAE TIL TIFU YSK LPH LPT ToTM AMA.</td>\n",
       "    </tr>\n",
       "    <tr>\n",
       "      <th>133526</th>\n",
       "      <td>reddit.com</td>\n",
       "      <td>Julekostumer til børn</td>\n",
       "    </tr>\n",
       "    <tr>\n",
       "      <th>305318</th>\n",
       "      <td>reddit.com</td>\n",
       "      <td>Udklædningstøj til børn\\n</td>\n",
       "    </tr>\n",
       "    <tr>\n",
       "      <th>81324</th>\n",
       "      <td>reddit.com</td>\n",
       "      <td>Parykker til børn\\n</td>\n",
       "    </tr>\n",
       "    <tr>\n",
       "      <th>170166</th>\n",
       "      <td>Iceland</td>\n",
       "      <td>Landgræðslan notar Roundup (frá Monsanto) til eða eyða lúpínu.</td>\n",
       "    </tr>\n",
       "    <tr>\n",
       "      <th>265961</th>\n",
       "      <td>Denmark</td>\n",
       "      <td>Søren Pind: København ligger som København har redt i forhold til banderne</td>\n",
       "    </tr>\n",
       "    <tr>\n",
       "      <th>210125</th>\n",
       "      <td>Danish</td>\n",
       "      <td>Børn stiller spørgsmål til danske EP medlemmer.</td>\n",
       "    </tr>\n",
       "    <tr>\n",
       "      <th>51433</th>\n",
       "      <td>Denmark</td>\n",
       "      <td>Venstre siger nej til e-valg - lovforslaget falder</td>\n",
       "    </tr>\n",
       "    <tr>\n",
       "      <th>273426</th>\n",
       "      <td>Denmark</td>\n",
       "      <td>Nødhjælp på vej til sultramte byer i Syrien: De spiser græs for at overleve</td>\n",
       "    </tr>\n",
       "    <tr>\n",
       "      <th>253629</th>\n",
       "      <td>truelostworld</td>\n",
       "      <td>Tatti spiser en død fugl i senga til Pætt ;)</td>\n",
       "    </tr>\n",
       "    <tr>\n",
       "      <th>101293</th>\n",
       "      <td>Iceland</td>\n",
       "      <td>Lét reiði sína í ljós með því að búa til stólafjall - Vísir</td>\n",
       "    </tr>\n",
       "    <tr>\n",
       "      <th>2687</th>\n",
       "      <td>splatoon</td>\n",
       "      <td>TIL You can get Timbs in Splatoon</td>\n",
       "    </tr>\n",
       "    <tr>\n",
       "      <th>30036</th>\n",
       "      <td>norge</td>\n",
       "      <td>Aftebposten slår til igjen</td>\n",
       "    </tr>\n",
       "    <tr>\n",
       "      <th>264735</th>\n",
       "      <td>HomoInternetus</td>\n",
       "      <td>Slæm áhrif internetsnotkun, svona til að koma með smá gagnrýnilegt sjónarhorn líka.</td>\n",
       "    </tr>\n",
       "    <tr>\n",
       "      <th>250099</th>\n",
       "      <td>norge</td>\n",
       "      <td>Politikerne tyner valgkampen til siste slutt - NRK Norge</td>\n",
       "    </tr>\n",
       "    <tr>\n",
       "      <th>242661</th>\n",
       "      <td>ektenyheter</td>\n",
       "      <td>Sykepleiere: Flere års utdannelse for å bli satt til å \"lufte biler\". [velferdsstat] [sosialisme]</td>\n",
       "    </tr>\n",
       "    <tr>\n",
       "      <th>249512</th>\n",
       "      <td>norge</td>\n",
       "      <td>Lykke til Isak (Første klipp i skam s3)</td>\n",
       "    </tr>\n",
       "    <tr>\n",
       "      <th>262955</th>\n",
       "      <td>bakchodi</td>\n",
       "      <td>TIL that FTFY ...</td>\n",
       "    </tr>\n",
       "    <tr>\n",
       "      <th>30067</th>\n",
       "      <td>norge</td>\n",
       "      <td>Fyller samiskkurs-lokalet «til randen»</td>\n",
       "    </tr>\n",
       "    <tr>\n",
       "      <th>62363</th>\n",
       "      <td>trees</td>\n",
       "      <td>TIL what a fluffernutter is [6]... yummmm</td>\n",
       "    </tr>\n",
       "    <tr>\n",
       "      <th>82137</th>\n",
       "      <td>Denmark</td>\n",
       "      <td>Eksperter raser: Politiker lytter til uvidende flertal | RokokoPosten</td>\n",
       "    </tr>\n",
       "    <tr>\n",
       "      <th>68667</th>\n",
       "      <td>Denmark</td>\n",
       "      <td>Akut couchsurfing behov i Aalborg/Skagen, fra fredag til søndag!</td>\n",
       "    </tr>\n",
       "    <tr>\n",
       "      <th>221163</th>\n",
       "      <td>danmark</td>\n",
       "      <td>Fedt børnetøj til børn i alderen 0-16 år.</td>\n",
       "    </tr>\n",
       "    <tr>\n",
       "      <th>295188</th>\n",
       "      <td>fitnesscirclejerk</td>\n",
       "      <td>TIL Silvy's cousin is 600lb</td>\n",
       "    </tr>\n",
       "  </tbody>\n",
       "</table>\n",
       "<p>309065 rows × 2 columns</p>\n",
       "</div>"
      ],
      "text/plain": [
       "                subreddit  \\\n",
       "3584    TumblrInAction      \n",
       "160197  todayilearned       \n",
       "165196  todayilearned       \n",
       "66967   todayilearned       \n",
       "115323  todayilearned       \n",
       "302909  todayilearned       \n",
       "291791  rickandmorty        \n",
       "233360  todayilearned       \n",
       "288291  programming         \n",
       "157523  todayilearned       \n",
       "242476  todayilearned       \n",
       "48725   tf2circlejerk       \n",
       "213487  reddit.com          \n",
       "263544  todayilearned       \n",
       "162900  reddit.com          \n",
       "268091  todayilearned       \n",
       "82999   todayilearned       \n",
       "110582  todayilearned       \n",
       "57129   todayilearned       \n",
       "201231  todayilearned       \n",
       "188453  todayilearned       \n",
       "154018  todayilearned       \n",
       "198655  todayilearned       \n",
       "294873  todayilearned       \n",
       "217580  todayilearned       \n",
       "76604   todayilearned       \n",
       "221170  todayilearned       \n",
       "165849  todayilearned       \n",
       "231521  badlinguistics      \n",
       "28778   todayilearned       \n",
       "...               ...       \n",
       "285164  BitcoinNO           \n",
       "266792  AlbumArtPorn        \n",
       "101717  Tippeligaen         \n",
       "260136  Denmark             \n",
       "47274   norge               \n",
       "24780   todayilearned       \n",
       "143909  shittyama           \n",
       "133526  reddit.com          \n",
       "305318  reddit.com          \n",
       "81324   reddit.com          \n",
       "170166  Iceland             \n",
       "265961  Denmark             \n",
       "210125  Danish              \n",
       "51433   Denmark             \n",
       "273426  Denmark             \n",
       "253629  truelostworld       \n",
       "101293  Iceland             \n",
       "2687    splatoon            \n",
       "30036   norge               \n",
       "264735  HomoInternetus      \n",
       "250099  norge               \n",
       "242661  ektenyheter         \n",
       "249512  norge               \n",
       "262955  bakchodi            \n",
       "30067   norge               \n",
       "62363   trees               \n",
       "82137   Denmark             \n",
       "68667   Denmark             \n",
       "221163  danmark             \n",
       "295188  fitnesscirclejerk   \n",
       "\n",
       "                                                                                                                                                                                                                    title  \n",
       "3584    TIL Cisgenders have their own language                                                                                                                                                                             \n",
       "160197  TIL the BBC website has a translated version of the news in Pidgin, a grammatically simplified form of a language, used for communication between people not sharing a common language.                            \n",
       "165196  TIL India has no official language, with English being the most important language for national, political, and commercial communication                                                                           \n",
       "66967   TIL of Blissymbolics, an unspoken, written language that was invented as an easy to learn form of communication for use between people of all languages                                                            \n",
       "115323  TIL Pidgin Language is the form of communication between people with no language in common                                                                                                                         \n",
       "302909  TIL Sign language is not universal. There is about one sign language for each spoken language (and, for example, American English' Sign Language differs from British English' Sign Language).                     \n",
       "291791  TIL Google can understand Birdperson's language                                                                                                                                                                    \n",
       "233360  TIL that Clicking through other languages on a Wikipedia article yields *tons* more information, especially if you are multilingual, as some articles tend to be more comprehensive in other languages.            \n",
       "288291  TIL about a language called \"Lolcode.\"                                                                                                                                                                             \n",
       "157523  TIL there are over 200 different languages of sign language                                                                                                                                                        \n",
       "242476  TIL Sign language is different in every language. You would think that being sign language and using your hands to communicate, the expressions would be universal.                                                \n",
       "48725   TIL that abbreviations in different languages use words that are also in that language                                                                                                                             \n",
       "213487  TIL that \"for all intensive purposes\" is incorrect use of the English language :-|                                                                                                                                 \n",
       "263544  TIL-There is a written form of sign language.                                                                                                                                                                      \n",
       "162900  TIL there is a language option on wikipedia called \"Simple English\" for people whose first language is not english, low level readers, and people who are having trouble understanding complex articles.           \n",
       "268091  TIL that languages that are spoken faster do not actually deliver more information per second                                                                                                                      \n",
       "82999   TIL that Romance language does not refer to languages...                                                                                                                                                           \n",
       "110582  TIL Sanskrit (one of the oldest language) may be suitable for Knowledge representation as well as an artificial language for computers.                                                                            \n",
       "57129   TIL that the Defense Language Institute publishes hundreds of language learning tools for free.                                                                                                                    \n",
       "201231  TIL that the programming language C++ was named that because in that language, two plus signs are added to a variable to increase its value by 1. Thus, C++ is the programming language that came after C itself.  \n",
       "188453  TIL the history of the English language.                                                                                                                                                                           \n",
       "154018  TIL: Sometimes, an English Wikipedia article is better written in another language I can understand                                                                                                                \n",
       "198655  TIL There's a computer language to describe how a piece of text should be read                                                                                                                                     \n",
       "294873  TIL Spanish is not one of the top 3 useful foreign languages for business                                                                                                                                          \n",
       "217580  TIL of a company that uses natural language generation to automatically write news articles.                                                                                                                       \n",
       "76604   TIL 10 best websites to learn how to read body language                                                                                                                                                            \n",
       "221170  TIL American Sign Language has a 60% similarity to French Sign Language but is virtually unintelligible to British Sign Language users                                                                             \n",
       "165849  TIL That the German language was the second most spoken language in the United States but the use of the language was strongly suppressed during World War I.                                                      \n",
       "231521  TIL that writing down spoken language makes it wrong                                                                                                                                                               \n",
       "28778   TIL that you can if you happen to know a second language, or want practice with one you are currently learning, you can help Facebook by translating it into said language.                                        \n",
       "...                                                                                                                                                                             ...                                        \n",
       "285164  - Svenske kriminelle bruker bitcoin til narkotikahandel                                                                                                                                                            \n",
       "266792  Ulver - Nattens madrigal – Aatte hymne til ulven i manden [1000x1000]                                                                                                                                              \n",
       "101717  Norges tropp til Tsjekkia-kampen                                                                                                                                                                                   \n",
       "260136  Kamp for at undgå nye milliardskandaler: Politisk flertal parat til at give it-vagthund flere muskler                                                                                                              \n",
       "47274   Sjokk-regning ledet til ampere stemning                                                                                                                                                                            \n",
       "24780   TIL how Funyuns are made                                                                                                                                                                                           \n",
       "143909  DAE TIL TIFU YSK LPH LPT ToTM AMA.                                                                                                                                                                                 \n",
       "133526  Julekostumer til børn                                                                                                                                                                                              \n",
       "305318  Udklædningstøj til børn\\n                                                                                                                                                                                          \n",
       "81324   Parykker til børn\\n                                                                                                                                                                                                \n",
       "170166  Landgræðslan notar Roundup (frá Monsanto) til eða eyða lúpínu.                                                                                                                                                     \n",
       "265961  Søren Pind: København ligger som København har redt i forhold til banderne                                                                                                                                         \n",
       "210125  Børn stiller spørgsmål til danske EP medlemmer.                                                                                                                                                                    \n",
       "51433   Venstre siger nej til e-valg - lovforslaget falder                                                                                                                                                                 \n",
       "273426  Nødhjælp på vej til sultramte byer i Syrien: De spiser græs for at overleve                                                                                                                                        \n",
       "253629  Tatti spiser en død fugl i senga til Pætt ;)                                                                                                                                                                       \n",
       "101293  Lét reiði sína í ljós með því að búa til stólafjall - Vísir                                                                                                                                                        \n",
       "2687    TIL You can get Timbs in Splatoon                                                                                                                                                                                  \n",
       "30036   Aftebposten slår til igjen                                                                                                                                                                                         \n",
       "264735  Slæm áhrif internetsnotkun, svona til að koma með smá gagnrýnilegt sjónarhorn líka.                                                                                                                                \n",
       "250099  Politikerne tyner valgkampen til siste slutt - NRK Norge                                                                                                                                                           \n",
       "242661  Sykepleiere: Flere års utdannelse for å bli satt til å \"lufte biler\". [velferdsstat] [sosialisme]                                                                                                                  \n",
       "249512  Lykke til Isak (Første klipp i skam s3)                                                                                                                                                                            \n",
       "262955  TIL that FTFY ...                                                                                                                                                                                                  \n",
       "30067   Fyller samiskkurs-lokalet «til randen»                                                                                                                                                                             \n",
       "62363   TIL what a fluffernutter is [6]... yummmm                                                                                                                                                                          \n",
       "82137   Eksperter raser: Politiker lytter til uvidende flertal | RokokoPosten                                                                                                                                              \n",
       "68667   Akut couchsurfing behov i Aalborg/Skagen, fra fredag til søndag!                                                                                                                                                   \n",
       "221163  Fedt børnetøj til børn i alderen 0-16 år.                                                                                                                                                                          \n",
       "295188  TIL Silvy's cousin is 600lb                                                                                                                                                                                        \n",
       "\n",
       "[309065 rows x 2 columns]"
      ]
     },
     "execution_count": 481,
     "metadata": {},
     "output_type": "execute_result"
    }
   ],
   "source": [
    "query = \"language information\"\n",
    "query_tfidf = vectorizer.transform([query])\n",
    "query_weighted = query_tfidf.dot(f_vectors).flatten()\n",
    "n_query_weighted = query_weighted / np.linalg.norm(query_weighted)\n",
    "rankings = n_weighted_embedding.dot(n_query_weighted)\n",
    "rankings_index = np.argsort(-rankings)\n",
    "fun_fact_df[[\"subreddit\", \"title\"]].loc[rankings_index]"
   ]
  },
  {
   "cell_type": "code",
   "execution_count": 482,
   "metadata": {},
   "outputs": [
    {
     "data": {
      "text/plain": [
       "array([0.6609047, 0.7504698], dtype=float32)"
      ]
     },
     "execution_count": 482,
     "metadata": {},
     "output_type": "execute_result"
    }
   ],
   "source": [
    "query_tfidf.data"
   ]
  },
  {
   "cell_type": "code",
   "execution_count": 483,
   "metadata": {},
   "outputs": [
    {
     "name": "stdout",
     "output_type": "stream",
     "text": [
      "0.8232897 TIL Cisgenders have their own language\n",
      "0.817642 TIL the BBC website has a translated version of the news in Pidgin, a grammatically simplified form of a language, used for communication between people not sharing a common language.\n",
      "0.8033428 TIL India has no official language, with English being the most important language for national, political, and commercial communication\n",
      "0.8032322 TIL of Blissymbolics, an unspoken, written language that was invented as an easy to learn form of communication for use between people of all languages\n",
      "0.8009295 TIL Pidgin Language is the form of communication between people with no language in common\n",
      "0.7927647 TIL Sign language is not universal. There is about one sign language for each spoken language (and, for example, American English' Sign Language differs from British English' Sign Language).\n",
      "0.7913756 TIL Google can understand Birdperson's language\n",
      "0.78863144 TIL that Clicking through other languages on a Wikipedia article yields *tons* more information, especially if you are multilingual, as some articles tend to be more comprehensive in other languages.\n",
      "0.7880758 TIL about a language called \"Lolcode.\"\n",
      "0.78768325 TIL there are over 200 different languages of sign language\n",
      "0.78579676 TIL Sign language is different in every language. You would think that being sign language and using your hands to communicate, the expressions would be universal.\n",
      "0.7857858 TIL that abbreviations in different languages use words that are also in that language\n",
      "0.7846642 TIL that \"for all intensive purposes\" is incorrect use of the English language :-|\n",
      "0.78435177 TIL-There is a written form of sign language.\n",
      "0.77513146 TIL there is a language option on wikipedia called \"Simple English\" for people whose first language is not english, low level readers, and people who are having trouble understanding complex articles.\n",
      "0.77415085 TIL that languages that are spoken faster do not actually deliver more information per second\n",
      "0.773267 TIL that Romance language does not refer to languages...\n",
      "0.7717654 TIL Sanskrit (one of the oldest language) may be suitable for Knowledge representation as well as an artificial language for computers.\n",
      "0.7716773 TIL that the Defense Language Institute publishes hundreds of language learning tools for free.\n",
      "0.77047765 TIL that the programming language C++ was named that because in that language, two plus signs are added to a variable to increase its value by 1. Thus, C++ is the programming language that came after C itself.\n"
     ]
    }
   ],
   "source": [
    "for i in range(20):\n",
    "    print(rankings[rankings_index[i]], titles[rankings_index[i]])"
   ]
  },
  {
   "cell_type": "code",
   "execution_count": 484,
   "metadata": {},
   "outputs": [
    {
     "data": {
      "image/png": "[encoded data removed]",
      "text/plain": [
       "<Figure size 432x288 with 1 Axes>"
      ]
     },
     "metadata": {
      "needs_background": "light"
     },
     "output_type": "display_data"
    },
    {
     "data": {
      "image/png": "[encoded data removed]",
      "text/plain": [
       "<Figure size 432x288 with 1 Axes>"
      ]
     },
     "metadata": {
      "needs_background": "light"
     },
     "output_type": "display_data"
    },
    {
     "data": {
      "image/png": "[encoded data removed]",
      "text/plain": [
       "<Figure size 432x288 with 1 Axes>"
      ]
     },
     "metadata": {
      "needs_background": "light"
     },
     "output_type": "display_data"
    }
   ],
   "source": [
    "plt.plot(rankings[rankings_index])\n",
    "plt.show()\n",
    "plt.plot(rankings[rankings_index[:1000]])\n",
    "plt.show()\n",
    "plt.plot(rankings[rankings_index[:100]])\n",
    "plt.show()"
   ]
  },
  {
   "cell_type": "code",
   "execution_count": 485,
   "metadata": {},
   "outputs": [
    {
     "data": {
      "text/plain": [
       "(array([4.0000e+00, 8.0000e+00, 1.2000e+01, 1.6000e+01, 2.6000e+01,\n",
       "        4.2000e+01, 5.6000e+01, 5.3000e+01, 7.9000e+01, 1.2800e+02,\n",
       "        1.3600e+02, 1.5500e+02, 1.7300e+02, 2.0800e+02, 2.4900e+02,\n",
       "        2.8200e+02, 3.2700e+02, 3.7700e+02, 4.0900e+02, 4.6300e+02,\n",
       "        5.0200e+02, 5.5000e+02, 6.1900e+02, 7.1100e+02, 7.6600e+02,\n",
       "        8.6400e+02, 9.3200e+02, 1.1110e+03, 1.3360e+03, 2.2880e+03,\n",
       "        1.5300e+03, 1.7980e+03, 2.0460e+03, 2.2180e+03, 2.5210e+03,\n",
       "        2.8230e+03, 3.0770e+03, 3.3220e+03, 3.7520e+03, 4.0050e+03,\n",
       "        4.4750e+03, 5.0620e+03, 5.4810e+03, 5.8500e+03, 6.2890e+03,\n",
       "        6.7900e+03, 7.3610e+03, 7.7200e+03, 8.3670e+03, 8.8410e+03,\n",
       "        9.1010e+03, 9.3150e+03, 9.7970e+03, 1.0158e+04, 1.0174e+04,\n",
       "        1.0558e+04, 1.0395e+04, 1.0381e+04, 1.0348e+04, 1.0188e+04,\n",
       "        9.8430e+03, 9.5700e+03, 8.8450e+03, 8.6520e+03, 7.9130e+03,\n",
       "        7.4670e+03, 6.8970e+03, 6.1460e+03, 5.4660e+03, 5.0240e+03,\n",
       "        4.2960e+03, 3.6690e+03, 3.2510e+03, 2.8050e+03, 2.3860e+03,\n",
       "        2.0420e+03, 1.6860e+03, 1.4160e+03, 1.0940e+03, 9.1700e+02,\n",
       "        7.2200e+02, 5.6800e+02, 4.1100e+02, 3.4100e+02, 2.7900e+02,\n",
       "        1.7500e+02, 1.4100e+02, 1.1700e+02, 9.1000e+01, 5.2000e+01,\n",
       "        5.8000e+01, 3.0000e+01, 2.0000e+01, 1.5000e+01, 1.3000e+01,\n",
       "        8.0000e+00, 6.0000e+00, 3.0000e+00, 3.0000e+00, 2.0000e+00]),\n",
       " array([-0.3427859 , -0.33112514, -0.3194644 , -0.30780363, -0.29614288,\n",
       "        -0.28448212, -0.27282137, -0.2611606 , -0.24949984, -0.23783909,\n",
       "        -0.22617833, -0.21451758, -0.20285682, -0.19119607, -0.17953531,\n",
       "        -0.16787456, -0.1562138 , -0.14455305, -0.1328923 , -0.12123153,\n",
       "        -0.10957078, -0.09791002, -0.08624926, -0.07458851, -0.06292775,\n",
       "        -0.051267  , -0.03960624, -0.02794549, -0.01628473, -0.00462397,\n",
       "         0.00703678,  0.01869754,  0.03035829,  0.04201905,  0.05367981,\n",
       "         0.06534056,  0.07700132,  0.08866207,  0.10032283,  0.11198358,\n",
       "         0.12364434,  0.13530509,  0.14696585,  0.1586266 ,  0.17028737,\n",
       "         0.18194813,  0.19360888,  0.20526963,  0.21693039,  0.22859114,\n",
       "         0.2402519 ,  0.25191265,  0.2635734 ,  0.27523416,  0.28689492,\n",
       "         0.29855567,  0.31021643,  0.32187718,  0.33353794,  0.3451987 ,\n",
       "         0.35685945,  0.3685202 ,  0.38018095,  0.39184174,  0.4035025 ,\n",
       "         0.41516325,  0.426824  ,  0.43848476,  0.4501455 ,  0.46180627,\n",
       "         0.47346702,  0.48512778,  0.49678853,  0.50844926,  0.52011   ,\n",
       "         0.5317708 ,  0.5434316 ,  0.55509233,  0.5667531 ,  0.57841384,\n",
       "         0.5900746 ,  0.60173535,  0.6133961 ,  0.62505686,  0.6367176 ,\n",
       "         0.6483784 ,  0.6600391 ,  0.6716999 ,  0.68336064,  0.6950214 ,\n",
       "         0.70668215,  0.7183429 ,  0.73000365,  0.7416644 ,  0.75332516,\n",
       "         0.7649859 ,  0.7766467 ,  0.7883074 ,  0.7999682 ,  0.81162894,\n",
       "         0.8232897 ], dtype=float32),\n",
       " <a list of 100 Patch objects>)"
      ]
     },
     "execution_count": 485,
     "metadata": {},
     "output_type": "execute_result"
    },
    {
     "data": {
      "image/png": "[encoded data removed]",
      "text/plain": [
       "<Figure size 432x288 with 1 Axes>"
      ]
     },
     "metadata": {
      "needs_background": "light"
     },
     "output_type": "display_data"
    }
   ],
   "source": [
    "plt.hist(rankings[rankings_index], bins=100)"
   ]
  },
  {
   "cell_type": "code",
   "execution_count": null,
   "metadata": {},
   "outputs": [],
   "source": []
  },
  {
   "cell_type": "code",
   "execution_count": 486,
   "metadata": {},
   "outputs": [],
   "source": [
    "from sklearn.cluster import KMeans\n",
    "from sklearn.metrics import pairwise_distances_argmin_min"
   ]
  },
  {
   "cell_type": "code",
   "execution_count": 487,
   "metadata": {},
   "outputs": [
    {
     "name": "stdout",
     "output_type": "stream",
     "text": [
      "0-10, 10-709\n"
     ]
    }
   ],
   "source": [
    "TOP_HITS_KMEANS = 10\n",
    "TOP_HITS_KMEANS2 = np.argmax(rankings[rankings_index] < .65)\n",
    "if TOP_HITS_KMEANS2 < 20:\n",
    "    TOP_HITS_KMEANS2 = np.argmax(rankings[rankings_index] < .55)\n",
    "TOP_HITS_KMEANS2 = max(TOP_HITS_KMEANS2, 20)\n",
    "print(\"{}-{}, {}-{}\".format(0, TOP_HITS_KMEANS, TOP_HITS_KMEANS, TOP_HITS_KMEANS2))\n",
    "ranked_titles = titles[rankings_index].tolist()\n",
    "ranked_scores = scores[rankings_index].tolist()\n",
    "top_ranked_em = n_weighted_embedding[rankings_index]\n",
    "kmeans = KMeans(n_clusters=3, random_state=0).fit(top_ranked_em[:TOP_HITS_KMEANS])"
   ]
  },
  {
   "cell_type": "code",
   "execution_count": 488,
   "metadata": {},
   "outputs": [
    {
     "name": "stdout",
     "output_type": "stream",
     "text": [
      "0 0.8233 TIL Cisgenders have their own language\n",
      "1 0.8176 TIL the BBC website has a translated version of the news in Pidgin, a grammatically simplified form of a language, used for communication between people not sharing a common language.\n",
      "1 0.8033 TIL India has no official language, with English being the most important language for national, political, and commercial communication\n",
      "1 0.8032 TIL of Blissymbolics, an unspoken, written language that was invented as an easy to learn form of communication for use between people of all languages\n",
      "1 0.8009 TIL Pidgin Language is the form of communication between people with no language in common\n",
      "0 0.7928 TIL Sign language is not universal. There is about one sign language for each spoken language (and, for example, American English' Sign Language differs from British English' Sign Language).\n",
      "1 0.7914 TIL Google can understand Birdperson's language\n",
      "2 0.7886 TIL that Clicking through other languages on a Wikipedia article yields *tons* more information, especially if you are multilingual, as some articles tend to be more comprehensive in other languages.\n",
      "0 0.7881 TIL about a language called \"Lolcode.\"\n",
      "0 0.7877 TIL there are over 200 different languages of sign language\n"
     ]
    }
   ],
   "source": [
    "for i in range(min(20, TOP_HITS_KMEANS)):\n",
    "    print(kmeans.labels_[i], \"{:.4f}\".format(rankings[rankings_index[i]]), titles[rankings_index[i]])"
   ]
  },
  {
   "cell_type": "code",
   "execution_count": 489,
   "metadata": {},
   "outputs": [],
   "source": [
    "closest, _ = pairwise_distances_argmin_min(kmeans.cluster_centers_, top_ranked_em[:TOP_HITS_KMEANS])"
   ]
  },
  {
   "cell_type": "code",
   "execution_count": 490,
   "metadata": {},
   "outputs": [
    {
     "name": "stdout",
     "output_type": "stream",
     "text": [
      "0 TIL Cisgenders have their own language\n",
      "1 TIL the BBC website has a translated version of the news in Pidgin, a grammatically simplified form of a language, used for communication between people not sharing a common language.\n",
      "2 TIL that Clicking through other languages on a Wikipedia article yields *tons* more information, especially if you are multilingual, as some articles tend to be more comprehensive in other languages.\n"
     ]
    }
   ],
   "source": [
    "for c, i in enumerate(closest):\n",
    "    print(c, ranked_titles[i])"
   ]
  },
  {
   "cell_type": "code",
   "execution_count": 491,
   "metadata": {},
   "outputs": [
    {
     "name": "stdout",
     "output_type": "stream",
     "text": [
      "0 TIL Sign language is different in every language. You would think that being sign language and using your hands to communicate, the expressions would be universal.\n",
      "1 TIL there is a language option on wikipedia called \"Simple English\" for people whose first language is not english, low level readers, and people who are having trouble understanding complex articles.\n",
      "2 +9 2 TIL there is a web site where multiple people can write on a wall of text at the same time in real time\n",
      "3 TIL That the German language was the second most spoken language in the United States but the use of the language was strongly suppressed during World War I.\n",
      "4 Reddit TIL,Facebook is selling your data to advertisers as per the link.I have lots of personal information on Facebook and I assume that even you have put up personal information on your page.Does this make us vulnerable to threats of some form???\n",
      "5 TIL google has a coding university where you can learn different programming and scripting languages for free. \n",
      "6 TIL bibliotaph is actually a word in the English language\n"
     ]
    }
   ],
   "source": [
    "kmeans2 = KMeans(n_clusters=7, random_state=0).fit(top_ranked_em[TOP_HITS_KMEANS:TOP_HITS_KMEANS2])\n",
    "closest2, _ = pairwise_distances_argmin_min(kmeans2.cluster_centers_, top_ranked_em[TOP_HITS_KMEANS:TOP_HITS_KMEANS2])\n",
    "for c, i in enumerate(closest2):\n",
    "    print(c, ranked_titles[i + TOP_HITS_KMEANS])"
   ]
  },
  {
   "cell_type": "markdown",
   "metadata": {},
   "source": [
    "# Doing more clusters and picking biggest ones"
   ]
  },
  {
   "cell_type": "code",
   "execution_count": 532,
   "metadata": {},
   "outputs": [
    {
     "name": "stdout",
     "output_type": "stream",
     "text": [
      "40\n"
     ]
    }
   ],
   "source": [
    "TOP_HITS_KMEANS = max(40,np.sum(scipy.stats.zscore(rankings[rankings_index]) > 3.5))\n",
    "if TOP_HITS_KMEANS > 200:\n",
    "    TOP_HITS_KMEANS = 200\n",
    "print(TOP_HITS_KMEANS)\n",
    "ranked_titles = titles[rankings_index].tolist()\n",
    "top_ranked_em = n_weighted_embedding[rankings_index]\n",
    "kmeans = KMeans(n_clusters=20, random_state=0).fit(top_ranked_em[:TOP_HITS_KMEANS])"
   ]
  },
  {
   "cell_type": "code",
   "execution_count": 533,
   "metadata": {},
   "outputs": [
    {
     "name": "stdout",
     "output_type": "stream",
     "text": [
      "0 TIL of Blissymbolics, an unspoken, written language that was invented as an easy to learn form of communication for use between people of all languages\n",
      "1 TIL: Sometimes, an English Wikipedia article is better written in another language I can understand\n",
      "2 TIL there is a language option on wikipedia called \"Simple English\" for people whose first language is not english, low level readers, and people who are having trouble understanding complex articles.\n",
      "3 TIL Cisgenders have their own language\n",
      "4 TIL India has no official language, with English being the most important language for national, political, and commercial communication\n",
      "5 TIL Sign language is not universal. There is about one sign language for each spoken language (and, for example, American English' Sign Language differs from British English' Sign Language).\n",
      "6 TIL the BBC website has a translated version of the news in Pidgin, a grammatically simplified form of a language, used for communication between people not sharing a common language.\n",
      "7 TIL that abbreviations in different languages use words that are also in that language\n",
      "8 TIL Google has an online dictionary (not the usual web definitions that you get when you include 'define:')\n",
      "9 TIL that Clicking through other languages on a Wikipedia article yields *tons* more information, especially if you are multilingual, as some articles tend to be more comprehensive in other languages.\n"
     ]
    }
   ],
   "source": [
    "import collections\n",
    "counter = collections.Counter(kmeans.labels_)\n",
    "most_common = counter.most_common(10)\n",
    "most_common = [i[0] for i in most_common]\n",
    "closest2, _ = pairwise_distances_argmin_min(kmeans.cluster_centers_[most_common], top_ranked_em[:TOP_HITS_KMEANS])\n",
    "for c, i in enumerate(closest2):\n",
    "    print(c, ranked_titles[i])"
   ]
  },
  {
   "cell_type": "code",
   "execution_count": null,
   "metadata": {},
   "outputs": [],
   "source": []
  },
  {
   "cell_type": "markdown",
   "metadata": {},
   "source": [
    "# Instead of choosing point nearest to each centroid, choose the point with the highest similarity"
   ]
  },
  {
   "cell_type": "code",
   "execution_count": 494,
   "metadata": {},
   "outputs": [],
   "source": [
    "def firstElementOfEachCluster(seq, num):\n",
    "    clusters_included = set(most_common)\n",
    "    res = {}\n",
    "    for i, el in enumerate(seq):\n",
    "        if el not in clusters_included:\n",
    "            continue\n",
    "        if el<10 and el not in res:\n",
    "            res[el] = i\n",
    "        if len(res) > num:\n",
    "            return res\n",
    "    \n",
    "    return res"
   ]
  },
  {
   "cell_type": "code",
   "execution_count": 495,
   "metadata": {},
   "outputs": [
    {
     "name": "stdout",
     "output_type": "stream",
     "text": [
      "0.8032322 TIL of Blissymbolics, an unspoken, written language that was invented as an easy to learn form of communication for use between people of all languages\n",
      "0.7927647 TIL Sign language is not universal. There is about one sign language for each spoken language (and, for example, American English' Sign Language differs from British English' Sign Language).\n",
      "0.7913756 TIL Google can understand Birdperson's language\n",
      "0.78863144 TIL that Clicking through other languages on a Wikipedia article yields *tons* more information, especially if you are multilingual, as some articles tend to be more comprehensive in other languages.\n",
      "0.78768325 TIL there are over 200 different languages of sign language\n",
      "0.75613725 TIL that if you type \"define: [word here]\" on google it actually gives you a list of definitions and functions as a dictionary rather than give you links to other websites.\n"
     ]
    }
   ],
   "source": [
    "mostSimilarInEachCluster =  firstElementOfEachCluster(kmeans.labels_, 10)\n",
    "ranked_rankings = rankings[rankings_index]\n",
    "lst = []\n",
    "for key in mostSimilarInEachCluster:\n",
    "    lst.append((ranked_rankings[mostSimilarInEachCluster[key]], ranked_titles[mostSimilarInEachCluster[key]]))\n",
    "lst = sorted(lst, key=lambda x: x[0], reverse = True)\n",
    "for sim, fact in lst:\n",
    "    print(sim, fact)"
   ]
  },
  {
   "cell_type": "code",
   "execution_count": 496,
   "metadata": {},
   "outputs": [],
   "source": [
    "# cluster number to top 10 based on similaitity\n",
    "def top10OfEachCluster(seq, num):\n",
    "    res = {}\n",
    "    clusters_included = set(most_common)\n",
    "    for i, el in enumerate(seq):\n",
    "        if el not in clusters_included:\n",
    "            continue\n",
    "        if el not in res:\n",
    "            res[el] = [i]\n",
    "        elif len(res[el]) < num:\n",
    "            res[el].append(i) \n",
    "    return res"
   ]
  },
  {
   "cell_type": "code",
   "execution_count": 497,
   "metadata": {},
   "outputs": [
    {
     "data": {
      "text/plain": [
       "array([12, 19, 11,  3, 19,  1,  0,  8, 12,  4,  3,  4,  9,  1, 18,  3,  3,\n",
       "       10, 17, 15, 12,  0, 14, 11, 16, 18,  1, 11,  3, 18,  2,  7, 18,  6,\n",
       "        3,  5,  0, 13,  0,  2], dtype=int32)"
      ]
     },
     "execution_count": 497,
     "metadata": {},
     "output_type": "execute_result"
    }
   ],
   "source": [
    "kmeans.labels_"
   ]
  },
  {
   "cell_type": "markdown",
   "metadata": {},
   "source": [
    "## Take the 10 most similar and choose the top 4 based on score from each cluster"
   ]
  },
  {
   "cell_type": "code",
   "execution_count": 510,
   "metadata": {},
   "outputs": [
    {
     "data": {
      "text/plain": [
       "{12: [0, 8, 20],\n",
       " 19: [1, 4],\n",
       " 11: [2, 23, 27],\n",
       " 3: [3, 10, 15, 16, 28, 34],\n",
       " 1: [5, 13, 26],\n",
       " 0: [6, 21, 36, 38],\n",
       " 8: [7],\n",
       " 4: [9, 11],\n",
       " 18: [14, 25, 29, 32],\n",
       " 2: [30, 39]}"
      ]
     },
     "execution_count": 510,
     "metadata": {},
     "output_type": "execute_result"
    }
   ],
   "source": [
    "results = top10OfEachCluster(kmeans.labels_, 10)\n",
    "results"
   ]
  },
  {
   "cell_type": "code",
   "execution_count": 522,
   "metadata": {},
   "outputs": [],
   "source": [
    "for key in results:\n",
    "    results[key].sort(key=lambda x: ranked_scores[x], reverse = True)\n",
    "    results[key] = results[key][:1]"
   ]
  },
  {
   "cell_type": "code",
   "execution_count": 523,
   "metadata": {},
   "outputs": [
    {
     "name": "stdout",
     "output_type": "stream",
     "text": [
      "12 0.8233 256.0 TIL Cisgenders have their own language\n",
      "19 0.8009 13.0 TIL Pidgin Language is the form of communication between people with no language in common\n",
      "11 0.8033 124.0 TIL India has no official language, with English being the most important language for national, political, and commercial communication\n",
      "3 0.8032 838.0 TIL of Blissymbolics, an unspoken, written language that was invented as an easy to learn form of communication for use between people of all languages\n",
      "1 0.7928 322.0 TIL Sign language is not universal. There is about one sign language for each spoken language (and, for example, American English' Sign Language differs from British English' Sign Language).\n",
      "0 0.7488 49.0 TIL Wikipedia has a Simple English language for in-depth articles.\n",
      "8 0.7886 1.0 TIL that Clicking through other languages on a Wikipedia article yields *tons* more information, especially if you are multilingual, as some articles tend to be more comprehensive in other languages.\n",
      "4 0.7858 9.0 TIL that abbreviations in different languages use words that are also in that language\n",
      "18 0.7751 3.0 TIL there is a language option on wikipedia called \"Simple English\" for people whose first language is not english, low level readers, and people who are having trouble understanding complex articles.\n",
      "2 0.7561 1.0 TIL that if you type \"define: [word here]\" on google it actually gives you a list of definitions and functions as a dictionary rather than give you links to other websites.\n"
     ]
    }
   ],
   "source": [
    "for key in results:\n",
    "    for idx in results[key]:\n",
    "        print (key, \"{:.4f}\".format(ranked_rankings[idx]), ranked_scores[idx], ranked_titles[idx] )"
   ]
  },
  {
   "cell_type": "code",
   "execution_count": 524,
   "metadata": {},
   "outputs": [
    {
     "data": {
      "text/plain": [
       "{12: [0],\n",
       " 19: [4],\n",
       " 11: [2],\n",
       " 3: [3],\n",
       " 1: [5],\n",
       " 0: [36],\n",
       " 8: [7],\n",
       " 4: [11],\n",
       " 18: [14],\n",
       " 2: [30]}"
      ]
     },
     "execution_count": 524,
     "metadata": {},
     "output_type": "execute_result"
    }
   ],
   "source": [
    "results"
   ]
  },
  {
   "cell_type": "markdown",
   "metadata": {},
   "source": [
    "## ask user if they would like results by simialrity or score"
   ]
  },
  {
   "cell_type": "code",
   "execution_count": 534,
   "metadata": {},
   "outputs": [],
   "source": [
    "def topResultsSorted(results, method = 'similarity'):\n",
    "    if method == 'similarity':\n",
    "        for key in results:\n",
    "            results[key].sort(key=lambda x: ranked_rankings[x], reverse = True)\n",
    "    elif method == 'score':\n",
    "        for key in results:\n",
    "            results[key].sort(key=lambda x: ranked_scores[x], reverse = True)\n",
    "    return results       "
   ]
  },
  {
   "cell_type": "code",
   "execution_count": 535,
   "metadata": {},
   "outputs": [
    {
     "ename": "NameError",
     "evalue": "name 'rel' is not defined",
     "output_type": "error",
     "traceback": [
      "\u001b[0;31m---------------------------------------------------------------------------\u001b[0m",
      "\u001b[0;31mNameError\u001b[0m                                 Traceback (most recent call last)",
      "\u001b[0;32m<ipython-input-535-771d5307a5ab>\u001b[0m in \u001b[0;36m<module>\u001b[0;34m\u001b[0m\n\u001b[1;32m      7\u001b[0m                 \u001b[0;34m\"score\"\u001b[0m\u001b[0;34m:\u001b[0m \u001b[0mself\u001b[0m\u001b[0;34m.\u001b[0m\u001b[0mindex\u001b[0m\u001b[0;34m[\u001b[0m\u001b[0md\u001b[0m\u001b[0;34m]\u001b[0m\u001b[0;34m.\u001b[0m\u001b[0mscore\u001b[0m\u001b[0;34m,\u001b[0m\u001b[0;34m\u001b[0m\u001b[0;34m\u001b[0m\u001b[0m\n\u001b[1;32m      8\u001b[0m             }\n\u001b[0;32m----> 9\u001b[0;31m             \u001b[0;32mfor\u001b[0m \u001b[0md\u001b[0m \u001b[0;32min\u001b[0m \u001b[0mrel\u001b[0m\u001b[0;34m\u001b[0m\u001b[0;34m\u001b[0m\u001b[0m\n\u001b[0m\u001b[1;32m     10\u001b[0m         ]\n",
      "\u001b[0;31mNameError\u001b[0m: name 'rel' is not defined"
     ]
    }
   ],
   "source": [
    "results = [\n",
    "            {\n",
    "                \"type\": \"submission\",\n",
    "                \"title\": self.index[d].title,\n",
    "                \"subreddit\": self.index[d].subreddit,\n",
    "                \"permalink\": self.index[d].permalink,\n",
    "                \"score\": self.index[d].score,\n",
    "            }\n",
    "            for d in rel\n",
    "        ]"
   ]
  },
  {
   "cell_type": "code",
   "execution_count": 557,
   "metadata": {},
   "outputs": [
    {
     "data": {
      "text/plain": [
       "{12: [0],\n",
       " 19: [4],\n",
       " 11: [2],\n",
       " 3: [3],\n",
       " 1: [5],\n",
       " 0: [36],\n",
       " 8: [7],\n",
       " 4: [11],\n",
       " 18: [14],\n",
       " 2: [30]}"
      ]
     },
     "execution_count": 557,
     "metadata": {},
     "output_type": "execute_result"
    }
   ],
   "source": [
    "sorted_results = topResultsSorted(results, \"score\")\n",
    "sorted_results"
   ]
  },
  {
   "cell_type": "code",
   "execution_count": 558,
   "metadata": {},
   "outputs": [
    {
     "data": {
      "text/plain": [
       "[(12, [0]),\n",
       " (11, [2]),\n",
       " (3, [3]),\n",
       " (19, [4]),\n",
       " (1, [5]),\n",
       " (8, [7]),\n",
       " (4, [11]),\n",
       " (18, [14]),\n",
       " (2, [30]),\n",
       " (0, [36])]"
      ]
     },
     "execution_count": 558,
     "metadata": {},
     "output_type": "execute_result"
    }
   ],
   "source": [
    "sorted_x = sorted(sorted_results.items(), key=lambda x: x[1][0])\n",
    "sorted_x"
   ]
  },
  {
   "cell_type": "code",
   "execution_count": 559,
   "metadata": {},
   "outputs": [
    {
     "name": "stdout",
     "output_type": "stream",
     "text": [
      "12 0.8233 256.0 TIL Cisgenders have their own language\n",
      "11 0.8033 124.0 TIL India has no official language, with English being the most important language for national, political, and commercial communication\n",
      "3 0.8032 838.0 TIL of Blissymbolics, an unspoken, written language that was invented as an easy to learn form of communication for use between people of all languages\n",
      "19 0.8009 13.0 TIL Pidgin Language is the form of communication between people with no language in common\n",
      "1 0.7928 322.0 TIL Sign language is not universal. There is about one sign language for each spoken language (and, for example, American English' Sign Language differs from British English' Sign Language).\n",
      "8 0.7886 1.0 TIL that Clicking through other languages on a Wikipedia article yields *tons* more information, especially if you are multilingual, as some articles tend to be more comprehensive in other languages.\n",
      "4 0.7858 9.0 TIL that abbreviations in different languages use words that are also in that language\n",
      "18 0.7751 3.0 TIL there is a language option on wikipedia called \"Simple English\" for people whose first language is not english, low level readers, and people who are having trouble understanding complex articles.\n",
      "2 0.7561 1.0 TIL that if you type \"define: [word here]\" on google it actually gives you a list of definitions and functions as a dictionary rather than give you links to other websites.\n",
      "0 0.7488 49.0 TIL Wikipedia has a Simple English language for in-depth articles.\n"
     ]
    }
   ],
   "source": [
    "for cluster_id, l in sorted_x:\n",
    "    print (cluster_id, \"{:.4f}\".format(ranked_rankings[l[0]]), \n",
    "           ranked_scores[l[0]],ranked_titles[l[0]])"
   ]
  },
  {
   "cell_type": "code",
   "execution_count": 560,
   "metadata": {},
   "outputs": [
    {
     "name": "stdout",
     "output_type": "stream",
     "text": [
      "12 0.8233 256.0 TIL Cisgenders have their own language\n",
      "11 0.8033 124.0 TIL India has no official language, with English being the most important language for national, political, and commercial communication\n",
      "3 0.8032 838.0 TIL of Blissymbolics, an unspoken, written language that was invented as an easy to learn form of communication for use between people of all languages\n",
      "19 0.8009 13.0 TIL Pidgin Language is the form of communication between people with no language in common\n",
      "1 0.7928 322.0 TIL Sign language is not universal. There is about one sign language for each spoken language (and, for example, American English' Sign Language differs from British English' Sign Language).\n",
      "8 0.7886 1.0 TIL that Clicking through other languages on a Wikipedia article yields *tons* more information, especially if you are multilingual, as some articles tend to be more comprehensive in other languages.\n",
      "4 0.7858 9.0 TIL that abbreviations in different languages use words that are also in that language\n",
      "18 0.7751 3.0 TIL there is a language option on wikipedia called \"Simple English\" for people whose first language is not english, low level readers, and people who are having trouble understanding complex articles.\n",
      "2 0.7561 1.0 TIL that if you type \"define: [word here]\" on google it actually gives you a list of definitions and functions as a dictionary rather than give you links to other websites.\n",
      "0 0.7488 49.0 TIL Wikipedia has a Simple English language for in-depth articles.\n"
     ]
    }
   ],
   "source": [
    "sorted_results = topResultsSorted(results)\n",
    "sorted_x = sorted(sorted_results.items(), key=lambda x: x[1][0])\n",
    "for cluster_id, l in sorted_x:\n",
    "    print (cluster_id, \"{:.4f}\".format(ranked_rankings[l[0]]), \n",
    "           ranked_scores[l[0]],ranked_titles[l[0]])"
   ]
  },
  {
   "cell_type": "code",
   "execution_count": null,
   "metadata": {},
   "outputs": [],
   "source": []
  },
  {
   "cell_type": "code",
   "execution_count": null,
   "metadata": {},
   "outputs": [],
   "source": []
  },
  {
   "cell_type": "code",
   "execution_count": null,
   "metadata": {},
   "outputs": [],
   "source": []
  }
 ],
 "metadata": {
  "kernelspec": {
   "display_name": "Python 3",
   "language": "python",
   "name": "python3"
  },
  "language_info": {
   "codemirror_mode": {
    "name": "ipython",
    "version": 3
   },
   "file_extension": ".py",
   "mimetype": "text/x-python",
   "name": "python",
   "nbconvert_exporter": "python",
   "pygments_lexer": "ipython3",
   "version": "3.7.2"
  }
 },
 "nbformat": 4,
 "nbformat_minor": 2
}
