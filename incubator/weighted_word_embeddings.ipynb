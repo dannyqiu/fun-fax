{
 "cells": [
  {
   "cell_type": "code",
   "execution_count": 1,
   "metadata": {},
   "outputs": [],
   "source": [
    "import spacy\n",
    "nlp = spacy.load('en_core_web_lg', disable=[\"parser\", \"tagger\", \"ner\"])"
   ]
  },
  {
   "cell_type": "code",
   "execution_count": 2,
   "metadata": {},
   "outputs": [],
   "source": [
    "import pandas as pd\n",
    "import numpy as np\n",
    "import matplotlib.pyplot as plt\n",
    "pd.set_option('display.max_colwidth', -1)\n",
    "EPS = 1e-6"
   ]
  },
  {
   "cell_type": "code",
   "execution_count": 66,
   "metadata": {},
   "outputs": [
    {
     "name": "stderr",
     "output_type": "stream",
     "text": [
      "/Library/Frameworks/Python.framework/Versions/3.7/lib/python3.7/site-packages/IPython/core/interactiveshell.py:3049: DtypeWarning: Columns (0,1,2,3,5,8,9,13,14,15,16,19,21,22,24,27,28,33,34,35,41,46,58,60,62,63,64,65,68,74,79,85,92,121) have mixed types. Specify dtype option on import or set low_memory=False.\n",
      "  interactivity=interactivity, compiler=compiler, result=result)\n"
     ]
    }
   ],
   "source": [
    "fun_fact_df = pd.read_csv('../data/til_title.csv')"
   ]
  },
  {
   "cell_type": "code",
   "execution_count": 1720,
   "metadata": {},
   "outputs": [],
   "source": [
    "required_columns = ['title', 'subreddit', 'permalink', 'score', 'created_utc']\n",
    "fun_fact_df = fun_fact_df.dropna(axis='rows', subset=required_columns)"
   ]
  },
  {
   "cell_type": "code",
   "execution_count": 1721,
   "metadata": {},
   "outputs": [],
   "source": [
    "banned_subreddits = ['circlejerk',\n",
    "                     'ShittyTodayILearned',\n",
    "                     'TheOnion',\n",
    "                     'WTF',\n",
    "                     # non-english\n",
    "                     'Suomi',\n",
    "                     'BitcoinDK',\n",
    "                     'BitcoinNO',\n",
    "                     'brasil',\n",
    "                    ]\n",
    "fun_fact_df = fun_fact_df[~fun_fact_df['subreddit'].isin(banned_subreddits)]"
   ]
  },
  {
   "cell_type": "code",
   "execution_count": 1722,
   "metadata": {},
   "outputs": [],
   "source": [
    "fun_fact_df = fun_fact_df.reset_index(drop=True)"
   ]
  },
  {
   "cell_type": "code",
   "execution_count": 1723,
   "metadata": {},
   "outputs": [],
   "source": [
    "from sklearn.feature_extraction.text import TfidfVectorizer\n",
    "import scipy"
   ]
  },
  {
   "cell_type": "code",
   "execution_count": 1746,
   "metadata": {},
   "outputs": [],
   "source": [
    "vectorizer = TfidfVectorizer(stop_words='english', max_df=.8, ngram_range=(1,1), dtype=np.float32)\n",
    "titles = fun_fact_df['title']\n",
    "scores = fun_fact_df['score'].astype(np.int).to_numpy()\n",
    "fun_fact_tfidf = vectorizer.fit_transform(titles)"
   ]
  },
  {
   "cell_type": "code",
   "execution_count": 1725,
   "metadata": {},
   "outputs": [
    {
     "data": {
      "text/plain": [
       "<307909x125163 sparse matrix of type '<class 'numpy.float32'>'\n",
       "\twith 2785307 stored elements in Compressed Sparse Row format>"
      ]
     },
     "execution_count": 1725,
     "metadata": {},
     "output_type": "execute_result"
    }
   ],
   "source": [
    "fun_fact_tfidf"
   ]
  },
  {
   "cell_type": "code",
   "execution_count": 1726,
   "metadata": {},
   "outputs": [
    {
     "data": {
      "text/plain": [
       "125163"
      ]
     },
     "execution_count": 1726,
     "metadata": {},
     "output_type": "execute_result"
    }
   ],
   "source": [
    "len(vectorizer.get_feature_names())"
   ]
  },
  {
   "cell_type": "code",
   "execution_count": 1727,
   "metadata": {},
   "outputs": [
    {
     "data": {
      "text/plain": [
       "307909"
      ]
     },
     "execution_count": 1727,
     "metadata": {},
     "output_type": "execute_result"
    }
   ],
   "source": [
    "len(fun_fact_df['title'])"
   ]
  },
  {
   "cell_type": "code",
   "execution_count": 1728,
   "metadata": {},
   "outputs": [
    {
     "data": {
      "text/plain": [
       "matrix([[ 6],\n",
       "        [10],\n",
       "        [26],\n",
       "        ...,\n",
       "        [ 4],\n",
       "        [14],\n",
       "        [ 5]])"
      ]
     },
     "execution_count": 1728,
     "metadata": {},
     "output_type": "execute_result"
    }
   ],
   "source": [
    "np.sum(fun_fact_tfidf > 0, axis=1) # shows number of tfidf words per doc"
   ]
  },
  {
   "cell_type": "code",
   "execution_count": 1729,
   "metadata": {},
   "outputs": [
    {
     "name": "stdout",
     "output_type": "stream",
     "text": [
      "(307909, 300)\n"
     ]
    }
   ],
   "source": [
    "features = vectorizer.get_feature_names()\n",
    "f_vectors = np.array([nlp.vocab[f].vector for f in features])\n",
    "weighted_embedding = fun_fact_tfidf.dot(f_vectors)\n",
    "print(weighted_embedding.shape)"
   ]
  },
  {
   "cell_type": "code",
   "execution_count": 1730,
   "metadata": {},
   "outputs": [],
   "source": [
    "n_weighted_embedding = weighted_embedding / (np.linalg.norm(weighted_embedding, axis=1)[:, np.newaxis] + EPS)"
   ]
  },
  {
   "cell_type": "code",
   "execution_count": 1731,
   "metadata": {},
   "outputs": [
    {
     "name": "stdout",
     "output_type": "stream",
     "text": [
      "0.9999999\n",
      "0.9999999\n"
     ]
    }
   ],
   "source": [
    "print(np.linalg.norm(n_weighted_embedding[22291]))\n",
    "print(np.linalg.norm(n_weighted_embedding[10493]))"
   ]
  },
  {
   "cell_type": "code",
   "execution_count": 1732,
   "metadata": {},
   "outputs": [],
   "source": [
    "sparse_logs = fun_fact_tfidf.copy()\n",
    "sparse_logs.data = np.log(sparse_logs.data)\n",
    "entropy = -(fun_fact_tfidf.multiply(sparse_logs)).sum(axis=1)\n",
    "entropy = np.minimum(1, np.log(np.asarray(entropy).flatten() + 1))"
   ]
  },
  {
   "cell_type": "code",
   "execution_count": 1733,
   "metadata": {},
   "outputs": [
    {
     "data": {
      "image/png": "[encoded data removed]",
      "text/plain": [
       "<Figure size 432x288 with 1 Axes>"
      ]
     },
     "metadata": {
      "needs_background": "light"
     },
     "output_type": "display_data"
    }
   ],
   "source": [
    "plt.hist(entropy,bins=100)\n",
    "plt.show()"
   ]
  },
  {
   "cell_type": "code",
   "execution_count": 1870,
   "metadata": {},
   "outputs": [],
   "source": [
    "from datetime import datetime\n",
    "\n",
    "def normalize_range(r):\n",
    "    r = np.log(r)\n",
    "    min_r = np.min(r)\n",
    "    max_r = np.max(r)\n",
    "    normalized_r = (r - min_r) / (max_r - min_r)\n",
    "    return np.sqrt(normalized_r)\n",
    "\n",
    "dates = fun_fact_df['created_utc'].astype(np.int).to_numpy()\n",
    "old_dates_dist = scipy.stats.norm(np.min(dates), np.sqrt(np.var(dates) * 2))\n",
    "p_old_dates = normalize_range(old_dates_dist.pdf(dates))\n",
    "new_dates_dist = scipy.stats.norm(np.max(dates), np.sqrt(np.var(dates) * 2))\n",
    "p_new_dates = normalize_range(new_dates_dist.pdf(dates))"
   ]
  },
  {
   "cell_type": "code",
   "execution_count": 1871,
   "metadata": {},
   "outputs": [
    {
     "data": {
      "image/png": "[encoded data removed]",
      "text/plain": [
       "<Figure size 432x288 with 1 Axes>"
      ]
     },
     "metadata": {
      "needs_background": "light"
     },
     "output_type": "display_data"
    },
    {
     "data": {
      "image/png": "[encoded data removed]",
      "text/plain": [
       "<Figure size 432x288 with 1 Axes>"
      ]
     },
     "metadata": {
      "needs_background": "light"
     },
     "output_type": "display_data"
    }
   ],
   "source": [
    "plt.hist(p_old_dates, bins=100)\n",
    "plt.show()\n",
    "plt.hist(p_new_dates, bins=100)\n",
    "plt.show()"
   ]
  },
  {
   "cell_type": "code",
   "execution_count": 1872,
   "metadata": {},
   "outputs": [
    {
     "data": {
      "image/png": "[encoded data removed]",
      "text/plain": [
       "<Figure size 432x288 with 1 Axes>"
      ]
     },
     "metadata": {
      "needs_background": "light"
     },
     "output_type": "display_data"
    }
   ],
   "source": [
    "import matplotlib.dates as mdates\n",
    "mpl_data = mdates.epoch2num(dates)\n",
    "fig, ax = plt.subplots()\n",
    "ax.hist(mpl_data, bins=50)\n",
    "ax.xaxis.set_major_locator(mdates.AutoDateLocator())\n",
    "ax.xaxis.set_major_formatter(mdates.AutoDateFormatter(mdates.AutoDateLocator()))\n",
    "plt.show()"
   ]
  },
  {
   "cell_type": "markdown",
   "metadata": {},
   "source": [
    "# Begin query searching here"
   ]
  },
  {
   "cell_type": "code",
   "execution_count": 2044,
   "metadata": {},
   "outputs": [],
   "source": [
    "query = \"illegal immigration\"\n",
    "recency_sort = False\n",
    "query_tfidf = vectorizer.transform([query])\n",
    "query_weighted = query_tfidf.dot(f_vectors).flatten()\n",
    "n_query_weighted = query_weighted / np.linalg.norm(query_weighted)\n",
    "rankings = n_weighted_embedding.dot(n_query_weighted) + .1 * entropy\n",
    "if recency_sort is not None:\n",
    "    if recency_sort == True:\n",
    "        rankings *= p_new_dates\n",
    "    else:\n",
    "        rankings *= p_old_dates\n",
    "rankings_index = np.argsort(-rankings)\n",
    "# fun_fact_df[[\"subreddit\", \"title\"]].loc[rankings_index]"
   ]
  },
  {
   "cell_type": "code",
   "execution_count": 2045,
   "metadata": {},
   "outputs": [
    {
     "data": {
      "text/plain": [
       "array([0.8214964, 0.5702136], dtype=float32)"
      ]
     },
     "execution_count": 2045,
     "metadata": {},
     "output_type": "execute_result"
    }
   ],
   "source": [
    "query_tfidf.data"
   ]
  },
  {
   "cell_type": "code",
   "execution_count": 2046,
   "metadata": {},
   "outputs": [
    {
     "name": "stdout",
     "output_type": "stream",
     "text": [
      "0.8415 2011   532 TIL that illegal immigrants can become legal residents if they've been victims of serious crimes here in the US. The law was created so that illegal immigrants would come forward and help authorities solve major crimes.\n",
      "0.8169 2011     1 TIL that immigration fraud really isn't investigated.\n",
      "0.7938 2011     0 TIL that it is VERY easy for illegal immigrant to get permanent residency in San Francisco... Just accuse someone of a crime, get a police report, be \"helpful\", and they're on their way to a U-Visa \n",
      "0.7920 2011     1 TIL That Obama's uncle is an illegal citizen, currently awaiting deportation.\n",
      "0.7911 2012     1 TIL being married to a US Citizen doesn't always protect an illegal immigrant from deportation, even if they were a victim of human trafficking.\n",
      "0.7842 2011    53 TIL that there is a tax on marijuana in 20 US states, despite its being illegal in all of them\n",
      "0.7827 2012    35 TIL one year ago today, Alabama passed a tough anti-immigration law that makes it a crime to give an illegal immigrant a ride in your car.\n",
      "0.7820 2011     5 TIL where Prostitution is legal/illegal around the world, p.s. the US needs to catch up!\n",
      "0.7816 2013     1 TIL Obama has deported 1.4 million illegal immigrants\n",
      "0.7807 2010     1 TIL: How complicated immigration to the US actually is [PIC]\n",
      "0.7775 2012     5 TIL White people invented racism, slavery, immigration laws, borders on land they stole and many others\n",
      "0.7774 2011    35 TIL It's illegal to name your child 'Brfxxccxxmnpcccclllmmnprxvclmnckssqlbb11116' in Sweden. That and 9 other illegal names from over the World.\n",
      "0.7623 2012     1 \"TIL Free OISC Immigration Training\"\n",
      "0.7595 2010    19 TIL that Canada used the Roe v. Wade case as grounds to find Canada's federal law restricting access to abortions unconstitutional in 1988.\n",
      "0.7580 2009     0 TIL: Prostitution is Legal in Canada, you just have to be careful.\n",
      "0.7565 2011    15  TIL the birth of all Mexican Drug Cartels can be traced back to a former Mexican Judicial Federal Police agent \n",
      "0.7558 2011     1 TIL In a lot of countries where it is illegal to be homosexual, it's only illegal for males.\n",
      "0.7555 2010     0 TIL why cannabis is illegal in every country\n",
      "0.7545 2010     3 TIL that the first internet spam was ironically from two Arizona lawyers taking advantage of would-be immigrants\n",
      "0.7534 2010     1 TIL it's actually illegal in the United States to boycott Israel.\n"
     ]
    }
   ],
   "source": [
    "for i in range(20):\n",
    "    print(\"{:.4f}\".format(rankings[rankings_index[i]]),\n",
    "          datetime.fromtimestamp(dates[rankings_index[i]]).year,\n",
    "          \"{:>5.0f}\".format(scores[rankings_index[i]]),\n",
    "          titles[rankings_index[i]])"
   ]
  },
  {
   "cell_type": "code",
   "execution_count": 2047,
   "metadata": {},
   "outputs": [
    {
     "data": {
      "image/png": "[encoded data removed]",
      "text/plain": [
       "<Figure size 432x288 with 1 Axes>"
      ]
     },
     "metadata": {
      "needs_background": "light"
     },
     "output_type": "display_data"
    },
    {
     "data": {
      "image/png": "[encoded data removed]",
      "text/plain": [
       "<Figure size 432x288 with 1 Axes>"
      ]
     },
     "metadata": {
      "needs_background": "light"
     },
     "output_type": "display_data"
    },
    {
     "data": {
      "image/png": "[encoded data removed]",
      "text/plain": [
       "<Figure size 432x288 with 1 Axes>"
      ]
     },
     "metadata": {
      "needs_background": "light"
     },
     "output_type": "display_data"
    }
   ],
   "source": [
    "plt.plot(rankings[rankings_index])\n",
    "plt.show()\n",
    "plt.plot(rankings[rankings_index[:1000]])\n",
    "plt.show()\n",
    "plt.plot(rankings[rankings_index[:100]])\n",
    "plt.show()"
   ]
  },
  {
   "cell_type": "code",
   "execution_count": 2048,
   "metadata": {},
   "outputs": [
    {
     "data": {
      "image/png": "[encoded data removed]",
      "text/plain": [
       "<Figure size 432x288 with 1 Axes>"
      ]
     },
     "metadata": {
      "needs_background": "light"
     },
     "output_type": "display_data"
    }
   ],
   "source": [
    "plt.hist(rankings[rankings_index], bins=100)\n",
    "plt.show()"
   ]
  },
  {
   "cell_type": "code",
   "execution_count": 2049,
   "metadata": {},
   "outputs": [
    {
     "name": "stdout",
     "output_type": "stream",
     "text": [
      "33\n",
      "0\n",
      "0.12763141\n",
      "-0.1453484445810318\n"
     ]
    }
   ],
   "source": [
    "print(np.sum(scipy.stats.zscore(rankings) > 3.5))\n",
    "print(np.sum(scipy.stats.zscore(rankings) < -3.5))\n",
    "print(np.std(rankings))\n",
    "print(scipy.stats.skew(rankings))"
   ]
  },
  {
   "cell_type": "code",
   "execution_count": 2050,
   "metadata": {},
   "outputs": [],
   "source": [
    "from sklearn.cluster import SpectralClustering, KMeans\n",
    "from sklearn.metrics import pairwise_distances_argmin_min"
   ]
  },
  {
   "cell_type": "code",
   "execution_count": 2051,
   "metadata": {},
   "outputs": [
    {
     "name": "stdout",
     "output_type": "stream",
     "text": [
      "0-28\n"
     ]
    }
   ],
   "source": [
    "upper_zscore = np.sum(scipy.stats.zscore(rankings) > 3.5)\n",
    "lower_zscore = np.sum(scipy.stats.zscore(rankings) < -3.5)\n",
    "scale = np.std(rankings) * abs(1 / scipy.stats.skew(rankings))\n",
    "TOP_HITS_KMEANS = max(15, min(200, int((upper_zscore + lower_zscore) * scale)))\n",
    "print(\"{}-{}\".format(0, TOP_HITS_KMEANS))\n",
    "ranked_rankings = rankings[rankings_index[:TOP_HITS_KMEANS]]\n",
    "ranked_titles = titles[rankings_index[:TOP_HITS_KMEANS]].tolist()\n",
    "ranked_scores = scores[rankings_index[:TOP_HITS_KMEANS]]\n",
    "top_ranked_em = n_weighted_embedding[rankings_index[:TOP_HITS_KMEANS]]\n",
    "clustering = SpectralClustering(n_clusters=10, random_state=0).fit(top_ranked_em)"
   ]
  },
  {
   "cell_type": "code",
   "execution_count": 2052,
   "metadata": {},
   "outputs": [
    {
     "name": "stdout",
     "output_type": "stream",
     "text": [
      "0 0.8415 TIL that illegal immigrants can become legal residents if they've been victims of serious crimes here in the US. The law was created so that illegal immigrants would come forward and help authorities solve major crimes.\n",
      "8 0.8169 TIL that immigration fraud really isn't investigated.\n",
      "5 0.7938 TIL that it is VERY easy for illegal immigrant to get permanent residency in San Francisco... Just accuse someone of a crime, get a police report, be \"helpful\", and they're on their way to a U-Visa \n",
      "0 0.7920 TIL That Obama's uncle is an illegal citizen, currently awaiting deportation.\n",
      "0 0.7911 TIL being married to a US Citizen doesn't always protect an illegal immigrant from deportation, even if they were a victim of human trafficking.\n",
      "1 0.7842 TIL that there is a tax on marijuana in 20 US states, despite its being illegal in all of them\n",
      "5 0.7827 TIL one year ago today, Alabama passed a tough anti-immigration law that makes it a crime to give an illegal immigrant a ride in your car.\n",
      "4 0.7820 TIL where Prostitution is legal/illegal around the world, p.s. the US needs to catch up!\n",
      "0 0.7816 TIL Obama has deported 1.4 million illegal immigrants\n",
      "5 0.7807 TIL: How complicated immigration to the US actually is [PIC]\n",
      "5 0.7775 TIL White people invented racism, slavery, immigration laws, borders on land they stole and many others\n",
      "4 0.7774 TIL It's illegal to name your child 'Brfxxccxxmnpcccclllmmnprxvclmnckssqlbb11116' in Sweden. That and 9 other illegal names from over the World.\n",
      "7 0.7623 \"TIL Free OISC Immigration Training\"\n",
      "9 0.7595 TIL that Canada used the Roe v. Wade case as grounds to find Canada's federal law restricting access to abortions unconstitutional in 1988.\n",
      "4 0.7580 TIL: Prostitution is Legal in Canada, you just have to be careful.\n",
      "8 0.7565  TIL the birth of all Mexican Drug Cartels can be traced back to a former Mexican Judicial Federal Police agent \n",
      "4 0.7558 TIL In a lot of countries where it is illegal to be homosexual, it's only illegal for males.\n",
      "1 0.7555 TIL why cannabis is illegal in every country\n",
      "2 0.7545 TIL that the first internet spam was ironically from two Arizona lawyers taking advantage of would-be immigrants\n",
      "3 0.7534 TIL it's actually illegal in the United States to boycott Israel.\n"
     ]
    }
   ],
   "source": [
    "for i in range(min(20, TOP_HITS_KMEANS)):\n",
    "    print(clustering.labels_[i], \"{:.4f}\".format(ranked_rankings[i]), ranked_titles[i])"
   ]
  },
  {
   "cell_type": "code",
   "execution_count": 2053,
   "metadata": {},
   "outputs": [],
   "source": [
    "# closest, _ = pairwise_distances_argmin_min(clustering.cluster_centers_, top_ranked_em[:TOP_HITS_KMEANS])\n",
    "# for c, i in enumerate(closest):\n",
    "#     print(c, ranked_titles[i])"
   ]
  },
  {
   "cell_type": "code",
   "execution_count": 2054,
   "metadata": {},
   "outputs": [
    {
     "name": "stdout",
     "output_type": "stream",
     "text": [
      "0 532   TIL that illegal immigrants can become legal residents if they've been victims of serious crimes here in the US. The law was created so that illegal immigrants would come forward and help authorities solve major crimes.\n",
      "1 53    TIL that there is a tax on marijuana in 20 US states, despite its being illegal in all of them\n",
      "2 3     TIL that the first internet spam was ironically from two Arizona lawyers taking advantage of would-be immigrants\n",
      "3 1     TIL it's actually illegal in the United States to boycott Israel.\n",
      "4 5     TIL where Prostitution is legal/illegal around the world, p.s. the US needs to catch up!\n",
      "5 0     TIL that it is VERY easy for illegal immigrant to get permanent residency in San Francisco... Just accuse someone of a crime, get a police report, be \"helpful\", and they're on their way to a U-Visa \n",
      "6 7     TIL rape rates in Sweden have tripled since allowing liberal immigration of muslims.\n",
      "7 1     \"TIL Free OISC Immigration Training\"\n",
      "8 1     TIL that immigration fraud really isn't investigated.\n",
      "9 19    TIL that Canada used the Roe v. Wade case as grounds to find Canada's federal law restricting access to abortions unconstitutional in 1988.\n"
     ]
    }
   ],
   "source": [
    "_, best_similarity = np.unique(clustering.labels_, return_index=True)\n",
    "for c, i in enumerate(best_similarity):\n",
    "    print(c, \"{:<5.0f}\".format(ranked_scores[i]), ranked_titles[i])"
   ]
  },
  {
   "cell_type": "code",
   "execution_count": 2055,
   "metadata": {},
   "outputs": [
    {
     "name": "stdout",
     "output_type": "stream",
     "text": [
      "0 532   TIL that illegal immigrants can become legal residents if they've been victims of serious crimes here in the US. The law was created so that illegal immigrants would come forward and help authorities solve major crimes.\n",
      "1 55    TIL: Why the states can't simply legalize and tax pot.\n",
      "2 5     TIL that illegals pay taxes too - today more than ever\n",
      "3 42    TIL it's actually illegal in the United States to boycott Israel.\n",
      "4 35    TIL It's illegal to name your child 'Brfxxccxxmnpcccclllmmnprxvclmnckssqlbb11116' in Sweden. That and 9 other illegal names from over the World.\n",
      "5 35    TIL one year ago today, Alabama passed a tough anti-immigration law that makes it a crime to give an illegal immigrant a ride in your car.\n",
      "6 7     TIL rape rates in Sweden have tripled since allowing liberal immigration of muslims.\n",
      "7 1     \"TIL Free OISC Immigration Training\"\n",
      "8 129   TIL I learned that the drug czar is LEGALLY required to oppose all research regarding illegal drugs.\n",
      "9 19    TIL that Canada used the Roe v. Wade case as grounds to find Canada's federal law restricting access to abortions unconstitutional in 1988.\n"
     ]
    }
   ],
   "source": [
    "min_allowed_similarity = np.min(ranked_rankings[best_similarity])\n",
    "best_score = [np.argsort(-np.where((clustering.labels_ == c) & (ranked_rankings >= min_allowed_similarity), ranked_scores, np.nan), kind='stable')[0] for c in range(10)]\n",
    "for c, i in enumerate(best_score):\n",
    "    print(c, \"{:<5.0f}\".format(ranked_scores[i]), ranked_titles[i])"
   ]
  },
  {
   "cell_type": "code",
   "execution_count": 2056,
   "metadata": {},
   "outputs": [
    {
     "name": "stdout",
     "output_type": "stream",
     "text": [
      "[t-SNE] Computing 27 nearest neighbors...\n",
      "[t-SNE] Indexed 28 samples in 0.000s...\n",
      "[t-SNE] Computed neighbors for 28 samples in 0.002s...\n",
      "[t-SNE] Computed conditional probabilities for sample 28 / 28\n",
      "[t-SNE] Mean sigma: 1125899906842624.000000\n",
      "[t-SNE] KL divergence after 250 iterations with early exaggeration: 43.655445\n",
      "[t-SNE] KL divergence after 1000 iterations: 0.495513\n"
     ]
    },
    {
     "data": {
      "image/png": "[encoded data removed]",
      "text/plain": [
       "<Figure size 432x288 with 1 Axes>"
      ]
     },
     "metadata": {
      "needs_background": "light"
     },
     "output_type": "display_data"
    }
   ],
   "source": [
    "from sklearn.manifold import TSNE\n",
    "tsne = TSNE(verbose=1)\n",
    "projected = tsne.fit_transform(top_ranked_em)\n",
    "plt.scatter(projected[:,0], projected[:,1])\n",
    "plt.show()"
   ]
  },
  {
   "cell_type": "markdown",
   "metadata": {},
   "source": [
    "## QED."
   ]
  },
  {
   "cell_type": "markdown",
   "metadata": {},
   "source": [
    "# Doing more clusters and picking biggest ones"
   ]
  },
  {
   "cell_type": "code",
   "execution_count": 2057,
   "metadata": {},
   "outputs": [
    {
     "name": "stdout",
     "output_type": "stream",
     "text": [
      "40\n"
     ]
    }
   ],
   "source": [
    "TOP_HITS_KMEANS = max(40,np.sum(scipy.stats.zscore(rankings[rankings_index]) > 3.5))\n",
    "if TOP_HITS_KMEANS > 200:\n",
    "    TOP_HITS_KMEANS = 200\n",
    "print(TOP_HITS_KMEANS)\n",
    "ranked_titles = titles[rankings_index].tolist()\n",
    "top_ranked_em = n_weighted_embedding[rankings_index]\n",
    "kmeans = KMeans(n_clusters=20, random_state=0).fit(top_ranked_em[:TOP_HITS_KMEANS])"
   ]
  },
  {
   "cell_type": "code",
   "execution_count": 2058,
   "metadata": {},
   "outputs": [
    {
     "name": "stdout",
     "output_type": "stream",
     "text": [
      "0 TIL one year ago today, Alabama passed a tough anti-immigration law that makes it a crime to give an illegal immigrant a ride in your car.\n",
      "1 TIL prostitution is legal in a lot more countries than I thought it was \n",
      "2 TIL that there is a tax on marijuana in 20 US states, despite its being illegal in all of them\n",
      "3 TIL that marijuana, \"the most widely used illicit substance in the world,\" was not illegal in the US until 1937, the law was debated only 90 seconds, the American Medical Association was the only one who defended the idea that marijuana was not dangerous, and the government lied about the AMA.\n",
      "4 TIL being married to a US Citizen doesn't always protect an illegal immigrant from deportation, even if they were a victim of human trafficking.\n",
      "5 TIL that prostitution is illegal in USA. \n",
      "6 TIL that Canada used the Roe v. Wade case as grounds to find Canada's federal law restricting access to abortions unconstitutional in 1988.\n",
      "7  TIL the birth of all Mexican Drug Cartels can be traced back to a former Mexican Judicial Federal Police agent \n",
      "8 TIL it's actually illegal in the United States to boycott Israel.\n",
      "9 TIL that the maximum prison sentence in Norway, for any crime, is 21 years. No wonder they have an influx of immigrants.\n"
     ]
    }
   ],
   "source": [
    "import collections\n",
    "counter = collections.Counter(kmeans.labels_)\n",
    "most_common = counter.most_common(10)\n",
    "most_common = [i[0] for i in most_common]\n",
    "closest2, _ = pairwise_distances_argmin_min(kmeans.cluster_centers_[most_common], top_ranked_em[:TOP_HITS_KMEANS])\n",
    "for c, i in enumerate(closest2):\n",
    "    print(c, ranked_titles[i])"
   ]
  },
  {
   "cell_type": "code",
   "execution_count": null,
   "metadata": {},
   "outputs": [],
   "source": []
  },
  {
   "cell_type": "markdown",
   "metadata": {},
   "source": [
    "# Instead of choosing point nearest to each centroid, choose the point with the highest similarity"
   ]
  },
  {
   "cell_type": "code",
   "execution_count": 2059,
   "metadata": {},
   "outputs": [],
   "source": [
    "def firstElementOfEachCluster(seq, num):\n",
    "    clusters_included = set(most_common)\n",
    "    res = {}\n",
    "    for i, el in enumerate(seq):\n",
    "        if el not in clusters_included:\n",
    "            continue\n",
    "        if el<10 and el not in res:\n",
    "            res[el] = i\n",
    "        if len(res) > num:\n",
    "            return res\n",
    "    \n",
    "    return res"
   ]
  },
  {
   "cell_type": "code",
   "execution_count": 2060,
   "metadata": {},
   "outputs": [
    {
     "name": "stdout",
     "output_type": "stream",
     "text": [
      "0.84152335 TIL that illegal immigrants can become legal residents if they've been victims of serious crimes here in the US. The law was created so that illegal immigrants would come forward and help authorities solve major crimes.\n",
      "0.7920055 TIL That Obama's uncle is an illegal citizen, currently awaiting deportation.\n",
      "0.78415793 TIL that there is a tax on marijuana in 20 US states, despite its being illegal in all of them\n",
      "0.78195244 TIL where Prostitution is legal/illegal around the world, p.s. the US needs to catch up!\n",
      "0.77743095 TIL It's illegal to name your child 'Brfxxccxxmnpcccclllmmnprxvclmnckssqlbb11116' in Sweden. That and 9 other illegal names from over the World.\n",
      "0.7533849 TIL it's actually illegal in the United States to boycott Israel.\n",
      "0.75296146 TIL I learned that the drug czar is LEGALLY required to oppose all research regarding illegal drugs.\n"
     ]
    }
   ],
   "source": [
    "mostSimilarInEachCluster =  firstElementOfEachCluster(kmeans.labels_, 10)\n",
    "ranked_rankings = rankings[rankings_index]\n",
    "lst = []\n",
    "for key in mostSimilarInEachCluster:\n",
    "    lst.append((ranked_rankings[mostSimilarInEachCluster[key]], ranked_titles[mostSimilarInEachCluster[key]]))\n",
    "lst = sorted(lst, key=lambda x: x[0], reverse = True)\n",
    "for sim, fact in lst:\n",
    "    print(sim, fact)"
   ]
  },
  {
   "cell_type": "code",
   "execution_count": 2061,
   "metadata": {},
   "outputs": [],
   "source": [
    "# cluster number to top 10 based on similaitity\n",
    "def top10OfEachCluster(seq, num):\n",
    "    res = {}\n",
    "    clusters_included = set(most_common)\n",
    "    for i, el in enumerate(seq):\n",
    "        if el not in clusters_included:\n",
    "            continue\n",
    "        if el not in res:\n",
    "            res[el] = [i]\n",
    "        elif len(res[el]) < num:\n",
    "            res[el].append(i) \n",
    "    return res"
   ]
  },
  {
   "cell_type": "code",
   "execution_count": 2062,
   "metadata": {},
   "outputs": [
    {
     "data": {
      "text/plain": [
       "array([ 3, 19,  3,  1,  1,  5,  3,  9, 17,  3, 18,  6, 14, 11,  9, 13,  9,\n",
       "        5,  2,  8,  8,  7,  0,  5, 15, 16,  4, 10,  0,  0,  0, 15,  5,  6,\n",
       "       13, 11,  9, 12,  3,  9], dtype=int32)"
      ]
     },
     "execution_count": 2062,
     "metadata": {},
     "output_type": "execute_result"
    }
   ],
   "source": [
    "kmeans.labels_"
   ]
  },
  {
   "cell_type": "markdown",
   "metadata": {},
   "source": [
    "## Take the 10 most similar and choose the top 4 based on score from each cluster"
   ]
  },
  {
   "cell_type": "code",
   "execution_count": 2063,
   "metadata": {},
   "outputs": [
    {
     "data": {
      "text/plain": [
       "{3: [0, 2, 6, 9, 38],\n",
       " 1: [3, 4],\n",
       " 5: [5, 17, 23, 32],\n",
       " 9: [7, 14, 16, 36, 39],\n",
       " 6: [11, 33],\n",
       " 11: [13, 35],\n",
       " 13: [15, 34],\n",
       " 8: [19, 20],\n",
       " 0: [22, 28, 29, 30],\n",
       " 15: [24, 31]}"
      ]
     },
     "execution_count": 2063,
     "metadata": {},
     "output_type": "execute_result"
    }
   ],
   "source": [
    "results = top10OfEachCluster(kmeans.labels_, 10)\n",
    "results"
   ]
  },
  {
   "cell_type": "code",
   "execution_count": 657,
   "metadata": {},
   "outputs": [],
   "source": [
    "for key in results:\n",
    "    results[key].sort(key=lambda x: ranked_scores[x], reverse = True)\n",
    "    results[key] = results[key][:4]"
   ]
  },
  {
   "cell_type": "code",
   "execution_count": 658,
   "metadata": {},
   "outputs": [
    {
     "name": "stdout",
     "output_type": "stream",
     "text": [
      "12 0.8233 256.0 TIL Cisgenders have their own language\n",
      "12 0.7699 3.0 TIL the history of the English language.\n",
      "12 0.7881 0.0 TIL about a language called \"Lolcode.\"\n",
      "19 0.8009 13.0 TIL Pidgin Language is the form of communication between people with no language in common\n",
      "19 0.8176 1.0 TIL the BBC website has a translated version of the news in Pidgin, a grammatically simplified form of a language, used for communication between people not sharing a common language.\n",
      "11 0.8033 124.0 TIL India has no official language, with English being the most important language for national, political, and commercial communication\n",
      "11 0.7621 1.0 TIL Spanish is not one of the top 3 useful foreign languages for business\n",
      "11 0.7594 0.0 TIL That the German language was the second most spoken language in the United States but the use of the language was strongly suppressed during World War I.\n",
      "3 0.8032 838.0 TIL of Blissymbolics, an unspoken, written language that was invented as an easy to learn form of communication for use between people of all languages\n",
      "3 0.7544 17.0 TIL There is a neutral easy-to-learn language that was created to help people of different languages communicate easier. \n",
      "3 0.7587 5.0 TIL that writing down spoken language makes it wrong\n",
      "3 0.7742 2.0 TIL that languages that are spoken faster do not actually deliver more information per second\n",
      "1 0.7928 322.0 TIL Sign language is not universal. There is about one sign language for each spoken language (and, for example, American English' Sign Language differs from British English' Sign Language).\n",
      "1 0.7606 68.0 TIL American Sign Language has a 60% similarity to French Sign Language but is virtually unintelligible to British Sign Language users \n",
      "1 0.7844 32.0 TIL-There is a written form of sign language.\n",
      "0 0.7488 49.0 TIL Wikipedia has a Simple English language for in-depth articles.\n",
      "0 0.7914 2.0 TIL Google can understand Birdperson's language\n",
      "0 0.7482 1.0 TIL that Wikipedia has a language called \"Simple English\" where all the articles are translated into 'Layman's Terms'\n",
      "0 0.7697 0.0 TIL: Sometimes, an English Wikipedia article is better written in another language I can understand\n",
      "8 0.7886 1.0 TIL that Clicking through other languages on a Wikipedia article yields *tons* more information, especially if you are multilingual, as some articles tend to be more comprehensive in other languages.\n",
      "4 0.7858 9.0 TIL that abbreviations in different languages use words that are also in that language\n",
      "4 0.7877 1.0 TIL there are over 200 different languages of sign language\n",
      "18 0.7751 3.0 TIL there is a language option on wikipedia called \"Simple English\" for people whose first language is not english, low level readers, and people who are having trouble understanding complex articles.\n",
      "18 0.7555 1.0 TIL There is an official effort underway to translate the English language text elements on Steam to the 'Pirate Language' - it is currently 15% complete.\n",
      "18 0.7612 0.0 TIL 10 best websites to learn how to read body language\n",
      "18 0.7572 0.0 TIL that you can if you happen to know a second language, or want practice with one you are currently learning, you can help Facebook by translating it into said language.\n",
      "2 0.7561 1.0 TIL that if you type \"define: [word here]\" on google it actually gives you a list of definitions and functions as a dictionary rather than give you links to other websites.\n",
      "2 0.7472 1.0 TIL Google has an online dictionary (not the usual web definitions that you get when you include 'define:')\n"
     ]
    }
   ],
   "source": [
    "for key in results:\n",
    "    for idx in results[key]:\n",
    "        print (key, \"{:.4f}\".format(ranked_rankings[idx]), ranked_scores[idx], ranked_titles[idx] )"
   ]
  },
  {
   "cell_type": "code",
   "execution_count": 659,
   "metadata": {},
   "outputs": [
    {
     "data": {
      "text/plain": [
       "{12: [0, 20, 8],\n",
       " 19: [4, 1],\n",
       " 11: [2, 23, 27],\n",
       " 3: [3, 34, 28, 15],\n",
       " 1: [5, 26, 13],\n",
       " 0: [36, 6, 38, 21],\n",
       " 8: [7],\n",
       " 4: [11, 9],\n",
       " 18: [14, 32, 25, 29],\n",
       " 2: [30, 39]}"
      ]
     },
     "execution_count": 659,
     "metadata": {},
     "output_type": "execute_result"
    }
   ],
   "source": [
    "results"
   ]
  },
  {
   "cell_type": "markdown",
   "metadata": {},
   "source": [
    "## ask user if they would like results by simialrity or score"
   ]
  },
  {
   "cell_type": "code",
   "execution_count": 660,
   "metadata": {},
   "outputs": [],
   "source": [
    "def topResultsSorted(results, method = 'similarity'):\n",
    "    if method == 'similarity':\n",
    "        for key in results:\n",
    "            results[key].sort(key=lambda x: ranked_rankings[x], reverse = True) #sorts within a cluster\n",
    "            sorted_results = sorted(results.items(), key=lambda x: ranked_rankings[x[1][0]], reverse = True) #sorts all clusters\n",
    "    elif method == 'score':\n",
    "        for key in results:\n",
    "            results[key].sort(key=lambda x: ranked_scores[x], reverse = True)\n",
    "            sorted_results = sorted(results.items(), key=lambda x: ranked_scores[x[1][0]], reverse = True)\n",
    "    return sorted_results"
   ]
  },
  {
   "cell_type": "code",
   "execution_count": 661,
   "metadata": {},
   "outputs": [
    {
     "name": "stdout",
     "output_type": "stream",
     "text": [
      "3 0.8032 838.0 TIL of Blissymbolics, an unspoken, written language that was invented as an easy to learn form of communication for use between people of all languages\n",
      "1 0.7928 322.0 TIL Sign language is not universal. There is about one sign language for each spoken language (and, for example, American English' Sign Language differs from British English' Sign Language).\n",
      "12 0.8233 256.0 TIL Cisgenders have their own language\n",
      "11 0.8033 124.0 TIL India has no official language, with English being the most important language for national, political, and commercial communication\n",
      "0 0.7488 49.0 TIL Wikipedia has a Simple English language for in-depth articles.\n",
      "19 0.8009 13.0 TIL Pidgin Language is the form of communication between people with no language in common\n",
      "4 0.7858 9.0 TIL that abbreviations in different languages use words that are also in that language\n",
      "18 0.7751 3.0 TIL there is a language option on wikipedia called \"Simple English\" for people whose first language is not english, low level readers, and people who are having trouble understanding complex articles.\n",
      "8 0.7886 1.0 TIL that Clicking through other languages on a Wikipedia article yields *tons* more information, especially if you are multilingual, as some articles tend to be more comprehensive in other languages.\n",
      "2 0.7561 1.0 TIL that if you type \"define: [word here]\" on google it actually gives you a list of definitions and functions as a dictionary rather than give you links to other websites.\n"
     ]
    }
   ],
   "source": [
    "sorted_results = topResultsSorted(results, \"score\")\n",
    "for cluster_id, l in sorted_results:\n",
    "    print (cluster_id, \"{:.4f}\".format(ranked_rankings[l[0]]), \n",
    "           ranked_scores[l[0]],ranked_titles[l[0]])"
   ]
  },
  {
   "cell_type": "code",
   "execution_count": 662,
   "metadata": {},
   "outputs": [
    {
     "name": "stdout",
     "output_type": "stream",
     "text": [
      "12 0.8233 256.0 TIL Cisgenders have their own language\n",
      "19 0.8176 1.0 TIL the BBC website has a translated version of the news in Pidgin, a grammatically simplified form of a language, used for communication between people not sharing a common language.\n",
      "11 0.8033 124.0 TIL India has no official language, with English being the most important language for national, political, and commercial communication\n",
      "3 0.8032 838.0 TIL of Blissymbolics, an unspoken, written language that was invented as an easy to learn form of communication for use between people of all languages\n",
      "1 0.7928 322.0 TIL Sign language is not universal. There is about one sign language for each spoken language (and, for example, American English' Sign Language differs from British English' Sign Language).\n",
      "0 0.7914 2.0 TIL Google can understand Birdperson's language\n",
      "8 0.7886 1.0 TIL that Clicking through other languages on a Wikipedia article yields *tons* more information, especially if you are multilingual, as some articles tend to be more comprehensive in other languages.\n",
      "4 0.7877 1.0 TIL there are over 200 different languages of sign language\n",
      "18 0.7751 3.0 TIL there is a language option on wikipedia called \"Simple English\" for people whose first language is not english, low level readers, and people who are having trouble understanding complex articles.\n",
      "2 0.7561 1.0 TIL that if you type \"define: [word here]\" on google it actually gives you a list of definitions and functions as a dictionary rather than give you links to other websites.\n"
     ]
    }
   ],
   "source": [
    "sorted_results = topResultsSorted(results)\n",
    "\n",
    "for cluster_id, l in sorted_results:\n",
    "    print (cluster_id, \"{:.4f}\".format(ranked_rankings[l[0]]), \n",
    "           ranked_scores[l[0]],ranked_titles[l[0]])"
   ]
  },
  {
   "cell_type": "code",
   "execution_count": 668,
   "metadata": {},
   "outputs": [
    {
     "ename": "KeyError",
     "evalue": "'[permalink]'",
     "output_type": "error",
     "traceback": [
      "\u001b[0;31m---------------------------------------------------------------------------\u001b[0m",
      "\u001b[0;31mTypeError\u001b[0m                                 Traceback (most recent call last)",
      "\u001b[0;32m/Library/Frameworks/Python.framework/Versions/3.7/lib/python3.7/site-packages/pandas/core/indexes/base.py\u001b[0m in \u001b[0;36mget_value\u001b[0;34m(self, series, key)\u001b[0m\n\u001b[1;32m   4380\u001b[0m             \u001b[0;32mtry\u001b[0m\u001b[0;34m:\u001b[0m\u001b[0;34m\u001b[0m\u001b[0;34m\u001b[0m\u001b[0m\n\u001b[0;32m-> 4381\u001b[0;31m                 \u001b[0;32mreturn\u001b[0m \u001b[0mlibindex\u001b[0m\u001b[0;34m.\u001b[0m\u001b[0mget_value_box\u001b[0m\u001b[0;34m(\u001b[0m\u001b[0ms\u001b[0m\u001b[0;34m,\u001b[0m \u001b[0mkey\u001b[0m\u001b[0;34m)\u001b[0m\u001b[0;34m\u001b[0m\u001b[0;34m\u001b[0m\u001b[0m\n\u001b[0m\u001b[1;32m   4382\u001b[0m             \u001b[0;32mexcept\u001b[0m \u001b[0mIndexError\u001b[0m\u001b[0;34m:\u001b[0m\u001b[0;34m\u001b[0m\u001b[0;34m\u001b[0m\u001b[0m\n",
      "\u001b[0;32mpandas/_libs/index.pyx\u001b[0m in \u001b[0;36mpandas._libs.index.get_value_box\u001b[0;34m()\u001b[0m\n",
      "\u001b[0;32mpandas/_libs/index.pyx\u001b[0m in \u001b[0;36mpandas._libs.index.get_value_at\u001b[0;34m()\u001b[0m\n",
      "\u001b[0;32mpandas/_libs/util.pxd\u001b[0m in \u001b[0;36mpandas._libs.util.get_value_at\u001b[0;34m()\u001b[0m\n",
      "\u001b[0;32mpandas/_libs/util.pxd\u001b[0m in \u001b[0;36mpandas._libs.util.validate_indexer\u001b[0;34m()\u001b[0m\n",
      "\u001b[0;31mTypeError\u001b[0m: 'str' object cannot be interpreted as an integer",
      "\nDuring handling of the above exception, another exception occurred:\n",
      "\u001b[0;31mKeyError\u001b[0m                                  Traceback (most recent call last)",
      "\u001b[0;32m<ipython-input-668-b5dd05608974>\u001b[0m in \u001b[0;36m<module>\u001b[0;34m\u001b[0m\n\u001b[1;32m      8\u001b[0m                 \u001b[0;34m\"score\"\u001b[0m\u001b[0;34m:\u001b[0m \u001b[0mranked_df\u001b[0m\u001b[0;34m.\u001b[0m\u001b[0miloc\u001b[0m\u001b[0;34m[\u001b[0m\u001b[0md\u001b[0m\u001b[0;34m]\u001b[0m\u001b[0;34m[\u001b[0m\u001b[0;34m'score'\u001b[0m\u001b[0;34m]\u001b[0m\u001b[0;34m\u001b[0m\u001b[0;34m\u001b[0m\u001b[0m\n\u001b[1;32m      9\u001b[0m             }\n\u001b[0;32m---> 10\u001b[0;31m             \u001b[0;32mfor\u001b[0m \u001b[0md\u001b[0m \u001b[0;32min\u001b[0m \u001b[0;34m[\u001b[0m\u001b[0mi\u001b[0m\u001b[0;34m[\u001b[0m\u001b[0;36m1\u001b[0m\u001b[0;34m]\u001b[0m\u001b[0;34m[\u001b[0m\u001b[0;36m0\u001b[0m\u001b[0;34m]\u001b[0m \u001b[0;32mfor\u001b[0m \u001b[0mi\u001b[0m \u001b[0;32min\u001b[0m \u001b[0msorted_results\u001b[0m\u001b[0;34m]\u001b[0m\u001b[0;34m\u001b[0m\u001b[0;34m\u001b[0m\u001b[0m\n\u001b[0m\u001b[1;32m     11\u001b[0m         ]\n\u001b[1;32m     12\u001b[0m \u001b[0;31m#show_more = []\u001b[0m\u001b[0;34m\u001b[0m\u001b[0;34m\u001b[0m\u001b[0;34m\u001b[0m\u001b[0m\n",
      "\u001b[0;32m<ipython-input-668-b5dd05608974>\u001b[0m in \u001b[0;36m<listcomp>\u001b[0;34m(.0)\u001b[0m\n\u001b[1;32m      8\u001b[0m                 \u001b[0;34m\"score\"\u001b[0m\u001b[0;34m:\u001b[0m \u001b[0mranked_df\u001b[0m\u001b[0;34m.\u001b[0m\u001b[0miloc\u001b[0m\u001b[0;34m[\u001b[0m\u001b[0md\u001b[0m\u001b[0;34m]\u001b[0m\u001b[0;34m[\u001b[0m\u001b[0;34m'score'\u001b[0m\u001b[0;34m]\u001b[0m\u001b[0;34m\u001b[0m\u001b[0;34m\u001b[0m\u001b[0m\n\u001b[1;32m      9\u001b[0m             }\n\u001b[0;32m---> 10\u001b[0;31m             \u001b[0;32mfor\u001b[0m \u001b[0md\u001b[0m \u001b[0;32min\u001b[0m \u001b[0;34m[\u001b[0m\u001b[0mi\u001b[0m\u001b[0;34m[\u001b[0m\u001b[0;36m1\u001b[0m\u001b[0;34m]\u001b[0m\u001b[0;34m[\u001b[0m\u001b[0;36m0\u001b[0m\u001b[0;34m]\u001b[0m \u001b[0;32mfor\u001b[0m \u001b[0mi\u001b[0m \u001b[0;32min\u001b[0m \u001b[0msorted_results\u001b[0m\u001b[0;34m]\u001b[0m\u001b[0;34m\u001b[0m\u001b[0;34m\u001b[0m\u001b[0m\n\u001b[0m\u001b[1;32m     11\u001b[0m         ]\n\u001b[1;32m     12\u001b[0m \u001b[0;31m#show_more = []\u001b[0m\u001b[0;34m\u001b[0m\u001b[0;34m\u001b[0m\u001b[0;34m\u001b[0m\u001b[0m\n",
      "\u001b[0;32m/Library/Frameworks/Python.framework/Versions/3.7/lib/python3.7/site-packages/pandas/core/series.py\u001b[0m in \u001b[0;36m__getitem__\u001b[0;34m(self, key)\u001b[0m\n\u001b[1;32m    866\u001b[0m         \u001b[0mkey\u001b[0m \u001b[0;34m=\u001b[0m \u001b[0mcom\u001b[0m\u001b[0;34m.\u001b[0m\u001b[0mapply_if_callable\u001b[0m\u001b[0;34m(\u001b[0m\u001b[0mkey\u001b[0m\u001b[0;34m,\u001b[0m \u001b[0mself\u001b[0m\u001b[0;34m)\u001b[0m\u001b[0;34m\u001b[0m\u001b[0;34m\u001b[0m\u001b[0m\n\u001b[1;32m    867\u001b[0m         \u001b[0;32mtry\u001b[0m\u001b[0;34m:\u001b[0m\u001b[0;34m\u001b[0m\u001b[0;34m\u001b[0m\u001b[0m\n\u001b[0;32m--> 868\u001b[0;31m             \u001b[0mresult\u001b[0m \u001b[0;34m=\u001b[0m \u001b[0mself\u001b[0m\u001b[0;34m.\u001b[0m\u001b[0mindex\u001b[0m\u001b[0;34m.\u001b[0m\u001b[0mget_value\u001b[0m\u001b[0;34m(\u001b[0m\u001b[0mself\u001b[0m\u001b[0;34m,\u001b[0m \u001b[0mkey\u001b[0m\u001b[0;34m)\u001b[0m\u001b[0;34m\u001b[0m\u001b[0;34m\u001b[0m\u001b[0m\n\u001b[0m\u001b[1;32m    869\u001b[0m \u001b[0;34m\u001b[0m\u001b[0m\n\u001b[1;32m    870\u001b[0m             \u001b[0;32mif\u001b[0m \u001b[0;32mnot\u001b[0m \u001b[0mis_scalar\u001b[0m\u001b[0;34m(\u001b[0m\u001b[0mresult\u001b[0m\u001b[0;34m)\u001b[0m\u001b[0;34m:\u001b[0m\u001b[0;34m\u001b[0m\u001b[0;34m\u001b[0m\u001b[0m\n",
      "\u001b[0;32m/Library/Frameworks/Python.framework/Versions/3.7/lib/python3.7/site-packages/pandas/core/indexes/base.py\u001b[0m in \u001b[0;36mget_value\u001b[0;34m(self, series, key)\u001b[0m\n\u001b[1;32m   4387\u001b[0m                     \u001b[0;32mraise\u001b[0m \u001b[0mInvalidIndexError\u001b[0m\u001b[0;34m(\u001b[0m\u001b[0mkey\u001b[0m\u001b[0;34m)\u001b[0m\u001b[0;34m\u001b[0m\u001b[0;34m\u001b[0m\u001b[0m\n\u001b[1;32m   4388\u001b[0m                 \u001b[0;32melse\u001b[0m\u001b[0;34m:\u001b[0m\u001b[0;34m\u001b[0m\u001b[0;34m\u001b[0m\u001b[0m\n\u001b[0;32m-> 4389\u001b[0;31m                     \u001b[0;32mraise\u001b[0m \u001b[0me1\u001b[0m\u001b[0;34m\u001b[0m\u001b[0;34m\u001b[0m\u001b[0m\n\u001b[0m\u001b[1;32m   4390\u001b[0m             \u001b[0;32mexcept\u001b[0m \u001b[0mException\u001b[0m\u001b[0;34m:\u001b[0m  \u001b[0;31m# pragma: no cover\u001b[0m\u001b[0;34m\u001b[0m\u001b[0;34m\u001b[0m\u001b[0m\n\u001b[1;32m   4391\u001b[0m                 \u001b[0;32mraise\u001b[0m \u001b[0me1\u001b[0m\u001b[0;34m\u001b[0m\u001b[0;34m\u001b[0m\u001b[0m\n",
      "\u001b[0;32m/Library/Frameworks/Python.framework/Versions/3.7/lib/python3.7/site-packages/pandas/core/indexes/base.py\u001b[0m in \u001b[0;36mget_value\u001b[0;34m(self, series, key)\u001b[0m\n\u001b[1;32m   4373\u001b[0m         \u001b[0;32mtry\u001b[0m\u001b[0;34m:\u001b[0m\u001b[0;34m\u001b[0m\u001b[0;34m\u001b[0m\u001b[0m\n\u001b[1;32m   4374\u001b[0m             return self._engine.get_value(s, k,\n\u001b[0;32m-> 4375\u001b[0;31m                                           tz=getattr(series.dtype, 'tz', None))\n\u001b[0m\u001b[1;32m   4376\u001b[0m         \u001b[0;32mexcept\u001b[0m \u001b[0mKeyError\u001b[0m \u001b[0;32mas\u001b[0m \u001b[0me1\u001b[0m\u001b[0;34m:\u001b[0m\u001b[0;34m\u001b[0m\u001b[0;34m\u001b[0m\u001b[0m\n\u001b[1;32m   4377\u001b[0m             \u001b[0;32mif\u001b[0m \u001b[0mlen\u001b[0m\u001b[0;34m(\u001b[0m\u001b[0mself\u001b[0m\u001b[0;34m)\u001b[0m \u001b[0;34m>\u001b[0m \u001b[0;36m0\u001b[0m \u001b[0;32mand\u001b[0m \u001b[0;34m(\u001b[0m\u001b[0mself\u001b[0m\u001b[0;34m.\u001b[0m\u001b[0mholds_integer\u001b[0m\u001b[0;34m(\u001b[0m\u001b[0;34m)\u001b[0m \u001b[0;32mor\u001b[0m \u001b[0mself\u001b[0m\u001b[0;34m.\u001b[0m\u001b[0mis_boolean\u001b[0m\u001b[0;34m(\u001b[0m\u001b[0;34m)\u001b[0m\u001b[0;34m)\u001b[0m\u001b[0;34m:\u001b[0m\u001b[0;34m\u001b[0m\u001b[0;34m\u001b[0m\u001b[0m\n",
      "\u001b[0;32mpandas/_libs/index.pyx\u001b[0m in \u001b[0;36mpandas._libs.index.IndexEngine.get_value\u001b[0;34m()\u001b[0m\n",
      "\u001b[0;32mpandas/_libs/index.pyx\u001b[0m in \u001b[0;36mpandas._libs.index.IndexEngine.get_value\u001b[0;34m()\u001b[0m\n",
      "\u001b[0;32mpandas/_libs/index.pyx\u001b[0m in \u001b[0;36mpandas._libs.index.IndexEngine.get_loc\u001b[0;34m()\u001b[0m\n",
      "\u001b[0;32mpandas/_libs/hashtable_class_helper.pxi\u001b[0m in \u001b[0;36mpandas._libs.hashtable.PyObjectHashTable.get_item\u001b[0;34m()\u001b[0m\n",
      "\u001b[0;32mpandas/_libs/hashtable_class_helper.pxi\u001b[0m in \u001b[0;36mpandas._libs.hashtable.PyObjectHashTable.get_item\u001b[0;34m()\u001b[0m\n",
      "\u001b[0;31mKeyError\u001b[0m: '[permalink]'"
     ]
    }
   ],
   "source": [
    "index = list(ranked_df.itertuples())\n",
    "results = [\n",
    "            {\n",
    "                \"type\": \"submission\",\n",
    "                \"title\": ranked_df.iloc[d][\"title\"],\n",
    "                \"subreddit\": ranked_df.iloc[d]['subreddit'],\n",
    "                \"permalink\": ranked_df.iloc[d]['permalink'],\n",
    "                \"score\": ranked_df.iloc[d]['score']\n",
    "            }\n",
    "            for d in [i[1][0] for i in sorted_results]\n",
    "        ]\n",
    "#show_more = []"
   ]
  },
  {
   "cell_type": "code",
   "execution_count": 667,
   "metadata": {},
   "outputs": [],
   "source": [
    "# index"
   ]
  },
  {
   "cell_type": "code",
   "execution_count": 664,
   "metadata": {},
   "outputs": [
    {
     "data": {
      "text/plain": [
       "[0, 1, 2, 3, 5, 6, 7, 9, 14, 30]"
      ]
     },
     "execution_count": 664,
     "metadata": {},
     "output_type": "execute_result"
    }
   ],
   "source": [
    "[i[1][0] for i in sorted_results]"
   ]
  },
  {
   "cell_type": "code",
   "execution_count": 665,
   "metadata": {},
   "outputs": [
    {
     "data": {
      "text/plain": [
       "[(12, [0, 8, 20]),\n",
       " (19, [1, 4]),\n",
       " (11, [2, 23, 27]),\n",
       " (3, [3, 15, 28, 34]),\n",
       " (1, [5, 13, 26]),\n",
       " (0, [6, 21, 36, 38]),\n",
       " (8, [7]),\n",
       " (4, [9, 11]),\n",
       " (18, [14, 25, 29, 32]),\n",
       " (2, [30, 39])]"
      ]
     },
     "execution_count": 665,
     "metadata": {},
     "output_type": "execute_result"
    }
   ],
   "source": [
    "sorted_results"
   ]
  },
  {
   "cell_type": "code",
   "execution_count": 666,
   "metadata": {},
   "outputs": [
    {
     "data": {
      "text/plain": [
       "[{'type': 'submission',\n",
       "  'title': 'TIL Cisgenders have their own language',\n",
       "  'subreddit': 'TumblrInAction',\n",
       "  'permalink': '/r/TumblrInAction/comments/35btdo/til_cisgenders_have_their_own_language/',\n",
       "  'score': 256.0},\n",
       " {'type': 'submission',\n",
       "  'title': 'TIL the BBC website has a translated version of the news in Pidgin, a grammatically simplified form of a language, used for communication between people not sharing a common language.',\n",
       "  'subreddit': 'todayilearned',\n",
       "  'permalink': '/r/todayilearned/comments/6x1ju1/til_the_bbc_website_has_a_translated_version_of/',\n",
       "  'score': 1.0},\n",
       " {'type': 'submission',\n",
       "  'title': 'TIL India has no official language, with English being the most important language for national, political, and commercial communication',\n",
       "  'subreddit': 'todayilearned',\n",
       "  'permalink': '/r/todayilearned/comments/180bhk/til_india_has_no_official_language_with_english/',\n",
       "  'score': 124.0},\n",
       " {'type': 'submission',\n",
       "  'title': 'TIL of Blissymbolics, an unspoken, written language that was invented as an easy to learn form of communication for use between people of all languages',\n",
       "  'subreddit': 'todayilearned',\n",
       "  'permalink': '/r/todayilearned/comments/1ujymd/til_of_blissymbolics_an_unspoken_written_language/',\n",
       "  'score': 838.0},\n",
       " {'type': 'submission',\n",
       "  'title': \"TIL Sign language is not universal. There is about one sign language for each spoken language (and, for example, American English' Sign Language differs from British English' Sign Language).\",\n",
       "  'subreddit': 'todayilearned',\n",
       "  'permalink': '/r/todayilearned/comments/55esnj/til_sign_language_is_not_universal_there_is_about/',\n",
       "  'score': 322.0},\n",
       " {'type': 'submission',\n",
       "  'title': \"TIL Google can understand Birdperson's language\",\n",
       "  'subreddit': 'rickandmorty',\n",
       "  'permalink': '/r/rickandmorty/comments/6vezzc/til_google_can_understand_birdpersons_language/',\n",
       "  'score': 2.0},\n",
       " {'type': 'submission',\n",
       "  'title': 'TIL that Clicking through other languages on a Wikipedia article yields *tons* more information, especially if you are multilingual, as some articles tend to be more comprehensive in other languages.',\n",
       "  'subreddit': 'todayilearned',\n",
       "  'permalink': '/r/todayilearned/comments/j0ksd/til_that_clicking_through_other_languages_on_a/',\n",
       "  'score': 1.0},\n",
       " {'type': 'submission',\n",
       "  'title': 'TIL there are over 200 different languages of sign language',\n",
       "  'subreddit': 'todayilearned',\n",
       "  'permalink': '/r/todayilearned/comments/guzts/til_there_are_over_200_different_languages_of/',\n",
       "  'score': 1.0},\n",
       " {'type': 'submission',\n",
       "  'title': 'TIL there is a language option on wikipedia called \"Simple English\" for people whose first language is not english, low level readers, and people who are having trouble understanding complex articles.',\n",
       "  'subreddit': 'reddit.com',\n",
       "  'permalink': '/r/reddit.com/comments/jbo7v/til_there_is_a_language_option_on_wikipedia/',\n",
       "  'score': 3.0},\n",
       " {'type': 'submission',\n",
       "  'title': 'TIL that if you type \"define: [word here]\" on google it actually gives you a list of definitions and functions as a dictionary rather than give you links to other websites.',\n",
       "  'subreddit': 'reddit.com',\n",
       "  'permalink': '/r/reddit.com/comments/d807l/til_that_if_you_type_define_word_here_on_google/',\n",
       "  'score': 1.0}]"
      ]
     },
     "execution_count": 666,
     "metadata": {},
     "output_type": "execute_result"
    }
   ],
   "source": [
    "results"
   ]
  },
  {
   "cell_type": "code",
   "execution_count": null,
   "metadata": {},
   "outputs": [],
   "source": []
  },
  {
   "cell_type": "code",
   "execution_count": null,
   "metadata": {},
   "outputs": [],
   "source": []
  }
 ],
 "metadata": {
  "kernelspec": {
   "display_name": "Python 3",
   "language": "python",
   "name": "python3"
  },
  "language_info": {
   "codemirror_mode": {
    "name": "ipython",
    "version": 3
   },
   "file_extension": ".py",
   "mimetype": "text/x-python",
   "name": "python",
   "nbconvert_exporter": "python",
   "pygments_lexer": "ipython3",
   "version": "3.7.2"
  }
 },
 "nbformat": 4,
 "nbformat_minor": 2
}
