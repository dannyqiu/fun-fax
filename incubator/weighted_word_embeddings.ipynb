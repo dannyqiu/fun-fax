{
 "cells": [
  {
   "cell_type": "code",
   "execution_count": 1,
   "metadata": {},
   "outputs": [],
   "source": [
    "import spacy\n",
    "nlp = spacy.load('en_core_web_lg', disable=[\"parser\", \"tagger\", \"ner\"])"
   ]
  },
  {
   "cell_type": "code",
   "execution_count": 2,
   "metadata": {},
   "outputs": [],
   "source": [
    "import pandas as pd\n",
    "import numpy as np\n",
    "pd.set_option('display.max_colwidth', -1)"
   ]
  },
  {
   "cell_type": "code",
   "execution_count": 3,
   "metadata": {},
   "outputs": [
    {
     "name": "stderr",
     "output_type": "stream",
     "text": [
      "/Users/danny/Documents/College-CORNELL/04 Senior-MEng/Spring 2019/INFO4300 - Language and Information/final project/fun-fax/venv/lib/python3.7/site-packages/IPython/core/interactiveshell.py:3049: DtypeWarning: Columns (4,8,10,11,13,14,15,16,17,19,20,21,22,23,24,25,26,28,29,30,31,33,37,38,43,44,47,48,49,50,51,52,54,55,57,58,60,61,62,64,65,71,75,87,89,91,92,93,94,97,101,104,105,106,107,110,111,112,113,114,115,118,119,120,121,122,129,133,135,137,138,139,140,142,143,148,152,155,174,176,178,179,180,181,187,191,192,193,194,197,199,201,202,203,209) have mixed types. Specify dtype option on import or set low_memory=False.\n",
      "  interactivity=interactivity, compiler=compiler, result=result)\n"
     ]
    }
   ],
   "source": [
    "fun_fact_df = pd.read_csv('../data/fun_fact_title.csv')"
   ]
  },
  {
   "cell_type": "code",
   "execution_count": 4,
   "metadata": {},
   "outputs": [],
   "source": [
    "required_columns = ['title', 'subreddit', 'permalink']\n",
    "fun_fact_df = fun_fact_df.dropna(axis='rows', subset=required_columns).reset_index(drop=True)"
   ]
  },
  {
   "cell_type": "code",
   "execution_count": 5,
   "metadata": {},
   "outputs": [],
   "source": [
    "from sklearn.feature_extraction.text import TfidfVectorizer\n",
    "import scipy"
   ]
  },
  {
   "cell_type": "code",
   "execution_count": 7,
   "metadata": {},
   "outputs": [],
   "source": [
    "vectorizer = TfidfVectorizer(stop_words='english', max_df=.8, ngram_range=(1,1))\n",
    "titles = fun_fact_df['title']\n",
    "fun_fact_tfidf = vectorizer.fit_transform(titles)"
   ]
  },
  {
   "cell_type": "code",
   "execution_count": 8,
   "metadata": {},
   "outputs": [
    {
     "data": {
      "text/plain": [
       "<39148x35740 sparse matrix of type '<class 'numpy.float64'>'\n",
       "\twith 249410 stored elements in Compressed Sparse Row format>"
      ]
     },
     "execution_count": 8,
     "metadata": {},
     "output_type": "execute_result"
    }
   ],
   "source": [
    "fun_fact_tfidf"
   ]
  },
  {
   "cell_type": "code",
   "execution_count": 11,
   "metadata": {},
   "outputs": [],
   "source": [
    "assert \"fun\" not in vectorizer.get_feature_names()"
   ]
  },
  {
   "cell_type": "code",
   "execution_count": 12,
   "metadata": {},
   "outputs": [
    {
     "data": {
      "text/plain": [
       "35740"
      ]
     },
     "execution_count": 12,
     "metadata": {},
     "output_type": "execute_result"
    }
   ],
   "source": [
    "len(vectorizer.get_feature_names())"
   ]
  },
  {
   "cell_type": "code",
   "execution_count": 13,
   "metadata": {},
   "outputs": [
    {
     "data": {
      "text/plain": [
       "39148"
      ]
     },
     "execution_count": 13,
     "metadata": {},
     "output_type": "execute_result"
    }
   ],
   "source": [
    "len(fun_fact_df['title'])"
   ]
  },
  {
   "cell_type": "code",
   "execution_count": 14,
   "metadata": {},
   "outputs": [],
   "source": [
    "features = vectorizer.get_feature_names()\n",
    "weighted_embedding = np.zeros((len(titles), 300))\n",
    "for row, col in zip(*fun_fact_tfidf.nonzero()):\n",
    "    weighted_embedding[row] += nlp.vocab[features[col]].vector * fun_fact_tfidf[row,col]"
   ]
  },
  {
   "cell_type": "code",
   "execution_count": 15,
   "metadata": {},
   "outputs": [],
   "source": [
    "avg_weighted = np.array(weighted_embedding) #/ (np.sum(fun_fact_tfidf, axis=1) + .00001))"
   ]
  },
  {
   "cell_type": "code",
   "execution_count": 16,
   "metadata": {},
   "outputs": [
    {
     "data": {
      "text/plain": [
       "matrix([[1],\n",
       "        [0],\n",
       "        [0],\n",
       "        ...,\n",
       "        [7],\n",
       "        [5],\n",
       "        [5]])"
      ]
     },
     "execution_count": 16,
     "metadata": {},
     "output_type": "execute_result"
    }
   ],
   "source": [
    "np.sum(fun_fact_tfidf > 0, axis=1) # shows number of tfidf words per doc"
   ]
  },
  {
   "cell_type": "code",
   "execution_count": 17,
   "metadata": {},
   "outputs": [
    {
     "name": "stdout",
     "output_type": "stream",
     "text": [
      "6.96032559561319\n",
      "6.9589698099915065\n"
     ]
    }
   ],
   "source": [
    "print(np.linalg.norm(avg_weighted[22291]))\n",
    "print(np.linalg.norm(avg_weighted[10493]))"
   ]
  },
  {
   "cell_type": "code",
   "execution_count": 18,
   "metadata": {},
   "outputs": [
    {
     "data": {
      "text/plain": [
       "37017    Fun Fact: Last season Kemba Walker became one of five point guards in NBA history to be a franchise’s all-time leading scorer joining Isiah Thomas (Detroit Pistons), Hal Greer (Philadelphia 76ers), Oscar Robertson (Sacramento Kings), and Gary Payton (Seattle SuperSonics/Oklahoma City Thunder).     \n",
       "33302    Fun Fact: After 16 games, Lonzo Ball is shooting better from 3 point distance than Klay Thompson, Kevin Durant, Bradley Beal, John Wall, Kawhi Leonard, Devin Booker, Donovan Mitchell, Jamal Murray, and Trae Young.                                                                                      \n",
       "32182    Fun Fact: After 16 games, Lonzo Ball is shooting better from 3 point distance than Klay Thompson, Kevin Durant, Bradley Beal, John Wall, Kawhi Leonard, Devin Booker, Donovan Mitchell, Jamal Murray, and Trae Young.                                                                                      \n",
       "29390    Fun fact: Aristotle, Genghis Khan, Isaac Newton, Beethoven, Marie Curie, Albert Einstein never had the privilege of watching Lebron James play basketball.                                                                                                                                                 \n",
       "753      Fun Fact: Donald Trump now has more votes than Rick Santorum, Newt Gingrich, and Ron Paul combined from the whole 2012 GOP primary                                                                                                                                                                         \n",
       "20571    FUN FACT: LeBron James, Carmelo Anthony, Kobe Bryant, Kevin Durant & Dwyane Wade are all playing for teams with losing records.                                                                                                                                                                            \n",
       "35418    Fun fact: Neymar have more trophies with NT than Owen, Beckham, Lampard, Gerrard, Scholes, Lineker, Rooney, Ferdinand, Terry, Ashley Cole, Kane and every english player born after 50's combined.                                                                                                         \n",
       "29147    (x-post r/soccer) - Fun fact: Neymar have more trophies with NT than Owen, Beckham, Lampard, Gerrard, Scholes, Lineker, Rooney, Ferdinand, Terry, Ashley Cole, Kane and every english player born after 50's combined.                                                                                     \n",
       "27257    Fun fact: Lyor Cohen,the man that gave HIP HOP Slick Rick, DJ Jazzy Jeff &amp; the Fresh Prince, Eric B. &amp; Rakim, EPMD, Stetsasonic, De La Soul, A Tribe Called Quest, Redman, Method Man, Jay-Z, DMX, Ja Rule, Ludacris, and Kanye West is doing the Pepe Sign                                        \n",
       "26733    Fun fact: Lyor Cohen,the man that gave HIP HOP Slick Rick, DJ Jazzy Jeff &amp; the Fresh Prince, Eric B. &amp; Rakim, EPMD, Stetsasonic, De La Soul, A Tribe Called Quest, Redman, Method Man, Jay-Z, DMX, Ja Rule, Ludacris, and Kanye West is doing the Pepe Sign                                        \n",
       "8819     Fun Fact: The Clintons Have Been People Of Interest In More Murder Investigations Than OJ Simpson, Charles Manson, Jeffrey Dahmer, John Gacy, And Ted Bundy Combined.                                                                                                                                      \n",
       "8109     Fun fact: Only 5 players in NBA History have averaged over 40 PPG in a playoff series: Elgin Baylor, Jerry West, Rick Barry &amp; Bernard King did it once. Michael Jordan? 5 times                                                                                                                        \n",
       "11322    Fun fact: Only 5 players in NBA History have averaged over 40 PPG in a playoff series: Elgin Baylor, Jerry West, Rick Barry &amp; Bernard King did it once. Michael Jordan? 5 times                                                                                                                        \n",
       "31592    Fun Fact: Sean Penn, Robert Downey Jr., Charlie Sheen and Rob Lowe were all friends in high school.                                                                                                                                                                                                        \n",
       "14819    Fun Fact: Santino Marella and Test have more eliminations than Chris Benoit, Kurt Angle, Kevin Nash, RVD, JBL, MVP, Booker T, Cesaro, AJ Styles, Christian, Dolph Ziggler, and The GreaT Khali combined                                                                                                    \n",
       "23765    [Feldman] Fun fact: Boobie Gibson was MVP of a rookie-sophomore game that included Kevin Durant, LaMarcus Aldridge, Rajon Rondo, Brandon Roy, Al Horford and Paul Millsap                                                                                                                                  \n",
       "287      Farrakhan Blames Michael Jackson's Death on Zionist Conspiracy\\n\\nFun fact: Chicago's Trinity United Church of Christ honored Farrakhan with the Rev. Jeremiah W. Wright Jr. Lifetime Achievement Award for \"his commitment to truth, education and leadership\" in 2007                                    \n",
       "18741    Fun Fact: In 2013, Nebraska's QBs reading down the depth chart were Taylor Martinez (I), Tommy Armstrong Jr. (II), Ron Kellogg III, and Johnny Stanton IV.                                                                                                                                                 \n",
       "2688     Fun Fact: The Nets traded Vince Carter and a young Ryan Anderson for Rafer Alston, Tony Battie, and Courtney Lee.                                                                                                                                                                                          \n",
       "30839    Fun Fact: The names of Tony Nese's abs are Joe, Frank, Larry, Steve, Jerry, Tim, Chris, and Colossus.                                                                                                                                                                                                      \n",
       "6389     Fun Fact: Brad Pitt, Tom Cruise, Johnny Depp, Leonardo DiCaprio and Harrison Ford have never won Oscars as actors.                                                                                                                                                                                         \n",
       "30453    Fun fact: Michael Jordan has a higher three-point percentage in the playoffs than LeBron James, Kobe Bryant, and Kevin Durant                                                                                                                                                                              \n",
       "22628    Fun Fact: Nelson Mandela, Pope John Paul II and Whoopi Goldberg are Honorary Harlem Globetrotters.                                                                                                                                                                                                         \n",
       "23760    Fun fact: In 2011, James Harden was named a *replacement* for the sophomores in the Rising Stars game, replacing Tyreke Evans. Also picked ahead of him were Brandon Jennings, Wesley Matthews, Taj Gibson, DeJuan Blair and Jrue Holiday. His superstardom wasn't guaranteed. #Rockets                    \n",
       "31030    Fun Fact: Al Capone, Alfred Hitchcock, Duke Ellington, Fred Astaire, Ernest Hemingway and Humphrey Bogart were all born in 1899                                                                                                                                                                            \n",
       "4973     Elizabeth Warren, the 1st-term MA Senator & female version of Bernie, posted this weak little Facebook rant about Trump, & the MSM is getting all excited that she may join the race. Fun fact: the last 3 MA candidates all lost: Romney, Kerry, Dukakis. JFK was the last, and she is no JFK. (See below)\n",
       "23301    Elizabeth Warren, the 1st-term MA Senator & female version of Bernie, posted this weak little Facebook rant about Trump, & the MSM is getting all excited that she may join the race. Fun fact: the last 4 MA candidates all lost: Romney, Kerry, Dukakis. JFK was the last, and she is no JFK. (See below)\n",
       "23825    TIL that Martin Luther King, Jr., Ronald Reagan, and Regis Philbin share the common trait of having obtained a B.A. in sociology (Fun fact: Reagan was a double major in economics)                                                                                                                        \n",
       "23244    Fun Fact: When Donald Trump wins on November 8, he and Mike Pence will be the first Republican Presidential ticket to win without the name 'Bush' or 'Nixon' on it since 1928.                                                                                                                             \n",
       "11845    Fun Fact: If the Cardinals win the World Series, at least one UMiami alum will have been on each of this year's NFL (Ray Lewis), NBA (James Jones) and MLB (Jon Jay) championship teams.                                                                                                                   \n",
       "                                                                                                   ...                                                                                                                                                                                                              \n",
       "35097    Fun fact No.353:                                                                                                                                                                                                                                                                                           \n",
       "35073    Fun fact No.353:                                                                                                                                                                                                                                                                                           \n",
       "36102    Fun fact No.353:                                                                                                                                                                                                                                                                                           \n",
       "16989    Fun Fact #420                                                                                                                                                                                                                                                                                              \n",
       "33030    Fun fact #74                                                                                                                                                                                                                                                                                               \n",
       "267      Fun Fact #74 1/2 - 2                                                                                                                                                                                                                                                                                       \n",
       "7401     Fun Fact: It has been 200 days...                                                                                                                                                                                                                                                                          \n",
       "25728    Facility Fun Fact #35                                                                                                                                                                                                                                                                                      \n",
       "29237    FUN FACT: 9/22/1997                                                                                                                                                                                                                                                                                        \n",
       "20770    Fun Fact #14-18                                                                                                                                                                                                                                                                                            \n",
       "24901    Facility Fun Fact #20                                                                                                                                                                                                                                                                                      \n",
       "37354    Fun Fact #2018                                                                                                                                                                                                                                                                                             \n",
       "35655    Fun Fact #2018                                                                                                                                                                                                                                                                                             \n",
       "37691    Fun Fact #2018                                                                                                                                                                                                                                                                                             \n",
       "37425    Fun fact about 2018                                                                                                                                                                                                                                                                                        \n",
       "9084     [#33|+1303|39] That's not a very fun fact                                                                                                                                                                                                                                                                  \n",
       "26332    Fun Fact #20                                                                                                                                                                                                                                                                                               \n",
       "36013    fun fact #20                                                                                                                                                                                                                                                                                               \n",
       "30663    Fun fact #20                                                                                                                                                                                                                                                                                               \n",
       "32083    Fun Fact About 7.20                                                                                                                                                                                                                                                                                        \n",
       "33614    Fun fact #239                                                                                                                                                                                                                                                                                              \n",
       "2380     [#847|+321|1885] What is one fun fact about you? [/r/AskReddit]                                                                                                                                                                                                                                            \n",
       "30498    Fun Fact #284                                                                                                                                                                                                                                                                                              \n",
       "17048    fun Fact: You can have up to 9.223.372.036.854.775.807 total experience.                                                                                                                                                                                                                                   \n",
       "6177     420 FUN FACT: In the year 2020 there will be a month of 4/20.                                                                                                                                                                                                                                              \n",
       "19092    [#430|+189|5] Not so \"Fun Fact\"...                                                                                                                                                                                                                                                                         \n",
       "15585    [#20|+1300|32] Fun fact of the day [/r/AdviceAnimals]                                                                                                                                                                                                                                                      \n",
       "13449    Fun fact about Drapetomania:                                                                                                                                                                                                                                                                               \n",
       "16480    Fun Fact: There are 5,865,696,000,000 miles or 9,460,800,000,000 kilometers in a light year.                                                                                                                                                                                                               \n",
       "14062    [#310|+226|6] A not very fun, fun fact.                                                                                                                                                                                                                                                                    \n",
       "Name: title, Length: 39148, dtype: object"
      ]
     },
     "execution_count": 18,
     "metadata": {},
     "output_type": "execute_result"
    }
   ],
   "source": [
    "query = \"donald trump\"\n",
    "query_tfidf = vectorizer.transform([query])\n",
    "query_weighted = np.zeros(300)\n",
    "for row, col in zip(*query_tfidf.nonzero()):\n",
    "    query_weighted += nlp.vocab[features[col]].vector * query_tfidf[row,col]\n",
    "rankings = avg_weighted.dot(query_weighted)\n",
    "fun_fact_df[\"title\"][np.argsort(-rankings)]"
   ]
  },
  {
   "cell_type": "code",
   "execution_count": 19,
   "metadata": {},
   "outputs": [
    {
     "data": {
      "text/plain": [
       "array([0.63616713, 0.77155128])"
      ]
     },
     "execution_count": 19,
     "metadata": {},
     "output_type": "execute_result"
    }
   ],
   "source": [
    "query_tfidf.data"
   ]
  },
  {
   "cell_type": "code",
   "execution_count": 20,
   "metadata": {},
   "outputs": [
    {
     "data": {
      "text/plain": [
       "array([73.46073664, 69.2093255 , 69.2093255 , 69.07042532, 67.06257083])"
      ]
     },
     "execution_count": 20,
     "metadata": {},
     "output_type": "execute_result"
    }
   ],
   "source": [
    "rankings[np.argsort(-rankings)][:5]"
   ]
  },
  {
   "cell_type": "code",
   "execution_count": null,
   "metadata": {},
   "outputs": [],
   "source": []
  }
 ],
 "metadata": {
  "kernelspec": {
   "display_name": "fun-fax",
   "language": "python",
   "name": "fun-fax"
  },
  "language_info": {
   "codemirror_mode": {
    "name": "ipython",
    "version": 3
   },
   "file_extension": ".py",
   "mimetype": "text/x-python",
   "name": "python",
   "nbconvert_exporter": "python",
   "pygments_lexer": "ipython3",
   "version": "3.7.3"
  }
 },
 "nbformat": 4,
 "nbformat_minor": 2
}
