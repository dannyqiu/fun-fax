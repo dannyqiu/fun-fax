{
 "cells": [
  {
   "cell_type": "code",
   "execution_count": 1,
   "metadata": {},
   "outputs": [],
   "source": [
    "import spacy\n",
    "nlp = spacy.load('en_core_web_lg', disable=[\"parser\", \"tagger\", \"ner\"])"
   ]
  },
  {
   "cell_type": "code",
   "execution_count": 175,
   "metadata": {},
   "outputs": [],
   "source": [
    "import pandas as pd\n",
    "import numpy as np\n",
    "import matplotlib.pyplot as plt\n",
    "pd.set_option('display.max_colwidth', -1)\n",
    "EPS = 1e-6"
   ]
  },
  {
   "cell_type": "code",
   "execution_count": 101,
   "metadata": {},
   "outputs": [
    {
     "name": "stderr",
     "output_type": "stream",
     "text": [
      "/Users/danny/Documents/College-CORNELL/04 Senior-MEng/Spring 2019/INFO4300 - Language and Information/final project/fun-fax/venv/lib/python3.7/site-packages/IPython/core/interactiveshell.py:3049: DtypeWarning: Columns (0,1,2,3,5,8,9,13,14,15,16,19,21,22,24,27,28,33,34,35,41,46,58,60,62,63,64,65,68,74,79,85,92,121) have mixed types. Specify dtype option on import or set low_memory=False.\n",
      "  interactivity=interactivity, compiler=compiler, result=result)\n"
     ]
    }
   ],
   "source": [
    "fun_fact_df = pd.read_csv('../data/til_title.csv')"
   ]
  },
  {
   "cell_type": "code",
   "execution_count": 102,
   "metadata": {},
   "outputs": [],
   "source": [
    "required_columns = ['title', 'subreddit', 'permalink']\n",
    "fun_fact_df = fun_fact_df.dropna(axis='rows', subset=required_columns)"
   ]
  },
  {
   "cell_type": "code",
   "execution_count": 143,
   "metadata": {},
   "outputs": [],
   "source": [
    "banned_subreddits = ['circlejerk', 'ShittyTodayILearned', 'TheOnion']\n",
    "fun_fact_df = fun_fact_df[~fun_fact_df['subreddit'].isin(banned_subreddits)]"
   ]
  },
  {
   "cell_type": "code",
   "execution_count": 144,
   "metadata": {},
   "outputs": [],
   "source": [
    "fun_fact_df = fun_fact_df.reset_index(drop=True)"
   ]
  },
  {
   "cell_type": "code",
   "execution_count": 145,
   "metadata": {},
   "outputs": [],
   "source": [
    "from sklearn.feature_extraction.text import TfidfVectorizer\n",
    "import scipy"
   ]
  },
  {
   "cell_type": "code",
   "execution_count": 146,
   "metadata": {},
   "outputs": [],
   "source": [
    "vectorizer = TfidfVectorizer(stop_words='english', max_df=.8, ngram_range=(1,1), dtype=np.float32)\n",
    "titles = fun_fact_df['title']\n",
    "fun_fact_tfidf = vectorizer.fit_transform(titles)"
   ]
  },
  {
   "cell_type": "code",
   "execution_count": 147,
   "metadata": {},
   "outputs": [
    {
     "data": {
      "text/plain": [
       "<309065x125402 sparse matrix of type '<class 'numpy.float32'>'\n",
       "\twith 2793174 stored elements in Compressed Sparse Row format>"
      ]
     },
     "execution_count": 147,
     "metadata": {},
     "output_type": "execute_result"
    }
   ],
   "source": [
    "fun_fact_tfidf"
   ]
  },
  {
   "cell_type": "code",
   "execution_count": 148,
   "metadata": {},
   "outputs": [
    {
     "data": {
      "text/plain": [
       "125402"
      ]
     },
     "execution_count": 148,
     "metadata": {},
     "output_type": "execute_result"
    }
   ],
   "source": [
    "len(vectorizer.get_feature_names())"
   ]
  },
  {
   "cell_type": "code",
   "execution_count": 149,
   "metadata": {},
   "outputs": [
    {
     "data": {
      "text/plain": [
       "309065"
      ]
     },
     "execution_count": 149,
     "metadata": {},
     "output_type": "execute_result"
    }
   ],
   "source": [
    "len(fun_fact_df['title'])"
   ]
  },
  {
   "cell_type": "code",
   "execution_count": 150,
   "metadata": {},
   "outputs": [
    {
     "data": {
      "text/plain": [
       "matrix([[ 6],\n",
       "        [10],\n",
       "        [26],\n",
       "        ...,\n",
       "        [ 4],\n",
       "        [14],\n",
       "        [ 5]])"
      ]
     },
     "execution_count": 150,
     "metadata": {},
     "output_type": "execute_result"
    }
   ],
   "source": [
    "np.sum(fun_fact_tfidf > 0, axis=1) # shows number of tfidf words per doc"
   ]
  },
  {
   "cell_type": "code",
   "execution_count": 151,
   "metadata": {},
   "outputs": [
    {
     "name": "stdout",
     "output_type": "stream",
     "text": [
      "(309065, 300)\n"
     ]
    }
   ],
   "source": [
    "features = vectorizer.get_feature_names()\n",
    "f_vectors = np.array([nlp.vocab[f].vector for f in features])\n",
    "weighted_embedding = fun_fact_tfidf.dot(f_vectors)\n",
    "print(weighted_embedding.shape)"
   ]
  },
  {
   "cell_type": "code",
   "execution_count": 152,
   "metadata": {},
   "outputs": [],
   "source": [
    "n_weighted_embedding = weighted_embedding / (np.linalg.norm(weighted_embedding, axis=1)[:, np.newaxis] + EPS)"
   ]
  },
  {
   "cell_type": "code",
   "execution_count": 153,
   "metadata": {},
   "outputs": [
    {
     "name": "stdout",
     "output_type": "stream",
     "text": [
      "0.9999999\n",
      "0.9999998\n"
     ]
    }
   ],
   "source": [
    "print(np.linalg.norm(n_weighted_embedding[22291]))\n",
    "print(np.linalg.norm(n_weighted_embedding[10493]))"
   ]
  },
  {
   "cell_type": "code",
   "execution_count": 480,
   "metadata": {},
   "outputs": [
    {
     "data": {
      "text/html": [
       "<div>\n",
       "<style scoped>\n",
       "    .dataframe tbody tr th:only-of-type {\n",
       "        vertical-align: middle;\n",
       "    }\n",
       "\n",
       "    .dataframe tbody tr th {\n",
       "        vertical-align: top;\n",
       "    }\n",
       "\n",
       "    .dataframe thead th {\n",
       "        text-align: right;\n",
       "    }\n",
       "</style>\n",
       "<table border=\"1\" class=\"dataframe\">\n",
       "  <thead>\n",
       "    <tr style=\"text-align: right;\">\n",
       "      <th></th>\n",
       "      <th>subreddit</th>\n",
       "      <th>title</th>\n",
       "    </tr>\n",
       "  </thead>\n",
       "  <tbody>\n",
       "    <tr>\n",
       "      <th>288823</th>\n",
       "      <td>todayilearned</td>\n",
       "      <td>TIL how Microsoft was named</td>\n",
       "    </tr>\n",
       "    <tr>\n",
       "      <th>40548</th>\n",
       "      <td>todayilearned</td>\n",
       "      <td>TIL that the program *Microsoft* Powerpoint was originally made for Macintosh.</td>\n",
       "    </tr>\n",
       "    <tr>\n",
       "      <th>168526</th>\n",
       "      <td>todayilearned</td>\n",
       "      <td>TIL 5 tricks for Microsoft Excel</td>\n",
       "    </tr>\n",
       "    <tr>\n",
       "      <th>135547</th>\n",
       "      <td>todayilearned</td>\n",
       "      <td>TIL Microsoft Flight Simulator is 3 years older than Microsoft Windows</td>\n",
       "    </tr>\n",
       "    <tr>\n",
       "      <th>85817</th>\n",
       "      <td>todayilearned</td>\n",
       "      <td>TIL that Microsoft Office was released for Mac 15 Months before being released on Microsoft Windows</td>\n",
       "    </tr>\n",
       "    <tr>\n",
       "      <th>71394</th>\n",
       "      <td>todayilearned</td>\n",
       "      <td>TIL that you can't name a folder 'con' in Microsoft Windows.</td>\n",
       "    </tr>\n",
       "    <tr>\n",
       "      <th>167424</th>\n",
       "      <td>todayilearned</td>\n",
       "      <td>TIL In Microsoft Windows you cannot name a folder Con.</td>\n",
       "    </tr>\n",
       "    <tr>\n",
       "      <th>276572</th>\n",
       "      <td>reddit.com</td>\n",
       "      <td>TIL...You can't name a folder 'con' in Microsoft windows</td>\n",
       "    </tr>\n",
       "    <tr>\n",
       "      <th>193940</th>\n",
       "      <td>todayilearned</td>\n",
       "      <td>TIL Microsoft's CEO is crazy</td>\n",
       "    </tr>\n",
       "    <tr>\n",
       "      <th>107685</th>\n",
       "      <td>mildlyinteresting</td>\n",
       "      <td>TIL why Microsoft Excel's logo has an X instead of an E.</td>\n",
       "    </tr>\n",
       "    <tr>\n",
       "      <th>258096</th>\n",
       "      <td>todayilearned</td>\n",
       "      <td>TIL Microsoft Office premiered on Mac OS, not Windows.</td>\n",
       "    </tr>\n",
       "    <tr>\n",
       "      <th>229115</th>\n",
       "      <td>todayilearned</td>\n",
       "      <td>TIL that you cant name a folder \"con\" on a  Microsoft Windows computer</td>\n",
       "    </tr>\n",
       "    <tr>\n",
       "      <th>870</th>\n",
       "      <td>todayilearned</td>\n",
       "      <td>TIL that Microsoft used pirated software for Windows XP audio files.</td>\n",
       "    </tr>\n",
       "    <tr>\n",
       "      <th>146591</th>\n",
       "      <td>todayilearned</td>\n",
       "      <td>TIL - Microsoft just posted their last version of Microsoft Money on the Internet for free!</td>\n",
       "    </tr>\n",
       "    <tr>\n",
       "      <th>261832</th>\n",
       "      <td>todayilearned</td>\n",
       "      <td>TIL 10 facts about Microsoft</td>\n",
       "    </tr>\n",
       "    <tr>\n",
       "      <th>132646</th>\n",
       "      <td>microsoft</td>\n",
       "      <td>TIL Microsoft made a version of IE for Unix.</td>\n",
       "    </tr>\n",
       "    <tr>\n",
       "      <th>296309</th>\n",
       "      <td>todayilearned</td>\n",
       "      <td>TIL that you can't name a folder \"con\" in Microsoft Windows. Try it!</td>\n",
       "    </tr>\n",
       "    <tr>\n",
       "      <th>191085</th>\n",
       "      <td>todayilearned</td>\n",
       "      <td>TIL you can not name a folder \"con\" in any version of Microsoft Windows.</td>\n",
       "    </tr>\n",
       "    <tr>\n",
       "      <th>215150</th>\n",
       "      <td>todayilearned</td>\n",
       "      <td>TIL that Macintosh came up with the idea of using \"windows\" before Microsoft brought Windows.</td>\n",
       "    </tr>\n",
       "    <tr>\n",
       "      <th>225246</th>\n",
       "      <td>todayilearned</td>\n",
       "      <td>TIL Microsoft makes more money on Android than Xbox, Windows Phone and Skype combined.</td>\n",
       "    </tr>\n",
       "    <tr>\n",
       "      <th>33908</th>\n",
       "      <td>WTF</td>\n",
       "      <td>TIL that no one uses Microsoft anymore. ಠ_ಠ</td>\n",
       "    </tr>\n",
       "    <tr>\n",
       "      <th>12926</th>\n",
       "      <td>todayilearned</td>\n",
       "      <td>TIL why Microsoft, Google, and Mozilla are climbing over each other to give us a FREE product.</td>\n",
       "    </tr>\n",
       "    <tr>\n",
       "      <th>92832</th>\n",
       "      <td>todayilearned</td>\n",
       "      <td>TIL the person who put up the bounty for the first open source Kinect drivers was a former Microsoft Kinect developer unhappy with Microsoft's lack of PC support</td>\n",
       "    </tr>\n",
       "    <tr>\n",
       "      <th>270945</th>\n",
       "      <td>todayilearned</td>\n",
       "      <td>TIL The default wallpaper in Microsoft's Windows XP was taken in 1996</td>\n",
       "    </tr>\n",
       "    <tr>\n",
       "      <th>54871</th>\n",
       "      <td>todayilearned</td>\n",
       "      <td>TIL that PowerPoint originated on the Mac, was sold year later to Microsoft</td>\n",
       "    </tr>\n",
       "    <tr>\n",
       "      <th>2235</th>\n",
       "      <td>LinuxCirclejerk</td>\n",
       "      <td>TIL that Microsoft = LITERALLY HITLER</td>\n",
       "    </tr>\n",
       "    <tr>\n",
       "      <th>149800</th>\n",
       "      <td>todayilearned</td>\n",
       "      <td>TIL that Microsoft released Office for Mac before a Windows version was ever released.</td>\n",
       "    </tr>\n",
       "    <tr>\n",
       "      <th>215502</th>\n",
       "      <td>todayilearned</td>\n",
       "      <td>TIL Microsoft Support- Not Like Steam, Microsoft gets more ass...</td>\n",
       "    </tr>\n",
       "    <tr>\n",
       "      <th>275675</th>\n",
       "      <td>todayilearned</td>\n",
       "      <td>TIL Clippy from Microsoft Office has his own Video Game</td>\n",
       "    </tr>\n",
       "    <tr>\n",
       "      <th>303366</th>\n",
       "      <td>todayilearned</td>\n",
       "      <td>TIL Microsoft make security changes in Skype!</td>\n",
       "    </tr>\n",
       "    <tr>\n",
       "      <th>...</th>\n",
       "      <td>...</td>\n",
       "      <td>...</td>\n",
       "    </tr>\n",
       "    <tr>\n",
       "      <th>99065</th>\n",
       "      <td>Denmark</td>\n",
       "      <td>Villy Søvndal klar til vildt comeback</td>\n",
       "    </tr>\n",
       "    <tr>\n",
       "      <th>108729</th>\n",
       "      <td>metacirclejerk</td>\n",
       "      <td>TIL Karmanaut is a redditor.</td>\n",
       "    </tr>\n",
       "    <tr>\n",
       "      <th>67515</th>\n",
       "      <td>todayilearned</td>\n",
       "      <td>TIL How to Take Catnaps</td>\n",
       "    </tr>\n",
       "    <tr>\n",
       "      <th>305011</th>\n",
       "      <td>classicalmusic</td>\n",
       "      <td>TIL about Claques</td>\n",
       "    </tr>\n",
       "    <tr>\n",
       "      <th>24651</th>\n",
       "      <td>todayilearned</td>\n",
       "      <td>TIL about Korfball</td>\n",
       "    </tr>\n",
       "    <tr>\n",
       "      <th>262955</th>\n",
       "      <td>bakchodi</td>\n",
       "      <td>TIL that FTFY ...</td>\n",
       "    </tr>\n",
       "    <tr>\n",
       "      <th>6711</th>\n",
       "      <td>WTF</td>\n",
       "      <td>TIL There's Something Called a Blobfish...</td>\n",
       "    </tr>\n",
       "    <tr>\n",
       "      <th>254564</th>\n",
       "      <td>todayilearned</td>\n",
       "      <td>TIL about the Philipea...awwwwwwwww</td>\n",
       "    </tr>\n",
       "    <tr>\n",
       "      <th>36978</th>\n",
       "      <td>metacirclejerk</td>\n",
       "      <td>TIL karmanot is karmanaut</td>\n",
       "    </tr>\n",
       "    <tr>\n",
       "      <th>31233</th>\n",
       "      <td>DANMAG</td>\n",
       "      <td>Fanen står højt til dimmisonsfest!</td>\n",
       "    </tr>\n",
       "    <tr>\n",
       "      <th>230505</th>\n",
       "      <td>worldnews</td>\n",
       "      <td>Boliger til leje</td>\n",
       "    </tr>\n",
       "    <tr>\n",
       "      <th>45011</th>\n",
       "      <td>gggg</td>\n",
       "      <td>TIL: Gggg gggg? ggggggg ggGg G gGggGg GgG ggGG ggggg.</td>\n",
       "    </tr>\n",
       "    <tr>\n",
       "      <th>214911</th>\n",
       "      <td>til</td>\n",
       "      <td>TIL about chessboxing</td>\n",
       "    </tr>\n",
       "    <tr>\n",
       "      <th>183128</th>\n",
       "      <td>worldGlance</td>\n",
       "      <td>Leoncie komin aftur til Íslands [/u/avar]</td>\n",
       "    </tr>\n",
       "    <tr>\n",
       "      <th>35112</th>\n",
       "      <td>todayilearned</td>\n",
       "      <td>TIL someone skied at 243kmph/151mph</td>\n",
       "    </tr>\n",
       "    <tr>\n",
       "      <th>64724</th>\n",
       "      <td>todayilearned</td>\n",
       "      <td>TIL there are subreddits /r/ggg, /r/gggg, /r/ggggg, /r/gggggg, and /r/ggggggg</td>\n",
       "    </tr>\n",
       "    <tr>\n",
       "      <th>124803</th>\n",
       "      <td>forhonor</td>\n",
       "      <td>TIL Peacekeeper has rollerskates</td>\n",
       "    </tr>\n",
       "    <tr>\n",
       "      <th>110083</th>\n",
       "      <td>reddit.com</td>\n",
       "      <td>TIL what a dakimakura is.</td>\n",
       "    </tr>\n",
       "    <tr>\n",
       "      <th>74537</th>\n",
       "      <td>leagueoflegends</td>\n",
       "      <td>TIL about Thresh</td>\n",
       "    </tr>\n",
       "    <tr>\n",
       "      <th>238905</th>\n",
       "      <td>todayilearned</td>\n",
       "      <td>TIL what a wifebeater is</td>\n",
       "    </tr>\n",
       "    <tr>\n",
       "      <th>173117</th>\n",
       "      <td>todayilearned</td>\n",
       "      <td>TIL Rocksalt-how its made</td>\n",
       "    </tr>\n",
       "    <tr>\n",
       "      <th>5678</th>\n",
       "      <td>todayilearned</td>\n",
       "      <td>TIL about Reddiquette</td>\n",
       "    </tr>\n",
       "    <tr>\n",
       "      <th>96110</th>\n",
       "      <td>todayilearned</td>\n",
       "      <td>TIL Reddiquette and you should too!</td>\n",
       "    </tr>\n",
       "    <tr>\n",
       "      <th>62363</th>\n",
       "      <td>trees</td>\n",
       "      <td>TIL what a fluffernutter is [6]... yummmm</td>\n",
       "    </tr>\n",
       "    <tr>\n",
       "      <th>158680</th>\n",
       "      <td>Suomi</td>\n",
       "      <td>TIL: Tänään vietetään venetsialaisia</td>\n",
       "    </tr>\n",
       "    <tr>\n",
       "      <th>268785</th>\n",
       "      <td>todayilearned</td>\n",
       "      <td>TIL about Pansexuality</td>\n",
       "    </tr>\n",
       "    <tr>\n",
       "      <th>306316</th>\n",
       "      <td>sex</td>\n",
       "      <td>TIL about pansexuality.</td>\n",
       "    </tr>\n",
       "    <tr>\n",
       "      <th>30067</th>\n",
       "      <td>norge</td>\n",
       "      <td>Fyller samiskkurs-lokalet «til randen»</td>\n",
       "    </tr>\n",
       "    <tr>\n",
       "      <th>286122</th>\n",
       "      <td>todayilearned</td>\n",
       "      <td>TIL about corpsing.</td>\n",
       "    </tr>\n",
       "    <tr>\n",
       "      <th>250207</th>\n",
       "      <td>funny</td>\n",
       "      <td>TIL about corpsing.</td>\n",
       "    </tr>\n",
       "  </tbody>\n",
       "</table>\n",
       "<p>309065 rows × 2 columns</p>\n",
       "</div>"
      ],
      "text/plain": [
       "                subreddit  \\\n",
       "288823  todayilearned       \n",
       "40548   todayilearned       \n",
       "168526  todayilearned       \n",
       "135547  todayilearned       \n",
       "85817   todayilearned       \n",
       "71394   todayilearned       \n",
       "167424  todayilearned       \n",
       "276572  reddit.com          \n",
       "193940  todayilearned       \n",
       "107685  mildlyinteresting   \n",
       "258096  todayilearned       \n",
       "229115  todayilearned       \n",
       "870     todayilearned       \n",
       "146591  todayilearned       \n",
       "261832  todayilearned       \n",
       "132646  microsoft           \n",
       "296309  todayilearned       \n",
       "191085  todayilearned       \n",
       "215150  todayilearned       \n",
       "225246  todayilearned       \n",
       "33908   WTF                 \n",
       "12926   todayilearned       \n",
       "92832   todayilearned       \n",
       "270945  todayilearned       \n",
       "54871   todayilearned       \n",
       "2235    LinuxCirclejerk     \n",
       "149800  todayilearned       \n",
       "215502  todayilearned       \n",
       "275675  todayilearned       \n",
       "303366  todayilearned       \n",
       "...               ...       \n",
       "99065   Denmark             \n",
       "108729  metacirclejerk      \n",
       "67515   todayilearned       \n",
       "305011  classicalmusic      \n",
       "24651   todayilearned       \n",
       "262955  bakchodi            \n",
       "6711    WTF                 \n",
       "254564  todayilearned       \n",
       "36978   metacirclejerk      \n",
       "31233   DANMAG              \n",
       "230505  worldnews           \n",
       "45011   gggg                \n",
       "214911  til                 \n",
       "183128  worldGlance         \n",
       "35112   todayilearned       \n",
       "64724   todayilearned       \n",
       "124803  forhonor            \n",
       "110083  reddit.com          \n",
       "74537   leagueoflegends     \n",
       "238905  todayilearned       \n",
       "173117  todayilearned       \n",
       "5678    todayilearned       \n",
       "96110   todayilearned       \n",
       "62363   trees               \n",
       "158680  Suomi               \n",
       "268785  todayilearned       \n",
       "306316  sex                 \n",
       "30067   norge               \n",
       "286122  todayilearned       \n",
       "250207  funny               \n",
       "\n",
       "                                                                                                                                                                    title  \n",
       "288823  TIL how Microsoft was named                                                                                                                                        \n",
       "40548   TIL that the program *Microsoft* Powerpoint was originally made for Macintosh.                                                                                     \n",
       "168526  TIL 5 tricks for Microsoft Excel                                                                                                                                   \n",
       "135547  TIL Microsoft Flight Simulator is 3 years older than Microsoft Windows                                                                                             \n",
       "85817   TIL that Microsoft Office was released for Mac 15 Months before being released on Microsoft Windows                                                                \n",
       "71394   TIL that you can't name a folder 'con' in Microsoft Windows.                                                                                                       \n",
       "167424  TIL In Microsoft Windows you cannot name a folder Con.                                                                                                             \n",
       "276572  TIL...You can't name a folder 'con' in Microsoft windows                                                                                                           \n",
       "193940  TIL Microsoft's CEO is crazy                                                                                                                                       \n",
       "107685  TIL why Microsoft Excel's logo has an X instead of an E.                                                                                                           \n",
       "258096  TIL Microsoft Office premiered on Mac OS, not Windows.                                                                                                             \n",
       "229115  TIL that you cant name a folder \"con\" on a  Microsoft Windows computer                                                                                             \n",
       "870     TIL that Microsoft used pirated software for Windows XP audio files.                                                                                               \n",
       "146591  TIL - Microsoft just posted their last version of Microsoft Money on the Internet for free!                                                                        \n",
       "261832  TIL 10 facts about Microsoft                                                                                                                                       \n",
       "132646  TIL Microsoft made a version of IE for Unix.                                                                                                                       \n",
       "296309  TIL that you can't name a folder \"con\" in Microsoft Windows. Try it!                                                                                               \n",
       "191085  TIL you can not name a folder \"con\" in any version of Microsoft Windows.                                                                                           \n",
       "215150  TIL that Macintosh came up with the idea of using \"windows\" before Microsoft brought Windows.                                                                      \n",
       "225246  TIL Microsoft makes more money on Android than Xbox, Windows Phone and Skype combined.                                                                             \n",
       "33908   TIL that no one uses Microsoft anymore. ಠ_ಠ                                                                                                                        \n",
       "12926   TIL why Microsoft, Google, and Mozilla are climbing over each other to give us a FREE product.                                                                     \n",
       "92832   TIL the person who put up the bounty for the first open source Kinect drivers was a former Microsoft Kinect developer unhappy with Microsoft's lack of PC support  \n",
       "270945  TIL The default wallpaper in Microsoft's Windows XP was taken in 1996                                                                                              \n",
       "54871   TIL that PowerPoint originated on the Mac, was sold year later to Microsoft                                                                                        \n",
       "2235    TIL that Microsoft = LITERALLY HITLER                                                                                                                              \n",
       "149800  TIL that Microsoft released Office for Mac before a Windows version was ever released.                                                                             \n",
       "215502  TIL Microsoft Support- Not Like Steam, Microsoft gets more ass...                                                                                                  \n",
       "275675  TIL Clippy from Microsoft Office has his own Video Game                                                                                                            \n",
       "303366  TIL Microsoft make security changes in Skype!                                                                                                                      \n",
       "...                                               ...                                                                                                                      \n",
       "99065   Villy Søvndal klar til vildt comeback                                                                                                                              \n",
       "108729  TIL Karmanaut is a redditor.                                                                                                                                       \n",
       "67515   TIL How to Take Catnaps                                                                                                                                            \n",
       "305011  TIL about Claques                                                                                                                                                  \n",
       "24651   TIL about Korfball                                                                                                                                                 \n",
       "262955  TIL that FTFY ...                                                                                                                                                  \n",
       "6711    TIL There's Something Called a Blobfish...                                                                                                                         \n",
       "254564  TIL about the Philipea...awwwwwwwww                                                                                                                                \n",
       "36978   TIL karmanot is karmanaut                                                                                                                                          \n",
       "31233   Fanen står højt til dimmisonsfest!                                                                                                                                 \n",
       "230505  Boliger til leje                                                                                                                                                   \n",
       "45011   TIL: Gggg gggg? ggggggg ggGg G gGggGg GgG ggGG ggggg.                                                                                                              \n",
       "214911  TIL about chessboxing                                                                                                                                              \n",
       "183128  Leoncie komin aftur til Íslands [/u/avar]                                                                                                                          \n",
       "35112   TIL someone skied at 243kmph/151mph                                                                                                                                \n",
       "64724   TIL there are subreddits /r/ggg, /r/gggg, /r/ggggg, /r/gggggg, and /r/ggggggg                                                                                      \n",
       "124803  TIL Peacekeeper has rollerskates                                                                                                                                   \n",
       "110083  TIL what a dakimakura is.                                                                                                                                          \n",
       "74537   TIL about Thresh                                                                                                                                                   \n",
       "238905  TIL what a wifebeater is                                                                                                                                           \n",
       "173117  TIL Rocksalt-how its made                                                                                                                                          \n",
       "5678    TIL about Reddiquette                                                                                                                                              \n",
       "96110   TIL Reddiquette and you should too!                                                                                                                                \n",
       "62363   TIL what a fluffernutter is [6]... yummmm                                                                                                                          \n",
       "158680  TIL: Tänään vietetään venetsialaisia                                                                                                                               \n",
       "268785  TIL about Pansexuality                                                                                                                                             \n",
       "306316  TIL about pansexuality.                                                                                                                                            \n",
       "30067   Fyller samiskkurs-lokalet «til randen»                                                                                                                             \n",
       "286122  TIL about corpsing.                                                                                                                                                \n",
       "250207  TIL about corpsing.                                                                                                                                                \n",
       "\n",
       "[309065 rows x 2 columns]"
      ]
     },
     "execution_count": 480,
     "metadata": {},
     "output_type": "execute_result"
    }
   ],
   "source": [
    "query = \"microsoft\"\n",
    "query_tfidf = vectorizer.transform([query])\n",
    "query_weighted = query_tfidf.dot(f_vectors).flatten()\n",
    "n_query_weighted = query_weighted / np.linalg.norm(query_weighted)\n",
    "rankings = n_weighted_embedding.dot(n_query_weighted)\n",
    "rankings_index = np.argsort(-rankings)\n",
    "fun_fact_df[[\"subreddit\", \"title\"]].loc[rankings_index]"
   ]
  },
  {
   "cell_type": "code",
   "execution_count": 481,
   "metadata": {},
   "outputs": [
    {
     "data": {
      "text/plain": [
       "array([1.], dtype=float32)"
      ]
     },
     "execution_count": 481,
     "metadata": {},
     "output_type": "execute_result"
    }
   ],
   "source": [
    "query_tfidf.data"
   ]
  },
  {
   "cell_type": "code",
   "execution_count": 482,
   "metadata": {},
   "outputs": [
    {
     "name": "stdout",
     "output_type": "stream",
     "text": [
      "0.8769067 TIL how Microsoft was named\n",
      "0.82659763 TIL that the program *Microsoft* Powerpoint was originally made for Macintosh.\n",
      "0.80883443 TIL 5 tricks for Microsoft Excel\n",
      "0.8079662 TIL Microsoft Flight Simulator is 3 years older than Microsoft Windows\n",
      "0.80756795 TIL that Microsoft Office was released for Mac 15 Months before being released on Microsoft Windows\n",
      "0.79870486 TIL that you can't name a folder 'con' in Microsoft Windows.\n",
      "0.79870486 TIL In Microsoft Windows you cannot name a folder Con.\n",
      "0.79870486 TIL...You can't name a folder 'con' in Microsoft windows\n",
      "0.7986944 TIL Microsoft's CEO is crazy\n",
      "0.79009145 TIL why Microsoft Excel's logo has an X instead of an E.\n",
      "0.7891766 TIL Microsoft Office premiered on Mac OS, not Windows.\n",
      "0.7883165 TIL that you cant name a folder \"con\" on a  Microsoft Windows computer\n",
      "0.786859 TIL that Microsoft used pirated software for Windows XP audio files.\n",
      "0.78068244 TIL - Microsoft just posted their last version of Microsoft Money on the Internet for free!\n",
      "0.7756274 TIL 10 facts about Microsoft\n",
      "0.7725855 TIL Microsoft made a version of IE for Unix.\n",
      "0.7676419 TIL that you can't name a folder \"con\" in Microsoft Windows. Try it!\n",
      "0.7632952 TIL you can not name a folder \"con\" in any version of Microsoft Windows.\n",
      "0.7596081 TIL that Macintosh came up with the idea of using \"windows\" before Microsoft brought Windows.\n",
      "0.75952077 TIL Microsoft makes more money on Android than Xbox, Windows Phone and Skype combined.\n"
     ]
    }
   ],
   "source": [
    "for i in range(20):\n",
    "    print(rankings[rankings_index[i]], titles[rankings_index[i]])"
   ]
  },
  {
   "cell_type": "code",
   "execution_count": 483,
   "metadata": {},
   "outputs": [
    {
     "data": {
      "image/png": "[encoded data removed]",
      "text/plain": [
       "<Figure size 432x288 with 1 Axes>"
      ]
     },
     "metadata": {
      "needs_background": "light"
     },
     "output_type": "display_data"
    },
    {
     "data": {
      "image/png": "[encoded data removed]",
      "text/plain": [
       "<Figure size 432x288 with 1 Axes>"
      ]
     },
     "metadata": {
      "needs_background": "light"
     },
     "output_type": "display_data"
    },
    {
     "data": {
      "image/png": "[encoded data removed]",
      "text/plain": [
       "<Figure size 432x288 with 1 Axes>"
      ]
     },
     "metadata": {
      "needs_background": "light"
     },
     "output_type": "display_data"
    }
   ],
   "source": [
    "plt.plot(rankings[rankings_index])\n",
    "plt.show()\n",
    "plt.plot(rankings[rankings_index[:1000]])\n",
    "plt.show()\n",
    "plt.plot(rankings[rankings_index[:100]])\n",
    "plt.show()"
   ]
  },
  {
   "cell_type": "code",
   "execution_count": 484,
   "metadata": {},
   "outputs": [],
   "source": [
    "from sklearn.cluster import KMeans\n",
    "from sklearn.metrics import pairwise_distances_argmin_min"
   ]
  },
  {
   "cell_type": "code",
   "execution_count": 485,
   "metadata": {},
   "outputs": [
    {
     "name": "stdout",
     "output_type": "stream",
     "text": [
      "0-10, 10-155\n"
     ]
    }
   ],
   "source": [
    "TOP_HITS_KMEANS = 10\n",
    "TOP_HITS_KMEANS2 = np.argmax(rankings[rankings_index] < .65)\n",
    "if TOP_HITS_KMEANS2 < 20:\n",
    "    TOP_HITS_KMEANS2 = np.argmax(rankings[rankings_index] < .55)\n",
    "TOP_HITS_KMEANS2 = max(TOP_HITS_KMEANS2, 20)\n",
    "print(\"{}-{}, {}-{}\".format(0, TOP_HITS_KMEANS, TOP_HITS_KMEANS, TOP_HITS_KMEANS2))\n",
    "ranked_titles = titles[rankings_index].tolist()\n",
    "top_ranked_em = n_weighted_embedding[rankings_index]\n",
    "kmeans = KMeans(n_clusters=3, random_state=0).fit(top_ranked_em[:TOP_HITS_KMEANS])"
   ]
  },
  {
   "cell_type": "code",
   "execution_count": 486,
   "metadata": {},
   "outputs": [
    {
     "name": "stdout",
     "output_type": "stream",
     "text": [
      "0 0.8769 TIL how Microsoft was named\n",
      "0 0.8266 TIL that the program *Microsoft* Powerpoint was originally made for Macintosh.\n",
      "2 0.8088 TIL 5 tricks for Microsoft Excel\n",
      "0 0.8080 TIL Microsoft Flight Simulator is 3 years older than Microsoft Windows\n",
      "0 0.8076 TIL that Microsoft Office was released for Mac 15 Months before being released on Microsoft Windows\n",
      "1 0.7987 TIL that you can't name a folder 'con' in Microsoft Windows.\n",
      "1 0.7987 TIL In Microsoft Windows you cannot name a folder Con.\n",
      "1 0.7987 TIL...You can't name a folder 'con' in Microsoft windows\n",
      "2 0.7987 TIL Microsoft's CEO is crazy\n",
      "2 0.7901 TIL why Microsoft Excel's logo has an X instead of an E.\n"
     ]
    }
   ],
   "source": [
    "for i in range(min(20, TOP_HITS_KMEANS)):\n",
    "    print(kmeans.labels_[i], \"{:.4f}\".format(rankings[rankings_index[i]]), titles[rankings_index[i]])"
   ]
  },
  {
   "cell_type": "code",
   "execution_count": 487,
   "metadata": {},
   "outputs": [],
   "source": [
    "closest, _ = pairwise_distances_argmin_min(kmeans.cluster_centers_, top_ranked_em[:TOP_HITS_KMEANS])"
   ]
  },
  {
   "cell_type": "code",
   "execution_count": 488,
   "metadata": {},
   "outputs": [
    {
     "name": "stdout",
     "output_type": "stream",
     "text": [
      "0 TIL that Microsoft Office was released for Mac 15 Months before being released on Microsoft Windows\n",
      "1 TIL that you can't name a folder 'con' in Microsoft Windows.\n",
      "2 TIL 5 tricks for Microsoft Excel\n"
     ]
    }
   ],
   "source": [
    "for c, i in enumerate(closest):\n",
    "    print(c, ranked_titles[i])"
   ]
  },
  {
   "cell_type": "code",
   "execution_count": 489,
   "metadata": {},
   "outputs": [
    {
     "name": "stdout",
     "output_type": "stream",
     "text": [
      "0 TIL Firefox 13 Final Released For Windows, Mac, Linux\n",
      "1 TIL Microsoft makes more money on Android than Xbox, Windows Phone and Skype combined.\n",
      "2 TIL that you can't name a folder \"con\" in Microsoft Windows. Try it!\n",
      "3 TIL that you can now download Photoshop for free from adobe\n",
      "4 TIL - Microsoft just posted their last version of Microsoft Money on the Internet for free!\n",
      "5 TIL people still use windows XP\n",
      "6 TIL Microsoft is trying to pull some Xbox One crap on Windows 10\n"
     ]
    }
   ],
   "source": [
    "kmeans2 = KMeans(n_clusters=7, random_state=0).fit(top_ranked_em[TOP_HITS_KMEANS:TOP_HITS_KMEANS2])\n",
    "closest2, _ = pairwise_distances_argmin_min(kmeans2.cluster_centers_, top_ranked_em[TOP_HITS_KMEANS:TOP_HITS_KMEANS2])\n",
    "for c, i in enumerate(closest2):\n",
    "    print(c, ranked_titles[i + TOP_HITS_KMEANS])"
   ]
  },
  {
   "cell_type": "code",
   "execution_count": null,
   "metadata": {},
   "outputs": [],
   "source": []
  }
 ],
 "metadata": {
  "kernelspec": {
   "display_name": "fun-fax",
   "language": "python",
   "name": "fun-fax"
  },
  "language_info": {
   "codemirror_mode": {
    "name": "ipython",
    "version": 3
   },
   "file_extension": ".py",
   "mimetype": "text/x-python",
   "name": "python",
   "nbconvert_exporter": "python",
   "pygments_lexer": "ipython3",
   "version": "3.7.3"
  }
 },
 "nbformat": 4,
 "nbformat_minor": 2
}
