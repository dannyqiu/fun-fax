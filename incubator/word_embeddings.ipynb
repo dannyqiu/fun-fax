{
 "cells": [
  {
   "cell_type": "code",
   "execution_count": 1,
   "metadata": {},
   "outputs": [],
   "source": [
    "import spacy"
   ]
  },
  {
   "cell_type": "code",
   "execution_count": 107,
   "metadata": {},
   "outputs": [],
   "source": [
    "nlp = spacy.load('en_core_web_lg', disable=[\"parser\", \"tagger\", \"ner\"])"
   ]
  },
  {
   "cell_type": "code",
   "execution_count": 108,
   "metadata": {},
   "outputs": [],
   "source": [
    "vocab = [w for w in nlp.vocab if w.is_lower and w.prob >= -15 and w.vector.any()]\n",
    "def most_similar(word, top=10):\n",
    "    by_similarity = sorted(vocab, key=lambda w: word.similarity(w), reverse=True)\n",
    "    return by_similarity[:top]"
   ]
  },
  {
   "cell_type": "code",
   "execution_count": 109,
   "metadata": {},
   "outputs": [
    {
     "data": {
      "text/plain": [
       "['computer',\n",
       " 'computers',\n",
       " 'laptop',\n",
       " 'software',\n",
       " 'desktop',\n",
       " 'computing',\n",
       " 'laptops',\n",
       " 'workstation',\n",
       " 'hardware',\n",
       " 'systems']"
      ]
     },
     "execution_count": 109,
     "metadata": {},
     "output_type": "execute_result"
    }
   ],
   "source": [
    "[w.lower_ for w in most_similar(nlp.vocab['computer'])]"
   ]
  },
  {
   "cell_type": "code",
   "execution_count": 203,
   "metadata": {},
   "outputs": [],
   "source": [
    "import pandas as pd\n",
    "import numpy as np\n",
    "pd.set_option('display.max_colwidth', -1)\n",
    "nlp.max_length = 100000000"
   ]
  },
  {
   "cell_type": "code",
   "execution_count": 232,
   "metadata": {},
   "outputs": [
    {
     "name": "stderr",
     "output_type": "stream",
     "text": [
      "/Users/danny/Documents/College-CORNELL/04 Senior-MEng/Spring 2019/INFO4300 - Language and Information/final project/fun-fax/venv/lib/python3.7/site-packages/IPython/core/interactiveshell.py:3049: DtypeWarning: Columns (4,8,10,11,13,14,15,16,17,19,20,21,22,23,24,25,26,28,29,30,31,33,37,38,43,44,47,48,49,50,51,52,54,55,57,58,60,61,62,64,65,71,75,87,89,91,92,93,94,97,101,104,105,106,107,110,111,112,113,114,115,118,119,120,121,122,129,133,135,137,138,139,140,142,143,148,152,155,174,176,178,179,180,181,187,191,192,193,194,197,199,201,202,203,209) have mixed types. Specify dtype option on import or set low_memory=False.\n",
      "  interactivity=interactivity, compiler=compiler, result=result)\n"
     ]
    }
   ],
   "source": [
    "fun_fact_df = pd.read_csv('../data/fun_fact_title.csv')"
   ]
  },
  {
   "cell_type": "code",
   "execution_count": 233,
   "metadata": {},
   "outputs": [],
   "source": [
    "fun_fact_df = fun_fact_df.dropna(axis='rows', subset=['title'])"
   ]
  },
  {
   "cell_type": "code",
   "execution_count": 234,
   "metadata": {},
   "outputs": [],
   "source": [
    "concat_docs = \" ||| \".join(list(fun_fact_df[\"title\"]))"
   ]
  },
  {
   "cell_type": "code",
   "execution_count": 235,
   "metadata": {},
   "outputs": [],
   "source": [
    "doc = nlp(concat_docs)"
   ]
  },
  {
   "cell_type": "code",
   "execution_count": 236,
   "metadata": {},
   "outputs": [],
   "source": [
    "def compute_embedding(tokens):\n",
    "    return np.average([t.vector for t in tokens], axis=0)"
   ]
  },
  {
   "cell_type": "code",
   "execution_count": 237,
   "metadata": {},
   "outputs": [],
   "source": [
    "doc_vectors = []\n",
    "cur_sent = []\n",
    "for w in doc:\n",
    "    if w.text == \"|||\":\n",
    "        doc_vectors.append(compute_embedding(cur_sent))\n",
    "        cur_sent = []\n",
    "        continue\n",
    "    cur_sent.append(w)\n",
    "doc_vectors.append(compute_embedding(cur_sent))\n",
    "doc_vectors = np.array(doc_vectors)"
   ]
  },
  {
   "cell_type": "code",
   "execution_count": 238,
   "metadata": {},
   "outputs": [],
   "source": [
    "query = \"computer\"\n",
    "query_embedding = compute_embedding([w for w in nlp(query)])"
   ]
  },
  {
   "cell_type": "code",
   "execution_count": 239,
   "metadata": {},
   "outputs": [
    {
     "data": {
      "text/plain": [
       "8264     COMPUTER FUN FACT                                                                                                                                                                                                                                                                                  \n",
       "8484     Fun fact ...about Windows Phone users                                                                                                                                                                                                                                                              \n",
       "11487    Mobile App Fun Fact                                                                                                                                                                                                                                                                                \n",
       "5618     Any thoughts on this computer fun fact?                                                                                                                                                                                                                                                            \n",
       "25980    Fun fact, the monitor will turn itself off when you turn the computer off                                                                                                                                                                                                                          \n",
       "1978     Science fun fact                                                                                                                                                                                                                                                                                   \n",
       "5210     paiN Gaming FUN FACT                                                                                                                                                                                                                                                                               \n",
       "4218     Interactive Fun Fact                                                                                                                                                                                                                                                                               \n",
       "14645    Library fun fact                                                                                                                                                                                                                                                                                   \n",
       "36165    Fun fact kids you can download RAM                                                                                                                                                                                                                                                                 \n",
       "21247    Fun fact about lab testing                                                                                                                                                                                                                                                                         \n",
       "21743    Mathematical fun fact                                                                                                                                                                                                                                                                              \n",
       "29641    [Fun Fact] You can play Osrs Mobile on your Pc or Laptop with an Emulator                                                                                                                                                                                                                          \n",
       "12652    Fun fact game                                                                                                                                                                                                                                                                                      \n",
       "38152    Fun Fact: The plural form of software is Software.                                                                                                                                                                                                                                                 \n",
       "28900    Tell me a fun fact about your PC                                                                                                                                                                                                                                                                   \n",
       "29785    School fun fact                                                                                                                                                                                                                                                                                    \n",
       "39127    Fun fact about Firefox users                                                                                                                                                                                                                                                                       \n",
       "26388    FUN FACT: you can connect to parties through the app on your phone without even logging onto your console                                                                                                                                                                                          \n",
       "10493    Fun Fact: Xbox One Controller can charge normal rechargeable batteries                                                                                                                                                                                                                             \n",
       "21113    Fun Fact: Your mobile phone has more computing power than the computers used for the Apollo 11 moon landing.                                                                                                                                                                                       \n",
       "26957    Fun fact generator                                                                                                                                                                                                                                                                                 \n",
       "28052    Fun fact for your science corner                                                                                                                                                                                                                                                                   \n",
       "21704    Nintendo Switch fun fact                                                                                                                                                                                                                                                                           \n",
       "20348    Fun fact: Using a photo scanner to scan football cards actually works.                                                                                                                                                                                                                             \n",
       "2252     A fun fact generator                                                                                                                                                                                                                                                                               \n",
       "8301     Web Comic Fun Fact                                                                                                                                                                                                                                                                                 \n",
       "1347     Fun fact: after using iPad for some time, today was the first day I tried to tap on my computer monitor...                                                                                                                                                                                         \n",
       "16128    Random fun fact                                                                                                                                                                                                                                                                                    \n",
       "36779    Random fun fact                                                                                                                                                                                                                                                                                    \n",
       "              ...                                                                                                                                                                                                                                                                                           \n",
       "308      Fun fact, na kraju Nirvaninog unpluggeda, netko se dere \"Hoćemo još, hoćemo još\" (5:51)                                                                                                                                                                                                            \n",
       "30480    FUN FACT 🙂🤗😂🤔☺😃☺😉                                                                                                                                                                                                                                                                                  \n",
       "37       Fun Fact: Mcdavid vs. Crouse                                                                                                                                                                                                                                                                       \n",
       "11712    Fun Fact : Benfica tem 7,5% de probabilidades de chegar à final da Champions                                                                                                                                                                                                                       \n",
       "25033    Fun fact: Σαν σήμερα έπεσε η Τροία                                                                                                                                                                                                                                                                 \n",
       "29151    Josh Brolin Aka Thanos fun fact                                                                                                                                                                                                                                                                    \n",
       "29693    [Fun Fact] Jakiej wysokości alimenty mieli płacić polscy alimenciarze odsiadujący karę w wiezieniach                                                                                                                                                                                               \n",
       "31731    [FUN FACT] Bevor der JB Industries Angestellte Klaus Muthsam 1887 die Quantenphysik erfand, konnte man genau bestimmen, wo sich ein Elektron zu welchem Zeitpunkt befindet.                                                                                                                        \n",
       "17014    Fun Fact des Tages : Laut Dokumenten, die im November 2014 enthüllt wurden, soll die Inter Ikea Holding etwa im Jahr 2010 ganze 48.000 Euro Steuern gezahlt haben - auf einen Gewinn von damals mehr als 2,5 Milliarden Euro. Das entspricht in etwa einem Steuersatz von zwei Tausendstel Prozent.\n",
       "24092    [Carsten Knop] RT @CBudras: Fun fact zu Folge 11 des FAZ-Einspruch- #Podcast von @cobvl und mir: Die Beschränkung der sachgrundlosen Befristung hat gester…                                                                                                                                        \n",
       "24346    Fun Fact: Spawning Maiden as Pentakill Yorick near Karthus ables to hear Pentakill Karthus' dance                                                                                                                                                                                                  \n",
       "13408    Les dejo un fun fact: el cantante de esta banda es uruguayo                                                                                                                                                                                                                                        \n",
       "18480    Fun Fact: Девојката во бендот е од МК, и уметничкото име и е \"Devojka\"                                                                                                                                                                                                                             \n",
       "20742    Fun Fact: 0.000001 BTC = Satoshi, 0.000001 XRP = Drop                                                                                                                                                                                                                                              \n",
       "29141    Dolph Ziggler fun fact                                                                                                                                                                                                                                                                             \n",
       "19686    Fun Fact: Rent berggrundsgeologiskt hör Skåne mer ihop med Danmark än övriga Sverige.                                                                                                                                                                                                              \n",
       "32167    Fun Fact : Le Parti libéral du Québec est présent aux élections québécoises depuis 1867 et n'a jamais reçu moins de 30% du vote. Avant lundi (24,82%).                                                                                                                                             \n",
       "18473    Fun Fact: Minuten vor der PK mit Strache muss Basti seine Minister noch suchen                                                                                                                                                                                                                     \n",
       "5077     Fun fact: Aproximadamente un mes luego del golpe fallido del '92, varios fuertes militares fueron robados de su armamento. Meses despues otro golpe sucedio, exitoso.                                                                                                                              \n",
       "33428    FuN FAcT                                                                                                                                                                                                                                                                                           \n",
       "3666     FuN FaCT                                                                                                                                                                                                                                                                                           \n",
       "37379    fUn FaCt                                                                                                                                                                                                                                                                                           \n",
       "38383    FuN FaCT                                                                                                                                                                                                                                                                                           \n",
       "35046    FuN FaCT                                                                                                                                                                                                                                                                                           \n",
       "26971    fUn FaCt                                                                                                                                                                                                                                                                                           \n",
       "28166    FuN FaCT                                                                                                                                                                                                                                                                                           \n",
       "37210    [Fun fact] 25 sự thật thú vị về loài mèo                                                                                                                                                                                                                                                           \n",
       "26919    Fun fact, sverige är så stort så att hela sverige skulle få platts i det                                                                                                                                                                                                                           \n",
       "29571    Fun fact thú vị về loài cáo                                                                                                                                                                                                                                                                        \n",
       "30791    Mấy hôm nay cứ thấy nhiều người nhắc đến Nàng Bạch Tuyết và Bảy Chú Lùn, đã thế làm cái fun fact nho nhỏ nhỉ :v                                                                                                                                                                                    \n",
       "Name: title, Length: 39156, dtype: object"
      ]
     },
     "execution_count": 239,
     "metadata": {},
     "output_type": "execute_result"
    }
   ],
   "source": [
    "rankings = np.dot(doc_vectors, query_embedding)\n",
    "fun_fact_df[\"title\"][np.argsort(-rankings)]"
   ]
  },
  {
   "cell_type": "code",
   "execution_count": 219,
   "metadata": {},
   "outputs": [
    {
     "data": {
      "text/plain": [
       "(324996, 300)"
      ]
     },
     "execution_count": 219,
     "metadata": {},
     "output_type": "execute_result"
    }
   ],
   "source": [
    "doc_vectors.shape"
   ]
  },
  {
   "cell_type": "code",
   "execution_count": null,
   "metadata": {},
   "outputs": [],
   "source": []
  }
 ],
 "metadata": {
  "kernelspec": {
   "display_name": "fun-fax",
   "language": "python",
   "name": "fun-fax"
  },
  "language_info": {
   "codemirror_mode": {
    "name": "ipython",
    "version": 3
   },
   "file_extension": ".py",
   "mimetype": "text/x-python",
   "name": "python",
   "nbconvert_exporter": "python",
   "pygments_lexer": "ipython3",
   "version": "3.7.3"
  }
 },
 "nbformat": 4,
 "nbformat_minor": 2
}
