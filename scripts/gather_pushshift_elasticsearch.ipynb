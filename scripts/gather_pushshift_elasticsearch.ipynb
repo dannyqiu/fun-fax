{
 "cells": [
  {
   "cell_type": "code",
   "execution_count": 1,
   "metadata": {},
   "outputs": [
    {
     "name": "stdout",
     "output_type": "stream",
     "text": [
      "3.7.3 (default, Mar 27 2019, 09:23:15) \n",
      "[Clang 10.0.1 (clang-1001.0.46.3)]\n"
     ]
    }
   ],
   "source": [
    "import sys\n",
    "print(sys.version)"
   ]
  },
  {
   "cell_type": "code",
   "execution_count": 2,
   "metadata": {},
   "outputs": [
    {
     "data": {
      "text/plain": [
       "{'name': 'node-2',\n",
       " 'cluster_name': 'pushshift',\n",
       " 'cluster_uuid': '2O6kg4ywRIGfUnIVFA078A',\n",
       " 'version': {'number': '5.6.3',\n",
       "  'build_hash': '1a2f265',\n",
       "  'build_date': '2017-10-06T20:33:39.012Z',\n",
       "  'build_snapshot': False,\n",
       "  'lucene_version': '6.6.1'},\n",
       " 'tagline': 'You Know, for Search'}"
      ]
     },
     "execution_count": 2,
     "metadata": {},
     "output_type": "execute_result"
    }
   ],
   "source": [
    "import time\n",
    "import pandas as pd\n",
    "from pandas.io.json import json_normalize\n",
    "import itertools\n",
    "import matplotlib.pyplot as plt\n",
    "from elasticsearch import Elasticsearch\n",
    "from elasticsearch.helpers import scan\n",
    "\n",
    "HOST = \"elastic.pushshift.io\"\n",
    "PORT = 80\n",
    "TIMEOUT = 1000\n",
    "\n",
    "es = Elasticsearch(hosts=[{'host': HOST, 'port': PORT}], timeout=TIMEOUT)\n",
    "es.info()"
   ]
  },
  {
   "cell_type": "code",
   "execution_count": 18,
   "metadata": {},
   "outputs": [],
   "source": [
    "SUBMISSIONS_INDEX = \"rs/submissions\"\n",
    "# BATCH_SIZE = 10000 # set to maximum number of entries that can be retrieved in a single call\n",
    "BATCH_SIZE = 25000\n",
    "\n",
    "def get_all_results_helper(es, index, query_body, total_size=-1):\n",
    "    # The below line may not work for the PushShift Elasticsearch backend since\n",
    "    # the shards have duplicate entries.\n",
    "    # Thus, we end up manually search+scroll to retrieve all data from a single shard.\n",
    "    gen = scan(es, index=SUBMISSIONS_INDEX, query=query_body, size=BATCH_SIZE, scroll='1m', clear_scroll=False, raise_on_error=False)\n",
    "    gen = gen if total_size == -1 else itertools.islice(gen, total_size)\n",
    "    return list(gen)\n",
    "\n",
    "#     def extract_hits(batch):\n",
    "#         return batch[\"hits\"][\"hits\"]\n",
    "#     results = []\n",
    "#     batch = es.search(index=SUBMISSIONS_INDEX, body=query_body, size=BATCH_SIZE, scroll=\"1m\", preference=\"_local\")\n",
    "#     scroll_id = batch[\"_scroll_id\"]\n",
    "#     results.extend(extract_hits(batch))\n",
    "#     while extract_hits(batch) and (total_size == -1 or len(results) < total_size):\n",
    "#         batch = es.scroll(scroll_id, scroll=\"1m\")\n",
    "#         results.extend(extract_hits(batch))\n",
    "#     return results if total_size == -1 else results[:total_size]\n",
    "\n",
    "def get_fun_fact_in_title(total_size=-1):\n",
    "    query_body = {\n",
    "        \"query\": {\"query_string\" : {\"query\" : \"(title:\\\"fun fact: \\\")\"}},\n",
    "        \"sort\": [\"_doc\"],\n",
    "    }\n",
    "    return get_all_results_helper(es, SUBMISSIONS_INDEX, query_body, total_size)\n",
    "\n",
    "def get_til_in_title(total_size=-1):\n",
    "    query_body = {\n",
    "        \"query\": {\"query_string\" : {\"query\" : \"(title:\\\"til: \\\")\"}},\n",
    "        \"sort\": [\"_doc\"],\n",
    "#         \"sort\": {\"score\": {\"order\": \"desc\"}},\n",
    "    }\n",
    "    return get_all_results_helper(es, SUBMISSIONS_INDEX, query_body, total_size)\n",
    "\n",
    "def get_ysk_in_title(total_size=-1):\n",
    "    query_body = {\n",
    "        \"query\": {\"query_string\" : {\"query\" : \"(title:\\\"ysk: \\\")\"}},\n",
    "        \"sort\": [\"_doc\"],\n",
    "    }\n",
    "    return get_all_results_helper(es, SUBMISSIONS_INDEX, query_body, total_size)"
   ]
  },
  {
   "cell_type": "code",
   "execution_count": 4,
   "metadata": {},
   "outputs": [
    {
     "name": "stderr",
     "output_type": "stream",
     "text": [
      "Scroll request has only succeeded on 36 shards out of 40.\n"
     ]
    },
    {
     "name": "stdout",
     "output_type": "stream",
     "text": [
      "Retrieved 81624 results in 24.4393s\n"
     ]
    }
   ],
   "source": [
    "start = time.time()\n",
    "results = get_fun_fact_in_title(1500000)\n",
    "end = time.time()\n",
    "print(\"Retrieved {} results in {:.4f}s\".format(len(results), end - start))"
   ]
  },
  {
   "cell_type": "code",
   "execution_count": 5,
   "metadata": {},
   "outputs": [],
   "source": [
    "df = pd.DataFrame(results)\n",
    "# df[\"_id\"].describe()\n",
    "df.drop_duplicates(\"_id\", inplace=True)\n",
    "dfn = json_normalize(df[\"_source\"])\n",
    "dfn.to_csv('fun_fact_title.csv', header='column_names')"
   ]
  },
  {
   "cell_type": "code",
   "execution_count": 6,
   "metadata": {},
   "outputs": [
    {
     "data": {
      "text/plain": [
       "{'thumbnail': 'default',\n",
       " 'mod_reports': [],\n",
       " 'author': '[deleted]',\n",
       " 'over_18': False,\n",
       " 'user_reports': [],\n",
       " 'title': 'Fun fact about the Vatican',\n",
       " 'report_reasons': None,\n",
       " 'subreddit': 'funny',\n",
       " 'subreddit_id': 4594431,\n",
       " 'url': 'http://imgur.com/tJJEovL',\n",
       " 'num_comments': 0,\n",
       " 'score': 0,\n",
       " 'stickied': False,\n",
       " 'domain': 'imgur.com',\n",
       " 'retrieved_on': 1413178593,\n",
       " 'id': 72184347,\n",
       " 'created_utc': 1358750166,\n",
       " 'permalink': '/r/funny/comments/16z5sr/fun_fact_about_the_vatican/',\n",
       " 'is_self': False}"
      ]
     },
     "execution_count": 6,
     "metadata": {},
     "output_type": "execute_result"
    }
   ],
   "source": [
    "df[\"_source\"][0]"
   ]
  },
  {
   "cell_type": "code",
   "execution_count": 7,
   "metadata": {},
   "outputs": [
    {
     "data": {
      "text/plain": [
       "count         39156\n",
       "unique        39156\n",
       "top       245120152\n",
       "freq              1\n",
       "Name: _id, dtype: object"
      ]
     },
     "execution_count": 7,
     "metadata": {},
     "output_type": "execute_result"
    }
   ],
   "source": [
    "df[\"_id\"].describe()"
   ]
  },
  {
   "cell_type": "code",
   "execution_count": 8,
   "metadata": {},
   "outputs": [
    {
     "name": "stderr",
     "output_type": "stream",
     "text": [
      "Scroll request has only succeeded on 36 shards out of 40.\n"
     ]
    },
    {
     "name": "stdout",
     "output_type": "stream",
     "text": [
      "Retrieved 1500000 results in 231.0791s\n"
     ]
    }
   ],
   "source": [
    "start = time.time()\n",
    "results = get_til_in_title(1500000)\n",
    "end = time.time()\n",
    "print(\"Retrieved {} results in {:.4f}s\".format(len(results), end - start))"
   ]
  },
  {
   "cell_type": "code",
   "execution_count": 9,
   "metadata": {},
   "outputs": [],
   "source": [
    "df = pd.DataFrame(results)\n",
    "# df[\"_id\"].describe()\n",
    "df.drop_duplicates(\"_id\", inplace=True)\n",
    "dfn = json_normalize(df[\"_source\"])\n",
    "dfn.to_csv('til_title.csv', header='column_names')"
   ]
  },
  {
   "cell_type": "code",
   "execution_count": 10,
   "metadata": {},
   "outputs": [
    {
     "data": {
      "text/plain": [
       "{'thumbnail': 'default',\n",
       " 'author': 'BannedINDC',\n",
       " 'over_18': False,\n",
       " 'title': 'TIL Corey Feldman already made a movie about killing Bin Laden',\n",
       " 'subreddit': 'todayilearned',\n",
       " 'subreddit_id': 4606680,\n",
       " 'url': 'http://www.avclub.com/articles/never-mind-corey-feldman-already-made-a-movie-abou,55383/',\n",
       " 'num_comments': 0,\n",
       " 'score': 1,\n",
       " 'domain': 'avclub.com',\n",
       " 'id': 28674356,\n",
       " 'created_utc': 1304372001,\n",
       " 'permalink': '/r/todayilearned/comments/h2l9w/til_corey_feldman_already_made_a_movie_about/',\n",
       " 'is_self': False}"
      ]
     },
     "execution_count": 10,
     "metadata": {},
     "output_type": "execute_result"
    }
   ],
   "source": [
    "df[\"_source\"][0]"
   ]
  },
  {
   "cell_type": "code",
   "execution_count": 11,
   "metadata": {},
   "outputs": [
    {
     "data": {
      "text/plain": [
       "count       325000\n",
       "unique      325000\n",
       "top       32646334\n",
       "freq             1\n",
       "Name: _id, dtype: object"
      ]
     },
     "execution_count": 11,
     "metadata": {},
     "output_type": "execute_result"
    }
   ],
   "source": [
    "df[\"_id\"].describe()"
   ]
  },
  {
   "cell_type": "code",
   "execution_count": 19,
   "metadata": {},
   "outputs": [
    {
     "name": "stderr",
     "output_type": "stream",
     "text": [
      "Scroll request has only succeeded on 36 shards out of 40.\n"
     ]
    },
    {
     "name": "stdout",
     "output_type": "stream",
     "text": [
      "Retrieved 119148 results in 40.9507s\n"
     ]
    }
   ],
   "source": [
    "start = time.time()\n",
    "results = get_ysk_in_title(1500000)\n",
    "end = time.time()\n",
    "print(\"Retrieved {} results in {:.4f}s\".format(len(results), end - start))"
   ]
  },
  {
   "cell_type": "code",
   "execution_count": 20,
   "metadata": {},
   "outputs": [],
   "source": [
    "df = pd.DataFrame(results)\n",
    "# df[\"_id\"].describe()\n",
    "df.drop_duplicates(\"_id\", inplace=True)\n",
    "dfn = json_normalize(df[\"_source\"])\n",
    "dfn.to_csv('ysk_title.csv', header='column_names')"
   ]
  },
  {
   "cell_type": "code",
   "execution_count": 21,
   "metadata": {},
   "outputs": [
    {
     "data": {
      "text/plain": [
       "{'thumbnail': 'default',\n",
       " 'mod_reports': [],\n",
       " 'author': '[deleted]',\n",
       " 'over_18': False,\n",
       " 'user_reports': [],\n",
       " 'title': 'YSK Useful Tips For A Rainy Day',\n",
       " 'report_reasons': None,\n",
       " 'subreddit': 'YouShouldKnow',\n",
       " 'subreddit_id': 4630776,\n",
       " 'url': 'http://molempire.com/2011/05/18/useful-tips-for-a-rainy-day/',\n",
       " 'num_comments': 2,\n",
       " 'score': 0,\n",
       " 'stickied': False,\n",
       " 'domain': 'molempire.com',\n",
       " 'retrieved_on': 1413178213,\n",
       " 'id': 72196576,\n",
       " 'created_utc': 1358766233,\n",
       " 'permalink': '/r/YouShouldKnow/comments/16zf8g/ysk_useful_tips_for_a_rainy_day/',\n",
       " 'is_self': False}"
      ]
     },
     "execution_count": 21,
     "metadata": {},
     "output_type": "execute_result"
    }
   ],
   "source": [
    "df[\"_source\"][0]"
   ]
  },
  {
   "cell_type": "code",
   "execution_count": 22,
   "metadata": {},
   "outputs": [
    {
     "data": {
      "text/plain": [
       "count         48537\n",
       "unique        48537\n",
       "top       472591046\n",
       "freq              1\n",
       "Name: _id, dtype: object"
      ]
     },
     "execution_count": 22,
     "metadata": {},
     "output_type": "execute_result"
    }
   ],
   "source": [
    "df[\"_id\"].describe()"
   ]
  },
  {
   "cell_type": "code",
   "execution_count": null,
   "metadata": {},
   "outputs": [],
   "source": []
  }
 ],
 "metadata": {
  "kernelspec": {
   "display_name": "fun-fax",
   "language": "python",
   "name": "fun-fax"
  },
  "language_info": {
   "codemirror_mode": {
    "name": "ipython",
    "version": 3
   },
   "file_extension": ".py",
   "mimetype": "text/x-python",
   "name": "python",
   "nbconvert_exporter": "python",
   "pygments_lexer": "ipython3",
   "version": "3.7.3"
  }
 },
 "nbformat": 4,
 "nbformat_minor": 2
}
